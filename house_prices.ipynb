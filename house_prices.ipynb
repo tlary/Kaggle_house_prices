{
  "nbformat": 4,
  "nbformat_minor": 0,
  "metadata": {
    "colab": {
      "name": "house_prices.ipynb",
      "version": "0.3.2",
      "provenance": []
    },
    "language_info": {
      "codemirror_mode": {
        "name": "ipython",
        "version": 3
      },
      "file_extension": ".py",
      "mimetype": "text/x-python",
      "name": "python",
      "nbconvert_exporter": "python",
      "pygments_lexer": "ipython3",
      "version": "3.7.3"
    },
    "kernelspec": {
      "display_name": "Python 3",
      "language": "python",
      "name": "python3"
    }
  },
  "cells": [
    {
      "cell_type": "markdown",
      "metadata": {
        "id": "huxG_oBA34r-",
        "colab_type": "text"
      },
      "source": [
        "# Kaggle House Prices Challenge"
      ]
    },
    {
      "cell_type": "markdown",
      "metadata": {
        "id": "KiqpRYLO34sK",
        "colab_type": "text"
      },
      "source": [
        "## House Prices: Advanced Regression Techniques\n",
        "\n",
        "Predict sales prices and practice feature engineering, RFs, and gradient boosting\n",
        "\n",
        "(Link: https://www.kaggle.com/c/house-prices-advanced-regression-techniques/overview)"
      ]
    },
    {
      "cell_type": "markdown",
      "metadata": {
        "id": "KbeIohHI34sP",
        "colab_type": "text"
      },
      "source": [
        "First, we start by importing the libraries needed for this project."
      ]
    },
    {
      "cell_type": "code",
      "metadata": {
        "id": "EE7j5m2V34sU",
        "colab_type": "code",
        "colab": {}
      },
      "source": [
        "import pandas as pd\n",
        "import numpy as np"
      ],
      "execution_count": 0,
      "outputs": []
    },
    {
      "cell_type": "markdown",
      "metadata": {
        "id": "lzn8XJfI34sl",
        "colab_type": "text"
      },
      "source": [
        "Loading the data into dataframes."
      ]
    },
    {
      "cell_type": "code",
      "metadata": {
        "id": "wvcujN4i34sp",
        "colab_type": "code",
        "colab": {}
      },
      "source": [
        "test = pd.read_csv(\"test.csv\")\n",
        "train = pd.read_csv(\"train.csv\")"
      ],
      "execution_count": 0,
      "outputs": []
    },
    {
      "cell_type": "code",
      "metadata": {
        "id": "ul4E9Oes34s2",
        "colab_type": "code",
        "colab": {
          "base_uri": "https://localhost:8080/",
          "height": 35
        },
        "outputId": "72ee979f-6c38-4965-860e-adbbc749560b"
      },
      "source": [
        "test.shape, train.shape"
      ],
      "execution_count": 4,
      "outputs": [
        {
          "output_type": "execute_result",
          "data": {
            "text/plain": [
              "((1459, 80), (1460, 81))"
            ]
          },
          "metadata": {
            "tags": []
          },
          "execution_count": 4
        }
      ]
    },
    {
      "cell_type": "code",
      "metadata": {
        "collapsed": true,
        "id": "z_y1O_xB34tQ",
        "colab_type": "code",
        "colab": {},
        "outputId": "08510cff-bcd5-4bc6-e44c-44b39faacde9"
      },
      "source": [
        "test.columns, train.columns"
      ],
      "execution_count": 0,
      "outputs": [
        {
          "output_type": "execute_result",
          "data": {
            "text/plain": [
              "(Index(['Id', 'MSSubClass', 'MSZoning', 'LotFrontage', 'LotArea', 'Street',\n",
              "        'Alley', 'LotShape', 'LandContour', 'Utilities', 'LotConfig',\n",
              "        'LandSlope', 'Neighborhood', 'Condition1', 'Condition2', 'BldgType',\n",
              "        'HouseStyle', 'OverallQual', 'OverallCond', 'YearBuilt', 'YearRemodAdd',\n",
              "        'RoofStyle', 'RoofMatl', 'Exterior1st', 'Exterior2nd', 'MasVnrType',\n",
              "        'MasVnrArea', 'ExterQual', 'ExterCond', 'Foundation', 'BsmtQual',\n",
              "        'BsmtCond', 'BsmtExposure', 'BsmtFinType1', 'BsmtFinSF1',\n",
              "        'BsmtFinType2', 'BsmtFinSF2', 'BsmtUnfSF', 'TotalBsmtSF', 'Heating',\n",
              "        'HeatingQC', 'CentralAir', 'Electrical', '1stFlrSF', '2ndFlrSF',\n",
              "        'LowQualFinSF', 'GrLivArea', 'BsmtFullBath', 'BsmtHalfBath', 'FullBath',\n",
              "        'HalfBath', 'BedroomAbvGr', 'KitchenAbvGr', 'KitchenQual',\n",
              "        'TotRmsAbvGrd', 'Functional', 'Fireplaces', 'FireplaceQu', 'GarageType',\n",
              "        'GarageYrBlt', 'GarageFinish', 'GarageCars', 'GarageArea', 'GarageQual',\n",
              "        'GarageCond', 'PavedDrive', 'WoodDeckSF', 'OpenPorchSF',\n",
              "        'EnclosedPorch', '3SsnPorch', 'ScreenPorch', 'PoolArea', 'PoolQC',\n",
              "        'Fence', 'MiscFeature', 'MiscVal', 'MoSold', 'YrSold', 'SaleType',\n",
              "        'SaleCondition'],\n",
              "       dtype='object'),\n",
              " Index(['Id', 'MSSubClass', 'MSZoning', 'LotFrontage', 'LotArea', 'Street',\n",
              "        'Alley', 'LotShape', 'LandContour', 'Utilities', 'LotConfig',\n",
              "        'LandSlope', 'Neighborhood', 'Condition1', 'Condition2', 'BldgType',\n",
              "        'HouseStyle', 'OverallQual', 'OverallCond', 'YearBuilt', 'YearRemodAdd',\n",
              "        'RoofStyle', 'RoofMatl', 'Exterior1st', 'Exterior2nd', 'MasVnrType',\n",
              "        'MasVnrArea', 'ExterQual', 'ExterCond', 'Foundation', 'BsmtQual',\n",
              "        'BsmtCond', 'BsmtExposure', 'BsmtFinType1', 'BsmtFinSF1',\n",
              "        'BsmtFinType2', 'BsmtFinSF2', 'BsmtUnfSF', 'TotalBsmtSF', 'Heating',\n",
              "        'HeatingQC', 'CentralAir', 'Electrical', '1stFlrSF', '2ndFlrSF',\n",
              "        'LowQualFinSF', 'GrLivArea', 'BsmtFullBath', 'BsmtHalfBath', 'FullBath',\n",
              "        'HalfBath', 'BedroomAbvGr', 'KitchenAbvGr', 'KitchenQual',\n",
              "        'TotRmsAbvGrd', 'Functional', 'Fireplaces', 'FireplaceQu', 'GarageType',\n",
              "        'GarageYrBlt', 'GarageFinish', 'GarageCars', 'GarageArea', 'GarageQual',\n",
              "        'GarageCond', 'PavedDrive', 'WoodDeckSF', 'OpenPorchSF',\n",
              "        'EnclosedPorch', '3SsnPorch', 'ScreenPorch', 'PoolArea', 'PoolQC',\n",
              "        'Fence', 'MiscFeature', 'MiscVal', 'MoSold', 'YrSold', 'SaleType',\n",
              "        'SaleCondition', 'SalePrice'],\n",
              "       dtype='object'))"
            ]
          },
          "metadata": {
            "tags": []
          },
          "execution_count": 7
        }
      ]
    },
    {
      "cell_type": "markdown",
      "metadata": {
        "id": "W1XPWi4Q34ti",
        "colab_type": "text"
      },
      "source": [
        "We can see that the test dataset contains one more variable compared to the train dataset - which is the \"SalePrice\" variable. In our analysis / prediction this serves as the dependent variable we want to predict given the houses' characteristics."
      ]
    },
    {
      "cell_type": "code",
      "metadata": {
        "collapsed": true,
        "id": "-a5jWlw734tm",
        "colab_type": "code",
        "colab": {},
        "outputId": "bbef1fa5-1286-40ce-845d-3f8e5161e1a4"
      },
      "source": [
        "train.SalePrice.describe()"
      ],
      "execution_count": 0,
      "outputs": [
        {
          "output_type": "execute_result",
          "data": {
            "text/plain": [
              "count      1460.000000\n",
              "mean     180921.195890\n",
              "std       79442.502883\n",
              "min       34900.000000\n",
              "25%      129975.000000\n",
              "50%      163000.000000\n",
              "75%      214000.000000\n",
              "max      755000.000000\n",
              "Name: SalePrice, dtype: float64"
            ]
          },
          "metadata": {
            "tags": []
          },
          "execution_count": 7
        }
      ]
    },
    {
      "cell_type": "markdown",
      "metadata": {
        "id": "twuT-h6w34t5",
        "colab_type": "text"
      },
      "source": [
        "## Data preprocessing and cleaning"
      ]
    },
    {
      "cell_type": "markdown",
      "metadata": {
        "id": "CDLUxnqE34t-",
        "colab_type": "text"
      },
      "source": [
        "We'll start the Data Cleaning by checking if the dependent variable in the test dataset contains any missing values."
      ]
    },
    {
      "cell_type": "code",
      "metadata": {
        "collapsed": true,
        "id": "fGZym2UE34uC",
        "colab_type": "code",
        "colab": {},
        "outputId": "30c4662a-ae1f-473a-f13a-44b1872032e4"
      },
      "source": [
        "train.SalePrice.isnull().sum()"
      ],
      "execution_count": 0,
      "outputs": [
        {
          "output_type": "execute_result",
          "data": {
            "text/plain": [
              "0"
            ]
          },
          "metadata": {
            "tags": []
          },
          "execution_count": 18
        }
      ]
    },
    {
      "cell_type": "markdown",
      "metadata": {
        "id": "vlniKhP_34uW",
        "colab_type": "text"
      },
      "source": [
        "All observations contain data for the target variable, therefore we can continue by taking a look at all the other variables contained in the train and test dataset."
      ]
    },
    {
      "cell_type": "code",
      "metadata": {
        "id": "usqO58Df34ua",
        "colab_type": "code",
        "colab": {}
      },
      "source": [
        "miss_count_train = train.isnull().sum().sort_values(ascending=False)\n",
        "perc_miss_train = (train.isnull().sum()/train.isnull().count()).sort_values(ascending=False)\n",
        "missings_train = pd.concat([miss_count_train, perc_miss_train], axis=1, keys=[\"Total\", \"Percent\"])\n",
        "\n",
        "miss_count_test = test.isnull().sum().sort_values(ascending=False)\n",
        "perc_miss_test = (test.isnull().sum() / test.isnull().count()).sort_values(ascending=False)\n",
        "missings_test = pd.concat([miss_count_test, perc_miss_test], axis=1, keys=[\"Total\", \"Percent\"])"
      ],
      "execution_count": 0,
      "outputs": []
    },
    {
      "cell_type": "code",
      "metadata": {
        "collapsed": true,
        "id": "NiPA3qGA34up",
        "colab_type": "code",
        "colab": {},
        "outputId": "ea3a3d6f-6e92-4e79-f1e2-f688e06f0a25"
      },
      "source": [
        "missings_train.head(20)"
      ],
      "execution_count": 0,
      "outputs": [
        {
          "output_type": "execute_result",
          "data": {
            "text/html": [
              "<div>\n",
              "<style scoped>\n",
              "    .dataframe tbody tr th:only-of-type {\n",
              "        vertical-align: middle;\n",
              "    }\n",
              "\n",
              "    .dataframe tbody tr th {\n",
              "        vertical-align: top;\n",
              "    }\n",
              "\n",
              "    .dataframe thead th {\n",
              "        text-align: right;\n",
              "    }\n",
              "</style>\n",
              "<table border=\"1\" class=\"dataframe\">\n",
              "  <thead>\n",
              "    <tr style=\"text-align: right;\">\n",
              "      <th></th>\n",
              "      <th>Total</th>\n",
              "      <th>Percent</th>\n",
              "    </tr>\n",
              "  </thead>\n",
              "  <tbody>\n",
              "    <tr>\n",
              "      <th>PoolQC</th>\n",
              "      <td>1453</td>\n",
              "      <td>0.995205</td>\n",
              "    </tr>\n",
              "    <tr>\n",
              "      <th>MiscFeature</th>\n",
              "      <td>1406</td>\n",
              "      <td>0.963014</td>\n",
              "    </tr>\n",
              "    <tr>\n",
              "      <th>Alley</th>\n",
              "      <td>1369</td>\n",
              "      <td>0.937671</td>\n",
              "    </tr>\n",
              "    <tr>\n",
              "      <th>Fence</th>\n",
              "      <td>1179</td>\n",
              "      <td>0.807534</td>\n",
              "    </tr>\n",
              "    <tr>\n",
              "      <th>FireplaceQu</th>\n",
              "      <td>690</td>\n",
              "      <td>0.472603</td>\n",
              "    </tr>\n",
              "    <tr>\n",
              "      <th>LotFrontage</th>\n",
              "      <td>259</td>\n",
              "      <td>0.177397</td>\n",
              "    </tr>\n",
              "    <tr>\n",
              "      <th>GarageCond</th>\n",
              "      <td>81</td>\n",
              "      <td>0.055479</td>\n",
              "    </tr>\n",
              "    <tr>\n",
              "      <th>GarageType</th>\n",
              "      <td>81</td>\n",
              "      <td>0.055479</td>\n",
              "    </tr>\n",
              "    <tr>\n",
              "      <th>GarageYrBlt</th>\n",
              "      <td>81</td>\n",
              "      <td>0.055479</td>\n",
              "    </tr>\n",
              "    <tr>\n",
              "      <th>GarageFinish</th>\n",
              "      <td>81</td>\n",
              "      <td>0.055479</td>\n",
              "    </tr>\n",
              "    <tr>\n",
              "      <th>GarageQual</th>\n",
              "      <td>81</td>\n",
              "      <td>0.055479</td>\n",
              "    </tr>\n",
              "    <tr>\n",
              "      <th>BsmtExposure</th>\n",
              "      <td>38</td>\n",
              "      <td>0.026027</td>\n",
              "    </tr>\n",
              "    <tr>\n",
              "      <th>BsmtFinType2</th>\n",
              "      <td>38</td>\n",
              "      <td>0.026027</td>\n",
              "    </tr>\n",
              "    <tr>\n",
              "      <th>BsmtFinType1</th>\n",
              "      <td>37</td>\n",
              "      <td>0.025342</td>\n",
              "    </tr>\n",
              "    <tr>\n",
              "      <th>BsmtCond</th>\n",
              "      <td>37</td>\n",
              "      <td>0.025342</td>\n",
              "    </tr>\n",
              "    <tr>\n",
              "      <th>BsmtQual</th>\n",
              "      <td>37</td>\n",
              "      <td>0.025342</td>\n",
              "    </tr>\n",
              "    <tr>\n",
              "      <th>MasVnrArea</th>\n",
              "      <td>8</td>\n",
              "      <td>0.005479</td>\n",
              "    </tr>\n",
              "    <tr>\n",
              "      <th>MasVnrType</th>\n",
              "      <td>8</td>\n",
              "      <td>0.005479</td>\n",
              "    </tr>\n",
              "    <tr>\n",
              "      <th>Electrical</th>\n",
              "      <td>1</td>\n",
              "      <td>0.000685</td>\n",
              "    </tr>\n",
              "    <tr>\n",
              "      <th>Utilities</th>\n",
              "      <td>0</td>\n",
              "      <td>0.000000</td>\n",
              "    </tr>\n",
              "  </tbody>\n",
              "</table>\n",
              "</div>"
            ],
            "text/plain": [
              "              Total   Percent\n",
              "PoolQC         1453  0.995205\n",
              "MiscFeature    1406  0.963014\n",
              "Alley          1369  0.937671\n",
              "Fence          1179  0.807534\n",
              "FireplaceQu     690  0.472603\n",
              "LotFrontage     259  0.177397\n",
              "GarageCond       81  0.055479\n",
              "GarageType       81  0.055479\n",
              "GarageYrBlt      81  0.055479\n",
              "GarageFinish     81  0.055479\n",
              "GarageQual       81  0.055479\n",
              "BsmtExposure     38  0.026027\n",
              "BsmtFinType2     38  0.026027\n",
              "BsmtFinType1     37  0.025342\n",
              "BsmtCond         37  0.025342\n",
              "BsmtQual         37  0.025342\n",
              "MasVnrArea        8  0.005479\n",
              "MasVnrType        8  0.005479\n",
              "Electrical        1  0.000685\n",
              "Utilities         0  0.000000"
            ]
          },
          "metadata": {
            "tags": []
          },
          "execution_count": 10
        }
      ]
    },
    {
      "cell_type": "code",
      "metadata": {
        "collapsed": true,
        "id": "fdqdss0c34u6",
        "colab_type": "code",
        "colab": {},
        "outputId": "9a373e30-e740-4e7d-ea9b-961a7b106475"
      },
      "source": [
        "missings_test.head(20)"
      ],
      "execution_count": 0,
      "outputs": [
        {
          "output_type": "execute_result",
          "data": {
            "text/html": [
              "<div>\n",
              "<style scoped>\n",
              "    .dataframe tbody tr th:only-of-type {\n",
              "        vertical-align: middle;\n",
              "    }\n",
              "\n",
              "    .dataframe tbody tr th {\n",
              "        vertical-align: top;\n",
              "    }\n",
              "\n",
              "    .dataframe thead th {\n",
              "        text-align: right;\n",
              "    }\n",
              "</style>\n",
              "<table border=\"1\" class=\"dataframe\">\n",
              "  <thead>\n",
              "    <tr style=\"text-align: right;\">\n",
              "      <th></th>\n",
              "      <th>Total</th>\n",
              "      <th>Percent</th>\n",
              "    </tr>\n",
              "  </thead>\n",
              "  <tbody>\n",
              "    <tr>\n",
              "      <th>PoolQC</th>\n",
              "      <td>1456</td>\n",
              "      <td>0.997944</td>\n",
              "    </tr>\n",
              "    <tr>\n",
              "      <th>MiscFeature</th>\n",
              "      <td>1408</td>\n",
              "      <td>0.965045</td>\n",
              "    </tr>\n",
              "    <tr>\n",
              "      <th>Alley</th>\n",
              "      <td>1352</td>\n",
              "      <td>0.926662</td>\n",
              "    </tr>\n",
              "    <tr>\n",
              "      <th>Fence</th>\n",
              "      <td>1169</td>\n",
              "      <td>0.801234</td>\n",
              "    </tr>\n",
              "    <tr>\n",
              "      <th>FireplaceQu</th>\n",
              "      <td>730</td>\n",
              "      <td>0.500343</td>\n",
              "    </tr>\n",
              "    <tr>\n",
              "      <th>LotFrontage</th>\n",
              "      <td>227</td>\n",
              "      <td>0.155586</td>\n",
              "    </tr>\n",
              "    <tr>\n",
              "      <th>GarageCond</th>\n",
              "      <td>78</td>\n",
              "      <td>0.053461</td>\n",
              "    </tr>\n",
              "    <tr>\n",
              "      <th>GarageQual</th>\n",
              "      <td>78</td>\n",
              "      <td>0.053461</td>\n",
              "    </tr>\n",
              "    <tr>\n",
              "      <th>GarageYrBlt</th>\n",
              "      <td>78</td>\n",
              "      <td>0.053461</td>\n",
              "    </tr>\n",
              "    <tr>\n",
              "      <th>GarageFinish</th>\n",
              "      <td>78</td>\n",
              "      <td>0.053461</td>\n",
              "    </tr>\n",
              "    <tr>\n",
              "      <th>GarageType</th>\n",
              "      <td>76</td>\n",
              "      <td>0.052090</td>\n",
              "    </tr>\n",
              "    <tr>\n",
              "      <th>BsmtCond</th>\n",
              "      <td>45</td>\n",
              "      <td>0.030843</td>\n",
              "    </tr>\n",
              "    <tr>\n",
              "      <th>BsmtQual</th>\n",
              "      <td>44</td>\n",
              "      <td>0.030158</td>\n",
              "    </tr>\n",
              "    <tr>\n",
              "      <th>BsmtExposure</th>\n",
              "      <td>44</td>\n",
              "      <td>0.030158</td>\n",
              "    </tr>\n",
              "    <tr>\n",
              "      <th>BsmtFinType1</th>\n",
              "      <td>42</td>\n",
              "      <td>0.028787</td>\n",
              "    </tr>\n",
              "    <tr>\n",
              "      <th>BsmtFinType2</th>\n",
              "      <td>42</td>\n",
              "      <td>0.028787</td>\n",
              "    </tr>\n",
              "    <tr>\n",
              "      <th>MasVnrType</th>\n",
              "      <td>16</td>\n",
              "      <td>0.010966</td>\n",
              "    </tr>\n",
              "    <tr>\n",
              "      <th>MasVnrArea</th>\n",
              "      <td>15</td>\n",
              "      <td>0.010281</td>\n",
              "    </tr>\n",
              "    <tr>\n",
              "      <th>MSZoning</th>\n",
              "      <td>4</td>\n",
              "      <td>0.002742</td>\n",
              "    </tr>\n",
              "    <tr>\n",
              "      <th>BsmtHalfBath</th>\n",
              "      <td>2</td>\n",
              "      <td>0.001371</td>\n",
              "    </tr>\n",
              "  </tbody>\n",
              "</table>\n",
              "</div>"
            ],
            "text/plain": [
              "              Total   Percent\n",
              "PoolQC         1456  0.997944\n",
              "MiscFeature    1408  0.965045\n",
              "Alley          1352  0.926662\n",
              "Fence          1169  0.801234\n",
              "FireplaceQu     730  0.500343\n",
              "LotFrontage     227  0.155586\n",
              "GarageCond       78  0.053461\n",
              "GarageQual       78  0.053461\n",
              "GarageYrBlt      78  0.053461\n",
              "GarageFinish     78  0.053461\n",
              "GarageType       76  0.052090\n",
              "BsmtCond         45  0.030843\n",
              "BsmtQual         44  0.030158\n",
              "BsmtExposure     44  0.030158\n",
              "BsmtFinType1     42  0.028787\n",
              "BsmtFinType2     42  0.028787\n",
              "MasVnrType       16  0.010966\n",
              "MasVnrArea       15  0.010281\n",
              "MSZoning          4  0.002742\n",
              "BsmtHalfBath      2  0.001371"
            ]
          },
          "metadata": {
            "tags": []
          },
          "execution_count": 78
        }
      ]
    },
    {
      "cell_type": "markdown",
      "metadata": {
        "id": "Q0HIq4h-34vK",
        "colab_type": "text"
      },
      "source": [
        "As a rule of thumb we completely ignore columns that contain at least 15% missing values and will not try to impute the missing values with any kind of computation, e.g. using means. Therefore, we will delete the variables \"PoolQC\", \"MiscFeature\", \"Alley\", \"Fence\", \"FireplaceQu\" and \"LotFrontage\"."
      ]
    },
    {
      "cell_type": "code",
      "metadata": {
        "id": "gPYMR1s934vO",
        "colab_type": "code",
        "colab": {}
      },
      "source": [
        "train = train.drop(columns=[\"PoolQC\", \"MiscFeature\", \"Alley\", \"Fence\", \"FireplaceQu\", \"LotFrontage\"])"
      ],
      "execution_count": 0,
      "outputs": []
    },
    {
      "cell_type": "markdown",
      "metadata": {
        "id": "j_eQIwGY34vZ",
        "colab_type": "text"
      },
      "source": [
        "The variables \"GarageCond\", \"GarageType\", \"GarageQual\", \"GarageYrBlt\" and \"GarageFinish\" contain exactly the same number of missing values, which seems kind of odd. Therefore, we'll take a closer look at these variables."
      ]
    },
    {
      "cell_type": "code",
      "metadata": {
        "collapsed": true,
        "id": "VnCIfQNl34vd",
        "colab_type": "code",
        "colab": {},
        "outputId": "e9c2d9ec-4fe5-4f93-ba64-f6d52ebd3543"
      },
      "source": [
        "for var in [\"GarageCond\", \"GarageType\", \"GarageQual\", \"GarageYrBlt\", \"GarageFinish\"]:\n",
        "    print(pd.crosstab(index=train[var], columns=\"count\"))"
      ],
      "execution_count": 0,
      "outputs": [
        {
          "output_type": "stream",
          "text": [
            "col_0       count\n",
            "GarageCond       \n",
            "Ex              2\n",
            "Fa             35\n",
            "Gd              9\n",
            "Po              7\n",
            "TA           1326\n",
            "col_0       count\n",
            "GarageType       \n",
            "2Types          6\n",
            "Attchd        870\n",
            "Basment        19\n",
            "BuiltIn        88\n",
            "CarPort         9\n",
            "Detchd        387\n",
            "col_0       count\n",
            "GarageQual       \n",
            "Ex              3\n",
            "Fa             48\n",
            "Gd             14\n",
            "Po              3\n",
            "TA           1311\n",
            "col_0        count\n",
            "GarageYrBlt       \n",
            "1900.0           1\n",
            "1906.0           1\n",
            "1908.0           1\n",
            "1910.0           3\n",
            "1914.0           2\n",
            "1915.0           2\n",
            "1916.0           5\n",
            "1918.0           2\n",
            "1920.0          14\n",
            "1921.0           3\n",
            "1922.0           5\n",
            "1923.0           3\n",
            "1924.0           3\n",
            "1925.0          10\n",
            "1926.0           6\n",
            "1927.0           1\n",
            "1928.0           4\n",
            "1929.0           2\n",
            "1930.0           8\n",
            "1931.0           4\n",
            "1932.0           3\n",
            "1933.0           1\n",
            "1934.0           2\n",
            "1935.0           4\n",
            "1936.0           5\n",
            "1937.0           2\n",
            "1938.0           3\n",
            "1939.0           9\n",
            "1940.0          14\n",
            "1941.0          10\n",
            "...            ...\n",
            "1981.0          10\n",
            "1982.0           4\n",
            "1983.0           7\n",
            "1984.0           8\n",
            "1985.0          10\n",
            "1986.0           6\n",
            "1987.0          11\n",
            "1988.0          14\n",
            "1989.0          10\n",
            "1990.0          16\n",
            "1991.0           9\n",
            "1992.0          13\n",
            "1993.0          22\n",
            "1994.0          18\n",
            "1995.0          18\n",
            "1996.0          20\n",
            "1997.0          19\n",
            "1998.0          31\n",
            "1999.0          30\n",
            "2000.0          27\n",
            "2001.0          20\n",
            "2002.0          26\n",
            "2003.0          50\n",
            "2004.0          53\n",
            "2005.0          65\n",
            "2006.0          59\n",
            "2007.0          49\n",
            "2008.0          29\n",
            "2009.0          21\n",
            "2010.0           3\n",
            "\n",
            "[97 rows x 1 columns]\n",
            "col_0         count\n",
            "GarageFinish       \n",
            "Fin             352\n",
            "RFn             422\n",
            "Unf             605\n"
          ],
          "name": "stdout"
        }
      ]
    },
    {
      "cell_type": "markdown",
      "metadata": {
        "id": "CyNYazDC34vu",
        "colab_type": "text"
      },
      "source": [
        "We can see that for \"GarageCond\" and \"GarageQual\" the most frequently occurring value is \"TA\", which means that the condition and quality of the garages are average/typical. We will replace the missing values of these two variables therefore with \"TA\" as well. The variable \"GarageYrBlt\" refers to the year in which the garage was built. Since we also have the year in which the houses themselves are built we can drop this variable without losing much explaining information. In addition to that we also drop the \"GarageFinish\" and \"GarageType\" variable."
      ]
    },
    {
      "cell_type": "code",
      "metadata": {
        "id": "DRYyQcRR34vy",
        "colab_type": "code",
        "colab": {}
      },
      "source": [
        "train = train.drop(columns=[\"GarageYrBlt\", \"GarageFinish\", \"GarageType\"])\n",
        "train[\"GarageCond\"] = train.GarageCond.fillna(value=\"TA\")\n",
        "train[\"GarageQual\"] = train.GarageQual.fillna(value=\"TA\")"
      ],
      "execution_count": 0,
      "outputs": []
    },
    {
      "cell_type": "markdown",
      "metadata": {
        "id": "ifXlBAh634v9",
        "colab_type": "text"
      },
      "source": [
        "In the same way as above we take a closer look at the \"Bsmt*\" variables."
      ]
    },
    {
      "cell_type": "code",
      "metadata": {
        "collapsed": true,
        "id": "eE6hYxpd34wE",
        "colab_type": "code",
        "colab": {},
        "outputId": "57ac7ed3-7adc-40dc-fc62-5c8ddf37fee1"
      },
      "source": [
        "for var in [\"BsmtFinType2\", \"BsmtExposure\", \"BsmtCond\", \"BsmtFinType1\", \"BsmtQual\"]:\n",
        "    print(pd.crosstab(index=train[var], columns=\"count\"))"
      ],
      "execution_count": 0,
      "outputs": [
        {
          "output_type": "stream",
          "text": [
            "col_0         count\n",
            "BsmtFinType2       \n",
            "ALQ              19\n",
            "BLQ              33\n",
            "GLQ              14\n",
            "LwQ              46\n",
            "Rec              54\n",
            "Unf            1256\n",
            "col_0         count\n",
            "BsmtExposure       \n",
            "Av              221\n",
            "Gd              134\n",
            "Mn              114\n",
            "No              953\n",
            "col_0     count\n",
            "BsmtCond       \n",
            "Fa           45\n",
            "Gd           65\n",
            "Po            2\n",
            "TA         1311\n",
            "col_0         count\n",
            "BsmtFinType1       \n",
            "ALQ             220\n",
            "BLQ             148\n",
            "GLQ             418\n",
            "LwQ              74\n",
            "Rec             133\n",
            "Unf             430\n",
            "col_0     count\n",
            "BsmtQual       \n",
            "Ex          121\n",
            "Fa           35\n",
            "Gd          618\n",
            "TA          649\n"
          ],
          "name": "stdout"
        }
      ]
    },
    {
      "cell_type": "markdown",
      "metadata": {
        "id": "HjiroONH34wL",
        "colab_type": "text"
      },
      "source": [
        "We delete the \"BsmtFinType*\" variables since these are highly subjective and do not add much information to our model. The missing values of \"BsmtCond\" will be imputed with the most common value \"TA\". The rows containing missing values for \"BsmtQual\" and \"BsmtExposure\" will be deleted from the dataset."
      ]
    },
    {
      "cell_type": "code",
      "metadata": {
        "id": "47K32pcX34wO",
        "colab_type": "code",
        "colab": {}
      },
      "source": [
        "train = train.drop(columns=[\"BsmtFinType1\", \"BsmtFinType2\"])\n",
        "train.BsmtCond = train[\"BsmtCond\"].fillna(value=\"TA\")\n",
        "for var in [\"BsmtQual\", \"BsmtExposure\"]:\n",
        "    train = train.drop(train.loc[train[var].isnull()].index)"
      ],
      "execution_count": 0,
      "outputs": []
    },
    {
      "cell_type": "markdown",
      "metadata": {
        "id": "aBqT3Xpy34wS",
        "colab_type": "text"
      },
      "source": [
        "The variable \"Electrical\" contains only 1 missing value, therefore we only delete this specific row of data. We proceed in the same way with \"MasVnrType\" and \"MasVnrArea\"."
      ]
    },
    {
      "cell_type": "code",
      "metadata": {
        "id": "ywH5kGKi34wV",
        "colab_type": "code",
        "colab": {}
      },
      "source": [
        "for var in [\"Electrical\", \"MasVnrType\", \"MasVnrArea\"]:\n",
        "    train = train.drop(train.loc[train[var].isnull()].index)"
      ],
      "execution_count": 0,
      "outputs": []
    },
    {
      "cell_type": "markdown",
      "metadata": {
        "id": "EDFVlGh634wa",
        "colab_type": "text"
      },
      "source": [
        "Running the above code again to check if all missing values are deleted."
      ]
    },
    {
      "cell_type": "code",
      "metadata": {
        "collapsed": true,
        "id": "vrrDbEEV34wb",
        "colab_type": "code",
        "colab": {}
      },
      "source": [
        "miss_count_train = train.isnull().sum().sort_values(ascending=False)\n",
        "perc_miss_train = (train.isnull().sum()/train.isnull().count()).sort_values(ascending=False)\n",
        "missings_train = pd.concat([miss_count_train, perc_miss_train], axis=1, keys=[\"Total\", \"Percent\"])\n",
        "missings_train"
      ],
      "execution_count": 0,
      "outputs": []
    },
    {
      "cell_type": "markdown",
      "metadata": {
        "id": "fdaOnbm834wh",
        "colab_type": "text"
      },
      "source": [
        "This looks good.\n",
        "\n",
        "We now handled all the missing data on the training set. As the next step we will clean the test data. Since we want to evaluate our model on Kaggle after finishing the modeling, we cannot drop any observations because we need predicted house prices for each row of the test data. Therefore, we will impute the missing data in the test dataset with the most frequent category for categorical features and the mean for numerical features."
      ]
    },
    {
      "cell_type": "code",
      "metadata": {
        "id": "T07BcebQ34wi",
        "colab_type": "code",
        "colab": {}
      },
      "source": [
        "test = test.drop(columns=[\"PoolQC\", \"MiscFeature\", \"Alley\", \"Fence\", \"FireplaceQu\", \"LotFrontage\"])\n",
        "test = test.drop(columns=[\"GarageYrBlt\", \"GarageFinish\", \"GarageType\"])\n",
        "test[\"GarageCond\"] = test.GarageCond.fillna(value=\"TA\")\n",
        "test[\"GarageQual\"] = test.GarageQual.fillna(value=\"TA\")\n",
        "test = test.drop(columns=[\"BsmtFinType1\", \"BsmtFinType2\"])\n",
        "test.BsmtCond = test[\"BsmtCond\"].fillna(value=\"TA\")\n"
      ],
      "execution_count": 0,
      "outputs": []
    },
    {
      "cell_type": "code",
      "metadata": {
        "id": "K9j5QhK034wo",
        "colab_type": "code",
        "colab": {
          "base_uri": "https://localhost:8080/",
          "height": 35
        },
        "outputId": "7d2a93cb-2bb6-4472-b3e5-07ef174a52b5"
      },
      "source": [
        "test.shape, train.shape"
      ],
      "execution_count": 11,
      "outputs": [
        {
          "output_type": "execute_result",
          "data": {
            "text/plain": [
              "((1459, 69), (1413, 70))"
            ]
          },
          "metadata": {
            "tags": []
          },
          "execution_count": 11
        }
      ]
    },
    {
      "cell_type": "code",
      "metadata": {
        "id": "AQ02w-JV34wv",
        "colab_type": "code",
        "colab": {}
      },
      "source": [
        "# categorical:\n",
        "for var in [\"BsmtExposure\", \"BsmtQual\", \"MasVnrType\", \"MSZoning\", \"Utilities\", \"Functional\", \"SaleType\", \"Exterior2nd\", \"Exterior1st\", \"KitchenQual\"]:\n",
        "    test[var] = test[var].fillna(value=test[var].value_counts().index[0])\n",
        "\n",
        "# numerical\n",
        "for var in [\"MasVnrArea\", \"BsmtHalfBath\", \"BsmtFullBath\", \"BsmtUnfSF\", \"GarageArea\", \"GarageCars\", \"BsmtFinSF1\", \"BsmtFinSF2\", \"TotalBsmtSF\"]:\n",
        "    test[var] = test[var].fillna(test[var].mean())"
      ],
      "execution_count": 0,
      "outputs": []
    },
    {
      "cell_type": "code",
      "metadata": {
        "id": "tUcKwJKs34wy",
        "colab_type": "code",
        "colab": {}
      },
      "source": [
        "miss_count_test = test.isnull().sum().sort_values(ascending=False)\n",
        "perc_miss_test = (test.isnull().sum() / test.isnull().count()).sort_values(ascending=False)\n",
        "missings_test = pd.concat([miss_count_test, perc_miss_test], axis=1, keys=[\"Total\", \"Percent\"])\n",
        "missings_test"
      ],
      "execution_count": 0,
      "outputs": []
    },
    {
      "cell_type": "code",
      "metadata": {
        "id": "R8g62-3534w6",
        "colab_type": "code",
        "colab": {
          "base_uri": "https://localhost:8080/",
          "height": 35
        },
        "outputId": "8a3bf692-5d6c-40fc-e606-5c61b3223b54"
      },
      "source": [
        "test.shape"
      ],
      "execution_count": 14,
      "outputs": [
        {
          "output_type": "execute_result",
          "data": {
            "text/plain": [
              "(1459, 69)"
            ]
          },
          "metadata": {
            "tags": []
          },
          "execution_count": 14
        }
      ]
    },
    {
      "cell_type": "markdown",
      "metadata": {
        "id": "BhEJ_0_Z34w_",
        "colab_type": "text"
      },
      "source": [
        "Perfect. We do not have any missing values in our test set anymore and have kept all observations, for which we gonna predict the House Sale Price."
      ]
    },
    {
      "cell_type": "markdown",
      "metadata": {
        "id": "HueY6oIk34xA",
        "colab_type": "text"
      },
      "source": [
        "## Model selection "
      ]
    },
    {
      "cell_type": "markdown",
      "metadata": {
        "id": "eKl7YTLZ34xA",
        "colab_type": "text"
      },
      "source": [
        "We continue by building a Machine Learning Pipeline using Scikit Learn. A pipeline object sequentially applies a list of transformers and a final estimator. \n",
        "\n",
        "\n",
        "We will play around with different algorithms, tune their hyperparameters using Cross Validation and pick the best performing one."
      ]
    },
    {
      "cell_type": "markdown",
      "metadata": {
        "id": "FRWuz3DG34xD",
        "colab_type": "text"
      },
      "source": [
        "To make predictions and to fit models, the last step that has to be done is to convert all categorical features into numeric ones. This way scikit-learn can handle them. We do this by using pandas get_dummies() function."
      ]
    },
    {
      "cell_type": "code",
      "metadata": {
        "id": "m8pstHC-34xE",
        "colab_type": "code",
        "colab": {
          "base_uri": "https://localhost:8080/",
          "height": 35
        },
        "outputId": "adc0ca4a-55f9-477e-de68-594041e1c18f"
      },
      "source": [
        "train = pd.get_dummies(train, drop_first=True)\n",
        "test = pd.get_dummies(test, drop_first=True)\n",
        "train.shape, test.shape"
      ],
      "execution_count": 15,
      "outputs": [
        {
          "output_type": "execute_result",
          "data": {
            "text/plain": [
              "((1413, 211), (1459, 198))"
            ]
          },
          "metadata": {
            "tags": []
          },
          "execution_count": 15
        }
      ]
    },
    {
      "cell_type": "markdown",
      "metadata": {
        "id": "fExfQFwJ34xI",
        "colab_type": "text"
      },
      "source": [
        "Before we can work with our data, we first need to create separate dataframes containing our feature variables and the target variable. This needs to be done only for our training data since it is our aim to predict SalePrice for the test data, which is why it is not contained in this data."
      ]
    },
    {
      "cell_type": "code",
      "metadata": {
        "id": "h20mFVWB34xK",
        "colab_type": "code",
        "colab": {}
      },
      "source": [
        "y = train.SalePrice.values\n",
        "X = train.drop(\"SalePrice\", axis=1).values"
      ],
      "execution_count": 0,
      "outputs": []
    },
    {
      "cell_type": "markdown",
      "metadata": {
        "id": "rbWy5YCa34xN",
        "colab_type": "text"
      },
      "source": [
        "Before training and tuning our models we separate the data into training and test data to evaluate our models."
      ]
    },
    {
      "cell_type": "code",
      "metadata": {
        "id": "fcheSZ1s34xO",
        "colab_type": "code",
        "colab": {}
      },
      "source": [
        "from sklearn.model_selection import train_test_split\n",
        "X_train, X_test, y_train, y_test = train_test_split(X, y, test_size=0.2, random_state=123)"
      ],
      "execution_count": 0,
      "outputs": []
    },
    {
      "cell_type": "code",
      "metadata": {
        "id": "WdjJ2X5B34xR",
        "colab_type": "code",
        "colab": {
          "base_uri": "https://localhost:8080/",
          "height": 35
        },
        "outputId": "cdc2bd3c-dbda-43e3-fc74-f50ae445ae55"
      },
      "source": [
        "X_train.shape, X_test.shape, y_train.shape, y_test.shape"
      ],
      "execution_count": 18,
      "outputs": [
        {
          "output_type": "execute_result",
          "data": {
            "text/plain": [
              "((1130, 210), (283, 210), (1130,), (283,))"
            ]
          },
          "metadata": {
            "tags": []
          },
          "execution_count": 18
        }
      ]
    },
    {
      "cell_type": "markdown",
      "metadata": {
        "id": "Y34SIsSE34xX",
        "colab_type": "text"
      },
      "source": [
        " ### k-nearest Neighbors (KNN)"
      ]
    },
    {
      "cell_type": "markdown",
      "metadata": {
        "id": "HeD_xQ7F34xZ",
        "colab_type": "text"
      },
      "source": [
        "We will start with a relatively simple algorithm - k-nearest Neighbor or KNN."
      ]
    },
    {
      "cell_type": "code",
      "metadata": {
        "id": "cf2getAk34xa",
        "colab_type": "code",
        "colab": {}
      },
      "source": [
        "from sklearn import preprocessing\n",
        "from sklearn.neighbors import KNeighborsRegressor\n",
        "from sklearn.model_selection import GridSearchCV\n",
        "from sklearn.pipeline import Pipeline"
      ],
      "execution_count": 0,
      "outputs": []
    },
    {
      "cell_type": "markdown",
      "metadata": {
        "id": "Rok4x3bD34xd",
        "colab_type": "text"
      },
      "source": [
        "Looking at the data, we notice that are our feature variables' ranges vary substantially between each other. Therefore we will add a transformer to our pipeline which standardizes the data. Standardization centers each variable around zero with unit variance. This is done by subtracting the means from each feature and dividing by its standard deviation.\n",
        "\n",
        "After that we instantiate our KNN estimator, create a list containing the steps applied by the pipeline and then defining the pipeline."
      ]
    },
    {
      "cell_type": "code",
      "metadata": {
        "id": "MU9kzrbr34xe",
        "colab_type": "code",
        "colab": {}
      },
      "source": [
        "# instantiate the scaling transformator \n",
        "scaler = preprocessing.StandardScaler()\n",
        "# instantiate the KNN estimator\n",
        "knn = KNeighborsRegressor(n_neighbors=10)\n",
        "# creating a list containing the steps the pipeline is to apply\n",
        "steps_knn =  [(\"scaler\", scaler), (\"knn\", knn)]\n",
        "# define the pipeline object\n",
        "pipeline_knn = Pipeline(steps_knn)"
      ],
      "execution_count": 0,
      "outputs": []
    },
    {
      "cell_type": "markdown",
      "metadata": {
        "id": "HMEhD38F34xk",
        "colab_type": "text"
      },
      "source": [
        "The KNN algorithm has one parameter that can and should be tuned, which is the number of neighbors that should be considered. We will therefore define a dictionary containing all hyperparameters that should be tuned and define the different values that should be tested."
      ]
    },
    {
      "cell_type": "code",
      "metadata": {
        "id": "OXO70KLy34xl",
        "colab_type": "code",
        "colab": {}
      },
      "source": [
        "neighbors = {\"knn__n_neighbors\":list(range(1,21))}"
      ],
      "execution_count": 0,
      "outputs": []
    },
    {
      "cell_type": "markdown",
      "metadata": {
        "id": "er7EuAaD34xo",
        "colab_type": "text"
      },
      "source": [
        "Next we are gonna set up our Cross Validation (CV) object using 5-fold CV and fit it to our data."
      ]
    },
    {
      "cell_type": "code",
      "metadata": {
        "id": "QPyilhSr34xp",
        "colab_type": "code",
        "colab": {}
      },
      "source": [
        "cv_knn = GridSearchCV(pipeline_knn, neighbors, cv=5)"
      ],
      "execution_count": 0,
      "outputs": []
    },
    {
      "cell_type": "code",
      "metadata": {
        "id": "98OXx6yB34xt",
        "colab_type": "code",
        "colab": {
          "base_uri": "https://localhost:8080/",
          "height": 381
        },
        "outputId": "5836f1c3-8def-43d9-cb8f-77c9dcec87a7"
      },
      "source": [
        "cv_knn.fit(X_train, y_train)"
      ],
      "execution_count": 23,
      "outputs": [
        {
          "output_type": "execute_result",
          "data": {
            "text/plain": [
              "GridSearchCV(cv=5, error_score='raise-deprecating',\n",
              "             estimator=Pipeline(memory=None,\n",
              "                                steps=[('scaler',\n",
              "                                        StandardScaler(copy=True,\n",
              "                                                       with_mean=True,\n",
              "                                                       with_std=True)),\n",
              "                                       ('knn',\n",
              "                                        KNeighborsRegressor(algorithm='auto',\n",
              "                                                            leaf_size=30,\n",
              "                                                            metric='minkowski',\n",
              "                                                            metric_params=None,\n",
              "                                                            n_jobs=None,\n",
              "                                                            n_neighbors=10, p=2,\n",
              "                                                            weights='uniform'))],\n",
              "                                verbose=False),\n",
              "             iid='warn', n_jobs=None,\n",
              "             param_grid={'knn__n_neighbors': [1, 2, 3, 4, 5, 6, 7, 8, 9, 10, 11,\n",
              "                                              12, 13, 14, 15, 16, 17, 18, 19,\n",
              "                                              20]},\n",
              "             pre_dispatch='2*n_jobs', refit=True, return_train_score=False,\n",
              "             scoring=None, verbose=0)"
            ]
          },
          "metadata": {
            "tags": []
          },
          "execution_count": 23
        }
      ]
    },
    {
      "cell_type": "code",
      "metadata": {
        "id": "tGoyZJFV34x1",
        "colab_type": "code",
        "colab": {
          "base_uri": "https://localhost:8080/",
          "height": 35
        },
        "outputId": "b7b5971d-c119-45d4-e9a4-6dbdcbd971fd"
      },
      "source": [
        "cv_knn.best_params_"
      ],
      "execution_count": 24,
      "outputs": [
        {
          "output_type": "execute_result",
          "data": {
            "text/plain": [
              "{'knn__n_neighbors': 12}"
            ]
          },
          "metadata": {
            "tags": []
          },
          "execution_count": 24
        }
      ]
    },
    {
      "cell_type": "code",
      "metadata": {
        "id": "peS5SY1q34x7",
        "colab_type": "code",
        "colab": {
          "base_uri": "https://localhost:8080/",
          "height": 35
        },
        "outputId": "2a3288e1-924b-4581-e99b-19843172a069"
      },
      "source": [
        "print(cv_knn.refit)"
      ],
      "execution_count": 25,
      "outputs": [
        {
          "output_type": "stream",
          "text": [
            "True\n"
          ],
          "name": "stdout"
        }
      ]
    },
    {
      "cell_type": "markdown",
      "metadata": {
        "id": "wOJVOIc734yM",
        "colab_type": "text"
      },
      "source": [
        "From the above output we conclude that the default of the argument \"refit\" is True. This means that, by default, our CV pipeline automatically refits the model on the entire training set using the best parameters found by CV, which is 12 in our case. Therefore we can now directly use the CV object to make predictions for unseen data."
      ]
    },
    {
      "cell_type": "markdown",
      "metadata": {
        "id": "jzcqAg2-34yO",
        "colab_type": "text"
      },
      "source": [
        "As in the Kaggle challenge we will use the log of the Root mean squared error metric to evaluate our model's performance on the test set. To do this we first need to predict the sales price for the unseen test data."
      ]
    },
    {
      "cell_type": "code",
      "metadata": {
        "id": "pPe4htbc34yP",
        "colab_type": "code",
        "colab": {
          "base_uri": "https://localhost:8080/",
          "height": 35
        },
        "outputId": "a0998225-62ca-4d85-c106-a0be95830065"
      },
      "source": [
        "from sklearn.metrics import mean_squared_error\n",
        "y_pred = cv_knn.predict(X_test)\n",
        "rmse_knn = np.sqrt(mean_squared_error(np.log(y_test), np.log(y_pred)))\n",
        "print(\"The KNN algorithm with \" + str(cv_knn.best_params_) + \" yields a (log) RMSE of: \" + str(rmse_knn))"
      ],
      "execution_count": 55,
      "outputs": [
        {
          "output_type": "stream",
          "text": [
            "The KNN algorithm with {'knn__n_neighbors': 12} yields a (log) RMSE of: 0.197561198068067\n"
          ],
          "name": "stdout"
        }
      ]
    },
    {
      "cell_type": "markdown",
      "metadata": {
        "id": "SskPimED34yV",
        "colab_type": "text"
      },
      "source": [
        "### Random forest"
      ]
    },
    {
      "cell_type": "markdown",
      "metadata": {
        "id": "9cL8LCox34yX",
        "colab_type": "text"
      },
      "source": [
        "After trying out the KNN algorithm, we now continue with the Random Forest Algorithm. Using similar steps as before we will build up a pipeline object applying the transformations and the estimation on our dataset sequentially automatically."
      ]
    },
    {
      "cell_type": "code",
      "metadata": {
        "id": "-4JrDkEa34ya",
        "colab_type": "code",
        "colab": {}
      },
      "source": [
        "from sklearn.ensemble import RandomForestRegressor"
      ],
      "execution_count": 0,
      "outputs": []
    },
    {
      "cell_type": "code",
      "metadata": {
        "id": "K6HGS8X334ye",
        "colab_type": "code",
        "colab": {}
      },
      "source": [
        "# instantiate the RandomForest Regressor\n",
        "rf_reg = RandomForestRegressor(random_state=123)\n",
        "# creating a list containing the steps the pipeline should apply\n",
        "steps_rf = [(\"scaler\", scaler), (\"rf_reg\", rf_reg)]\n",
        "# create the pipeline object\n",
        "pipeline_rf = Pipeline(steps_rf)"
      ],
      "execution_count": 0,
      "outputs": []
    },
    {
      "cell_type": "markdown",
      "metadata": {
        "id": "SRW7fCnw34yk",
        "colab_type": "text"
      },
      "source": [
        "For RandomForests there are a large number of Hyperparameters that can be tuned. In this project we are going to tune the number of trees in the random forest [n_estimators], the number of features considered at every split [max_features], the maximum number of levels in a tree [max_depth], the mininum number of samples required to split a node [min_samples_split], the minimum number of observations required at each leaf node [min_samples_leaf] and if bootstrap should be used training each tree [bootstrap]. \n",
        "\n",
        "We first define the ranges for each hyperparameter that should be considered in our CV tuning and then create our search grid containing the before created lists."
      ]
    },
    {
      "cell_type": "code",
      "metadata": {
        "id": "qyKm3mWa34yl",
        "colab_type": "code",
        "colab": {}
      },
      "source": [
        "n_estimators = list(np.arange(200, 2001, 200))\n",
        "max_features = [\"auto\", \"sqrt\", \"log2\"]\n",
        "max_depth = list(np.arange(10, 101, 10))\n",
        "max_depth.append(None)\n",
        "min_samples_split = [2, 5, 10]\n",
        "min_samples_leaf = [1, 2, 4, 8]\n",
        "bootstrap = [True, False]\n",
        "param_dist = {\"rf_reg__n_estimators\": n_estimators,\n",
        "              \"rf_reg__max_features\": max_features,\n",
        "              \"rf_reg__max_depth\": max_depth,\n",
        "              \"rf_reg__min_samples_split\": min_samples_split,\n",
        "              \"rf_reg__min_samples_leaf\": min_samples_leaf,\n",
        "              \"rf_reg__bootstrap\": bootstrap}"
      ],
      "execution_count": 0,
      "outputs": []
    },
    {
      "cell_type": "markdown",
      "metadata": {
        "id": "S_yqnTIW34yo",
        "colab_type": "text"
      },
      "source": [
        "Testing all possible combinations of hyperparameters would ammount to testing $10*3*11*3*3*2 = 5,940$ combinations, instead of testing all of these we will use RandomizedSearchCV to select randomly from our defined distributions which combinations are tested. "
      ]
    },
    {
      "cell_type": "code",
      "metadata": {
        "id": "fte7QbYB34yp",
        "colab_type": "code",
        "colab": {}
      },
      "source": [
        "from sklearn.model_selection import RandomizedSearchCV\n",
        "cv_random_rf = RandomizedSearchCV(pipeline_rf, param_dist, cv=3, n_iter=100)"
      ],
      "execution_count": 0,
      "outputs": []
    },
    {
      "cell_type": "markdown",
      "metadata": {
        "id": "tAIOPJno34ys",
        "colab_type": "text"
      },
      "source": [
        "Just as before with the KNN algorithm we now can fit the pipeline to our data."
      ]
    },
    {
      "cell_type": "code",
      "metadata": {
        "collapsed": true,
        "id": "WYhxe5pi34yv",
        "colab_type": "code",
        "colab": {}
      },
      "source": [
        "cv_random_rf.fit(X_train, y_train)"
      ],
      "execution_count": 0,
      "outputs": []
    },
    {
      "cell_type": "code",
      "metadata": {
        "id": "uNCPHI2p34y4",
        "colab_type": "code",
        "colab": {
          "base_uri": "https://localhost:8080/",
          "height": 121
        },
        "outputId": "9b08b524-d3ce-4645-a1a6-fcf7e962e064"
      },
      "source": [
        "cv_random_rf.best_params_"
      ],
      "execution_count": 40,
      "outputs": [
        {
          "output_type": "execute_result",
          "data": {
            "text/plain": [
              "{'rf_reg__bootstrap': False,\n",
              " 'rf_reg__max_depth': 80,\n",
              " 'rf_reg__max_features': 'sqrt',\n",
              " 'rf_reg__min_samples_leaf': 1,\n",
              " 'rf_reg__min_samples_split': 2,\n",
              " 'rf_reg__n_estimators': 400}"
            ]
          },
          "metadata": {
            "tags": []
          },
          "execution_count": 40
        }
      ]
    },
    {
      "cell_type": "markdown",
      "metadata": {
        "id": "fu3-4lem34y8",
        "colab_type": "text"
      },
      "source": [
        "Based on the chosen parameters from RandomizedSearchCV we can now manually decrease the range of the hyperparameters to be tested and use GridSearchCV as before to find the best parameters for our model."
      ]
    },
    {
      "cell_type": "code",
      "metadata": {
        "id": "KtdIgq-KhwYO",
        "colab_type": "code",
        "colab": {
          "base_uri": "https://localhost:8080/",
          "height": 121
        },
        "outputId": "f888e30b-1310-4685-9969-a23aeead048d"
      },
      "source": [
        "n_estimators_2 = list(np.arange(300, 501, 100))\n",
        "max_depth_2 = list(np.arange(70, 101, 10))\n",
        "max_features_2 = [\"sqrt\"]\n",
        "min_samples_split_2 = [2, 3]\n",
        "min_samples_leaf_2 = [1, 2, 3]\n",
        "bootstrap_2 = [True, False]\n",
        "param_grid = {\"rf_reg__n_estimators\": n_estimators_2,\n",
        "              \"rf_reg__max_features\": max_features_2,\n",
        "              \"rf_reg__max_depth\": max_depth_2,\n",
        "              \"rf_reg__min_samples_split\": min_samples_split_2,\n",
        "              \"rf_reg__min_samples_leaf\": min_samples_leaf_2,\n",
        "              \"rf_reg__bootstrap\": bootstrap_2}\n",
        "param_grid"
      ],
      "execution_count": 49,
      "outputs": [
        {
          "output_type": "execute_result",
          "data": {
            "text/plain": [
              "{'rf_reg__bootstrap': [True, False],\n",
              " 'rf_reg__max_depth': [70, 80, 90, 100],\n",
              " 'rf_reg__max_features': ['sqrt'],\n",
              " 'rf_reg__min_samples_leaf': [1, 2, 3],\n",
              " 'rf_reg__min_samples_split': [2, 3],\n",
              " 'rf_reg__n_estimators': [300, 400, 500]}"
            ]
          },
          "metadata": {
            "tags": []
          },
          "execution_count": 49
        }
      ]
    },
    {
      "cell_type": "markdown",
      "metadata": {
        "id": "ktU0qYrcix9e",
        "colab_type": "text"
      },
      "source": [
        "We can now instantiate and then fit our GridSearchCV object as before."
      ]
    },
    {
      "cell_type": "code",
      "metadata": {
        "id": "t5BxKTAdi3eI",
        "colab_type": "code",
        "colab": {
          "base_uri": "https://localhost:8080/",
          "height": 485
        },
        "outputId": "3d6b71f7-b997-4806-f7ec-0d49867b3c2f"
      },
      "source": [
        "cv_rf = GridSearchCV(pipeline_rf, param_grid, cv=3)\n",
        "cv_rf.fit(X_train, y_train)"
      ],
      "execution_count": 50,
      "outputs": [
        {
          "output_type": "execute_result",
          "data": {
            "text/plain": [
              "GridSearchCV(cv=3, error_score='raise-deprecating',\n",
              "             estimator=Pipeline(memory=None,\n",
              "                                steps=[('scaler',\n",
              "                                        StandardScaler(copy=True,\n",
              "                                                       with_mean=True,\n",
              "                                                       with_std=True)),\n",
              "                                       ('rf_reg',\n",
              "                                        RandomForestRegressor(bootstrap=True,\n",
              "                                                              criterion='mse',\n",
              "                                                              max_depth=None,\n",
              "                                                              max_features='auto',\n",
              "                                                              max_leaf_nodes=None,\n",
              "                                                              min_impurity_decrease=0.0,\n",
              "                                                              min_impurity_split=None,\n",
              "                                                              min_samples_leaf=1,\n",
              "                                                              min_sampl...\n",
              "                                                              warm_start=False))],\n",
              "                                verbose=False),\n",
              "             iid='warn', n_jobs=None,\n",
              "             param_grid={'rf_reg__bootstrap': [True, False],\n",
              "                         'rf_reg__max_depth': [70, 80, 90, 100],\n",
              "                         'rf_reg__max_features': ['sqrt'],\n",
              "                         'rf_reg__min_samples_leaf': [1, 2, 3],\n",
              "                         'rf_reg__min_samples_split': [2, 3],\n",
              "                         'rf_reg__n_estimators': [300, 400, 500]},\n",
              "             pre_dispatch='2*n_jobs', refit=True, return_train_score=False,\n",
              "             scoring=None, verbose=0)"
            ]
          },
          "metadata": {
            "tags": []
          },
          "execution_count": 50
        }
      ]
    },
    {
      "cell_type": "code",
      "metadata": {
        "id": "XefWBfX2k7Yf",
        "colab_type": "code",
        "colab": {
          "base_uri": "https://localhost:8080/",
          "height": 121
        },
        "outputId": "918ff8dc-a4ef-4bcf-97d3-2d9f734bf970"
      },
      "source": [
        "cv_rf.best_params_, print()"
      ],
      "execution_count": 53,
      "outputs": [
        {
          "output_type": "execute_result",
          "data": {
            "text/plain": [
              "{'rf_reg__bootstrap': False,\n",
              " 'rf_reg__max_depth': 70,\n",
              " 'rf_reg__max_features': 'sqrt',\n",
              " 'rf_reg__min_samples_leaf': 1,\n",
              " 'rf_reg__min_samples_split': 2,\n",
              " 'rf_reg__n_estimators': 400}"
            ]
          },
          "metadata": {
            "tags": []
          },
          "execution_count": 53
        }
      ]
    },
    {
      "cell_type": "code",
      "metadata": {
        "id": "3qQJGZHClpNj",
        "colab_type": "code",
        "colab": {
          "base_uri": "https://localhost:8080/",
          "height": 35
        },
        "outputId": "753ba63e-35a1-42c4-a56e-28adc09058e0"
      },
      "source": [
        "print(cv_rf.refit)"
      ],
      "execution_count": 54,
      "outputs": [
        {
          "output_type": "stream",
          "text": [
            "True\n"
          ],
          "name": "stdout"
        }
      ]
    },
    {
      "cell_type": "markdown",
      "metadata": {
        "id": "rVISFwxBlS-J",
        "colab_type": "text"
      },
      "source": [
        "We see that the parameters chosen by RandomizedSearchCV were already pretty good and did not really need that much of a finetuning. Furthermore, the GridSearchCV function also already refit the RandomForest model on the whole training data using the parameters that are found to work best.\n",
        "\n",
        "As before, we now can create predictions for our hold out test set and evaluate our model using log RMSE as before."
      ]
    },
    {
      "cell_type": "code",
      "metadata": {
        "id": "zk-j57DilnIk",
        "colab_type": "code",
        "colab": {
          "base_uri": "https://localhost:8080/",
          "height": 55
        },
        "outputId": "ba73bf74-72b4-4a9a-9a13-f7330f3e65a4"
      },
      "source": [
        "from sklearn.metrics import mean_squared_error\n",
        "y_pred_rf = cv_rf.predict(X_test)\n",
        "rmse_rf = np.sqrt(mean_squared_error(np.log(y_test), np.log(y_pred_rf)))\n",
        "print(\"The RandomForest algorithm with \" + str(cv_rf.best_params_) + \" yields a (log) RMSE of: \" + str(rmse_rf))"
      ],
      "execution_count": 56,
      "outputs": [
        {
          "output_type": "stream",
          "text": [
            "The RandomForest algorithm with {'rf_reg__bootstrap': False, 'rf_reg__max_depth': 70, 'rf_reg__max_features': 'sqrt', 'rf_reg__min_samples_leaf': 1, 'rf_reg__min_samples_split': 2, 'rf_reg__n_estimators': 400} yields a (log) RMSE of: 0.14379405647889823\n"
          ],
          "name": "stdout"
        }
      ]
    },
    {
      "cell_type": "markdown",
      "metadata": {
        "id": "2TQLVh4aoXeZ",
        "colab_type": "text"
      },
      "source": [
        "Great! We see a clear improvement in our evaluation metric, i.e. the RandomForest Regressor performs much better than the KNN fitted at first."
      ]
    },
    {
      "cell_type": "markdown",
      "metadata": {
        "id": "sZVtZEBkp_PZ",
        "colab_type": "text"
      },
      "source": [
        "### Making predictions and creating our submission file"
      ]
    },
    {
      "cell_type": "markdown",
      "metadata": {
        "id": "tkbIguMsqDVO",
        "colab_type": "text"
      },
      "source": [
        "Since we want to check our model's performance in comparison with other people's models, we need to make predictions for the test dataset provided by Kaggle and upload our results to Kaggle. According to the challenge's description, our submission should be a file containing the observation's ID and the predicted SalesPrice. We first create a dataframe and then save it as a .csv file."
      ]
    },
    {
      "cell_type": "code",
      "metadata": {
        "id": "F_a87-KrqEoD",
        "colab_type": "code",
        "colab": {}
      },
      "source": [
        "submission = pd.DataFrame(test.Id)"
      ],
      "execution_count": 0,
      "outputs": []
    },
    {
      "cell_type": "code",
      "metadata": {
        "id": "cKxXuD-VrJJ0",
        "colab_type": "code",
        "colab": {
          "base_uri": "https://localhost:8080/",
          "height": 311
        },
        "outputId": "03da8548-bc73-4d90-d923-7ec586ef07d0"
      },
      "source": [
        "test_pred = cv_rf.predict(test)"
      ],
      "execution_count": 66,
      "outputs": [
        {
          "output_type": "error",
          "ename": "ValueError",
          "evalue": "ignored",
          "traceback": [
            "\u001b[0;31m---------------------------------------------------------------------------\u001b[0m",
            "\u001b[0;31mValueError\u001b[0m                                Traceback (most recent call last)",
            "\u001b[0;32m<ipython-input-66-1abce21f84fa>\u001b[0m in \u001b[0;36m<module>\u001b[0;34m()\u001b[0m\n\u001b[0;32m----> 1\u001b[0;31m \u001b[0mtest_pred\u001b[0m \u001b[0;34m=\u001b[0m \u001b[0mcv_rf\u001b[0m\u001b[0;34m.\u001b[0m\u001b[0mpredict\u001b[0m\u001b[0;34m(\u001b[0m\u001b[0mtest\u001b[0m\u001b[0;34m)\u001b[0m\u001b[0;34m\u001b[0m\u001b[0;34m\u001b[0m\u001b[0m\n\u001b[0m",
            "\u001b[0;32m/usr/local/lib/python3.6/dist-packages/sklearn/utils/metaestimators.py\u001b[0m in \u001b[0;36m<lambda>\u001b[0;34m(*args, **kwargs)\u001b[0m\n\u001b[1;32m    114\u001b[0m \u001b[0;34m\u001b[0m\u001b[0m\n\u001b[1;32m    115\u001b[0m         \u001b[0;31m# lambda, but not partial, allows help() to work with update_wrapper\u001b[0m\u001b[0;34m\u001b[0m\u001b[0;34m\u001b[0m\u001b[0;34m\u001b[0m\u001b[0m\n\u001b[0;32m--> 116\u001b[0;31m         \u001b[0mout\u001b[0m \u001b[0;34m=\u001b[0m \u001b[0;32mlambda\u001b[0m \u001b[0;34m*\u001b[0m\u001b[0margs\u001b[0m\u001b[0;34m,\u001b[0m \u001b[0;34m**\u001b[0m\u001b[0mkwargs\u001b[0m\u001b[0;34m:\u001b[0m \u001b[0mself\u001b[0m\u001b[0;34m.\u001b[0m\u001b[0mfn\u001b[0m\u001b[0;34m(\u001b[0m\u001b[0mobj\u001b[0m\u001b[0;34m,\u001b[0m \u001b[0;34m*\u001b[0m\u001b[0margs\u001b[0m\u001b[0;34m,\u001b[0m \u001b[0;34m**\u001b[0m\u001b[0mkwargs\u001b[0m\u001b[0;34m)\u001b[0m\u001b[0;34m\u001b[0m\u001b[0;34m\u001b[0m\u001b[0m\n\u001b[0m\u001b[1;32m    117\u001b[0m         \u001b[0;31m# update the docstring of the returned function\u001b[0m\u001b[0;34m\u001b[0m\u001b[0;34m\u001b[0m\u001b[0;34m\u001b[0m\u001b[0m\n\u001b[1;32m    118\u001b[0m         \u001b[0mupdate_wrapper\u001b[0m\u001b[0;34m(\u001b[0m\u001b[0mout\u001b[0m\u001b[0;34m,\u001b[0m \u001b[0mself\u001b[0m\u001b[0;34m.\u001b[0m\u001b[0mfn\u001b[0m\u001b[0;34m)\u001b[0m\u001b[0;34m\u001b[0m\u001b[0;34m\u001b[0m\u001b[0m\n",
            "\u001b[0;32m/usr/local/lib/python3.6/dist-packages/sklearn/model_selection/_search.py\u001b[0m in \u001b[0;36mpredict\u001b[0;34m(self, X)\u001b[0m\n\u001b[1;32m    455\u001b[0m         \"\"\"\n\u001b[1;32m    456\u001b[0m         \u001b[0mself\u001b[0m\u001b[0;34m.\u001b[0m\u001b[0m_check_is_fitted\u001b[0m\u001b[0;34m(\u001b[0m\u001b[0;34m'predict'\u001b[0m\u001b[0;34m)\u001b[0m\u001b[0;34m\u001b[0m\u001b[0;34m\u001b[0m\u001b[0m\n\u001b[0;32m--> 457\u001b[0;31m         \u001b[0;32mreturn\u001b[0m \u001b[0mself\u001b[0m\u001b[0;34m.\u001b[0m\u001b[0mbest_estimator_\u001b[0m\u001b[0;34m.\u001b[0m\u001b[0mpredict\u001b[0m\u001b[0;34m(\u001b[0m\u001b[0mX\u001b[0m\u001b[0;34m)\u001b[0m\u001b[0;34m\u001b[0m\u001b[0;34m\u001b[0m\u001b[0m\n\u001b[0m\u001b[1;32m    458\u001b[0m \u001b[0;34m\u001b[0m\u001b[0m\n\u001b[1;32m    459\u001b[0m     \u001b[0;34m@\u001b[0m\u001b[0mif_delegate_has_method\u001b[0m\u001b[0;34m(\u001b[0m\u001b[0mdelegate\u001b[0m\u001b[0;34m=\u001b[0m\u001b[0;34m(\u001b[0m\u001b[0;34m'best_estimator_'\u001b[0m\u001b[0;34m,\u001b[0m \u001b[0;34m'estimator'\u001b[0m\u001b[0;34m)\u001b[0m\u001b[0;34m)\u001b[0m\u001b[0;34m\u001b[0m\u001b[0;34m\u001b[0m\u001b[0m\n",
            "\u001b[0;32m/usr/local/lib/python3.6/dist-packages/sklearn/utils/metaestimators.py\u001b[0m in \u001b[0;36m<lambda>\u001b[0;34m(*args, **kwargs)\u001b[0m\n\u001b[1;32m    114\u001b[0m \u001b[0;34m\u001b[0m\u001b[0m\n\u001b[1;32m    115\u001b[0m         \u001b[0;31m# lambda, but not partial, allows help() to work with update_wrapper\u001b[0m\u001b[0;34m\u001b[0m\u001b[0;34m\u001b[0m\u001b[0;34m\u001b[0m\u001b[0m\n\u001b[0;32m--> 116\u001b[0;31m         \u001b[0mout\u001b[0m \u001b[0;34m=\u001b[0m \u001b[0;32mlambda\u001b[0m \u001b[0;34m*\u001b[0m\u001b[0margs\u001b[0m\u001b[0;34m,\u001b[0m \u001b[0;34m**\u001b[0m\u001b[0mkwargs\u001b[0m\u001b[0;34m:\u001b[0m \u001b[0mself\u001b[0m\u001b[0;34m.\u001b[0m\u001b[0mfn\u001b[0m\u001b[0;34m(\u001b[0m\u001b[0mobj\u001b[0m\u001b[0;34m,\u001b[0m \u001b[0;34m*\u001b[0m\u001b[0margs\u001b[0m\u001b[0;34m,\u001b[0m \u001b[0;34m**\u001b[0m\u001b[0mkwargs\u001b[0m\u001b[0;34m)\u001b[0m\u001b[0;34m\u001b[0m\u001b[0;34m\u001b[0m\u001b[0m\n\u001b[0m\u001b[1;32m    117\u001b[0m         \u001b[0;31m# update the docstring of the returned function\u001b[0m\u001b[0;34m\u001b[0m\u001b[0;34m\u001b[0m\u001b[0;34m\u001b[0m\u001b[0m\n\u001b[1;32m    118\u001b[0m         \u001b[0mupdate_wrapper\u001b[0m\u001b[0;34m(\u001b[0m\u001b[0mout\u001b[0m\u001b[0;34m,\u001b[0m \u001b[0mself\u001b[0m\u001b[0;34m.\u001b[0m\u001b[0mfn\u001b[0m\u001b[0;34m)\u001b[0m\u001b[0;34m\u001b[0m\u001b[0;34m\u001b[0m\u001b[0m\n",
            "\u001b[0;32m/usr/local/lib/python3.6/dist-packages/sklearn/pipeline.py\u001b[0m in \u001b[0;36mpredict\u001b[0;34m(self, X, **predict_params)\u001b[0m\n\u001b[1;32m    419\u001b[0m         \u001b[0mXt\u001b[0m \u001b[0;34m=\u001b[0m \u001b[0mX\u001b[0m\u001b[0;34m\u001b[0m\u001b[0;34m\u001b[0m\u001b[0m\n\u001b[1;32m    420\u001b[0m         \u001b[0;32mfor\u001b[0m \u001b[0m_\u001b[0m\u001b[0;34m,\u001b[0m \u001b[0mname\u001b[0m\u001b[0;34m,\u001b[0m \u001b[0mtransform\u001b[0m \u001b[0;32min\u001b[0m \u001b[0mself\u001b[0m\u001b[0;34m.\u001b[0m\u001b[0m_iter\u001b[0m\u001b[0;34m(\u001b[0m\u001b[0mwith_final\u001b[0m\u001b[0;34m=\u001b[0m\u001b[0;32mFalse\u001b[0m\u001b[0;34m)\u001b[0m\u001b[0;34m:\u001b[0m\u001b[0;34m\u001b[0m\u001b[0;34m\u001b[0m\u001b[0m\n\u001b[0;32m--> 421\u001b[0;31m             \u001b[0mXt\u001b[0m \u001b[0;34m=\u001b[0m \u001b[0mtransform\u001b[0m\u001b[0;34m.\u001b[0m\u001b[0mtransform\u001b[0m\u001b[0;34m(\u001b[0m\u001b[0mXt\u001b[0m\u001b[0;34m)\u001b[0m\u001b[0;34m\u001b[0m\u001b[0;34m\u001b[0m\u001b[0m\n\u001b[0m\u001b[1;32m    422\u001b[0m         \u001b[0;32mreturn\u001b[0m \u001b[0mself\u001b[0m\u001b[0;34m.\u001b[0m\u001b[0msteps\u001b[0m\u001b[0;34m[\u001b[0m\u001b[0;34m-\u001b[0m\u001b[0;36m1\u001b[0m\u001b[0;34m]\u001b[0m\u001b[0;34m[\u001b[0m\u001b[0;34m-\u001b[0m\u001b[0;36m1\u001b[0m\u001b[0;34m]\u001b[0m\u001b[0;34m.\u001b[0m\u001b[0mpredict\u001b[0m\u001b[0;34m(\u001b[0m\u001b[0mXt\u001b[0m\u001b[0;34m,\u001b[0m \u001b[0;34m**\u001b[0m\u001b[0mpredict_params\u001b[0m\u001b[0;34m)\u001b[0m\u001b[0;34m\u001b[0m\u001b[0;34m\u001b[0m\u001b[0m\n\u001b[1;32m    423\u001b[0m \u001b[0;34m\u001b[0m\u001b[0m\n",
            "\u001b[0;32m/usr/local/lib/python3.6/dist-packages/sklearn/preprocessing/data.py\u001b[0m in \u001b[0;36mtransform\u001b[0;34m(self, X, copy)\u001b[0m\n\u001b[1;32m    767\u001b[0m         \u001b[0;32melse\u001b[0m\u001b[0;34m:\u001b[0m\u001b[0;34m\u001b[0m\u001b[0;34m\u001b[0m\u001b[0m\n\u001b[1;32m    768\u001b[0m             \u001b[0;32mif\u001b[0m \u001b[0mself\u001b[0m\u001b[0;34m.\u001b[0m\u001b[0mwith_mean\u001b[0m\u001b[0;34m:\u001b[0m\u001b[0;34m\u001b[0m\u001b[0;34m\u001b[0m\u001b[0m\n\u001b[0;32m--> 769\u001b[0;31m                 \u001b[0mX\u001b[0m \u001b[0;34m-=\u001b[0m \u001b[0mself\u001b[0m\u001b[0;34m.\u001b[0m\u001b[0mmean_\u001b[0m\u001b[0;34m\u001b[0m\u001b[0;34m\u001b[0m\u001b[0m\n\u001b[0m\u001b[1;32m    770\u001b[0m             \u001b[0;32mif\u001b[0m \u001b[0mself\u001b[0m\u001b[0;34m.\u001b[0m\u001b[0mwith_std\u001b[0m\u001b[0;34m:\u001b[0m\u001b[0;34m\u001b[0m\u001b[0;34m\u001b[0m\u001b[0m\n\u001b[1;32m    771\u001b[0m                 \u001b[0mX\u001b[0m \u001b[0;34m/=\u001b[0m \u001b[0mself\u001b[0m\u001b[0;34m.\u001b[0m\u001b[0mscale_\u001b[0m\u001b[0;34m\u001b[0m\u001b[0;34m\u001b[0m\u001b[0m\n",
            "\u001b[0;31mValueError\u001b[0m: operands could not be broadcast together with shapes (1459,198) (210,) (1459,198) "
          ]
        }
      ]
    },
    {
      "cell_type": "code",
      "metadata": {
        "id": "4of08aUhrZj_",
        "colab_type": "code",
        "colab": {
          "base_uri": "https://localhost:8080/",
          "height": 35
        },
        "outputId": "2bed5679-af9b-4fec-91c6-b9e33d2a79a0"
      },
      "source": [
        "test.shape, X_train.shape, "
      ],
      "execution_count": 67,
      "outputs": [
        {
          "output_type": "execute_result",
          "data": {
            "text/plain": [
              "((1459, 198), (1130, 210), (1130,))"
            ]
          },
          "metadata": {
            "tags": []
          },
          "execution_count": 67
        }
      ]
    }
  ]
}