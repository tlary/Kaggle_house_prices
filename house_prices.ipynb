{
  "nbformat": 4,
  "nbformat_minor": 0,
  "metadata": {
    "colab": {
      "name": "house_prices.ipynb",
      "version": "0.3.2",
      "provenance": [],
      "toc_visible": true
    },
    "language_info": {
      "codemirror_mode": {
        "name": "ipython",
        "version": 3
      },
      "file_extension": ".py",
      "mimetype": "text/x-python",
      "name": "python",
      "nbconvert_exporter": "python",
      "pygments_lexer": "ipython3",
      "version": "3.7.3"
    },
    "kernelspec": {
      "display_name": "Python 3",
      "language": "python",
      "name": "python3"
    },
    "accelerator": "GPU"
  },
  "cells": [
    {
      "cell_type": "markdown",
      "metadata": {
        "colab_type": "text",
        "id": "huxG_oBA34r-"
      },
      "source": [
        "# Kaggle House Prices Challenge"
      ]
    },
    {
      "cell_type": "markdown",
      "metadata": {
        "colab_type": "text",
        "id": "KiqpRYLO34sK"
      },
      "source": [
        "## House Prices: Advanced Regression Techniques\n",
        "\n",
        "Predict sales prices and practice feature engineering, RFs, and gradient boosting\n",
        "\n",
        "(Link: https://www.kaggle.com/c/house-prices-advanced-regression-techniques/overview)"
      ]
    },
    {
      "cell_type": "markdown",
      "metadata": {
        "colab_type": "text",
        "id": "KbeIohHI34sP"
      },
      "source": [
        "First, we start by importing the libraries needed for this project."
      ]
    },
    {
      "cell_type": "code",
      "metadata": {
        "colab_type": "code",
        "id": "EE7j5m2V34sU",
        "colab": {}
      },
      "source": [
        "import pandas as pd\n",
        "import numpy as np"
      ],
      "execution_count": 0,
      "outputs": []
    },
    {
      "cell_type": "markdown",
      "metadata": {
        "colab_type": "text",
        "id": "lzn8XJfI34sl"
      },
      "source": [
        "Loading the data into dataframes."
      ]
    },
    {
      "cell_type": "code",
      "metadata": {
        "colab_type": "code",
        "id": "wvcujN4i34sp",
        "colab": {}
      },
      "source": [
        "test = pd.read_csv(\"test.csv\")\n",
        "train = pd.read_csv(\"train.csv\")"
      ],
      "execution_count": 0,
      "outputs": []
    },
    {
      "cell_type": "code",
      "metadata": {
        "colab_type": "code",
        "id": "ul4E9Oes34s2",
        "outputId": "3615dd91-f08f-4b3f-ccb7-b8c4292e3444",
        "colab": {
          "base_uri": "https://localhost:8080/",
          "height": 35
        }
      },
      "source": [
        "test.shape, train.shape"
      ],
      "execution_count": 19,
      "outputs": [
        {
          "output_type": "execute_result",
          "data": {
            "text/plain": [
              "((1459, 80), (1460, 81))"
            ]
          },
          "metadata": {
            "tags": []
          },
          "execution_count": 19
        }
      ]
    },
    {
      "cell_type": "code",
      "metadata": {
        "colab_type": "code",
        "collapsed": true,
        "id": "z_y1O_xB34tQ",
        "outputId": "08510cff-bcd5-4bc6-e44c-44b39faacde9",
        "colab": {}
      },
      "source": [
        "test.columns, train.columns"
      ],
      "execution_count": 0,
      "outputs": [
        {
          "output_type": "execute_result",
          "data": {
            "text/plain": [
              "(Index(['Id', 'MSSubClass', 'MSZoning', 'LotFrontage', 'LotArea', 'Street',\n",
              "        'Alley', 'LotShape', 'LandContour', 'Utilities', 'LotConfig',\n",
              "        'LandSlope', 'Neighborhood', 'Condition1', 'Condition2', 'BldgType',\n",
              "        'HouseStyle', 'OverallQual', 'OverallCond', 'YearBuilt', 'YearRemodAdd',\n",
              "        'RoofStyle', 'RoofMatl', 'Exterior1st', 'Exterior2nd', 'MasVnrType',\n",
              "        'MasVnrArea', 'ExterQual', 'ExterCond', 'Foundation', 'BsmtQual',\n",
              "        'BsmtCond', 'BsmtExposure', 'BsmtFinType1', 'BsmtFinSF1',\n",
              "        'BsmtFinType2', 'BsmtFinSF2', 'BsmtUnfSF', 'TotalBsmtSF', 'Heating',\n",
              "        'HeatingQC', 'CentralAir', 'Electrical', '1stFlrSF', '2ndFlrSF',\n",
              "        'LowQualFinSF', 'GrLivArea', 'BsmtFullBath', 'BsmtHalfBath', 'FullBath',\n",
              "        'HalfBath', 'BedroomAbvGr', 'KitchenAbvGr', 'KitchenQual',\n",
              "        'TotRmsAbvGrd', 'Functional', 'Fireplaces', 'FireplaceQu', 'GarageType',\n",
              "        'GarageYrBlt', 'GarageFinish', 'GarageCars', 'GarageArea', 'GarageQual',\n",
              "        'GarageCond', 'PavedDrive', 'WoodDeckSF', 'OpenPorchSF',\n",
              "        'EnclosedPorch', '3SsnPorch', 'ScreenPorch', 'PoolArea', 'PoolQC',\n",
              "        'Fence', 'MiscFeature', 'MiscVal', 'MoSold', 'YrSold', 'SaleType',\n",
              "        'SaleCondition'],\n",
              "       dtype='object'),\n",
              " Index(['Id', 'MSSubClass', 'MSZoning', 'LotFrontage', 'LotArea', 'Street',\n",
              "        'Alley', 'LotShape', 'LandContour', 'Utilities', 'LotConfig',\n",
              "        'LandSlope', 'Neighborhood', 'Condition1', 'Condition2', 'BldgType',\n",
              "        'HouseStyle', 'OverallQual', 'OverallCond', 'YearBuilt', 'YearRemodAdd',\n",
              "        'RoofStyle', 'RoofMatl', 'Exterior1st', 'Exterior2nd', 'MasVnrType',\n",
              "        'MasVnrArea', 'ExterQual', 'ExterCond', 'Foundation', 'BsmtQual',\n",
              "        'BsmtCond', 'BsmtExposure', 'BsmtFinType1', 'BsmtFinSF1',\n",
              "        'BsmtFinType2', 'BsmtFinSF2', 'BsmtUnfSF', 'TotalBsmtSF', 'Heating',\n",
              "        'HeatingQC', 'CentralAir', 'Electrical', '1stFlrSF', '2ndFlrSF',\n",
              "        'LowQualFinSF', 'GrLivArea', 'BsmtFullBath', 'BsmtHalfBath', 'FullBath',\n",
              "        'HalfBath', 'BedroomAbvGr', 'KitchenAbvGr', 'KitchenQual',\n",
              "        'TotRmsAbvGrd', 'Functional', 'Fireplaces', 'FireplaceQu', 'GarageType',\n",
              "        'GarageYrBlt', 'GarageFinish', 'GarageCars', 'GarageArea', 'GarageQual',\n",
              "        'GarageCond', 'PavedDrive', 'WoodDeckSF', 'OpenPorchSF',\n",
              "        'EnclosedPorch', '3SsnPorch', 'ScreenPorch', 'PoolArea', 'PoolQC',\n",
              "        'Fence', 'MiscFeature', 'MiscVal', 'MoSold', 'YrSold', 'SaleType',\n",
              "        'SaleCondition', 'SalePrice'],\n",
              "       dtype='object'))"
            ]
          },
          "metadata": {
            "tags": []
          },
          "execution_count": 7
        }
      ]
    },
    {
      "cell_type": "markdown",
      "metadata": {
        "colab_type": "text",
        "id": "W1XPWi4Q34ti"
      },
      "source": [
        "We can see that the test dataset contains one more variable compared to the train dataset - which is the \"SalePrice\" variable. In our analysis / prediction this serves as the dependent variable we want to predict given the houses' characteristics."
      ]
    },
    {
      "cell_type": "code",
      "metadata": {
        "colab_type": "code",
        "collapsed": true,
        "id": "-a5jWlw734tm",
        "outputId": "bbef1fa5-1286-40ce-845d-3f8e5161e1a4",
        "colab": {}
      },
      "source": [
        "train.SalePrice.describe()"
      ],
      "execution_count": 0,
      "outputs": [
        {
          "output_type": "execute_result",
          "data": {
            "text/plain": [
              "count      1460.000000\n",
              "mean     180921.195890\n",
              "std       79442.502883\n",
              "min       34900.000000\n",
              "25%      129975.000000\n",
              "50%      163000.000000\n",
              "75%      214000.000000\n",
              "max      755000.000000\n",
              "Name: SalePrice, dtype: float64"
            ]
          },
          "metadata": {
            "tags": []
          },
          "execution_count": 7
        }
      ]
    },
    {
      "cell_type": "markdown",
      "metadata": {
        "colab_type": "text",
        "id": "twuT-h6w34t5"
      },
      "source": [
        "## Data preprocessing and cleaning"
      ]
    },
    {
      "cell_type": "markdown",
      "metadata": {
        "colab_type": "text",
        "id": "CDLUxnqE34t-"
      },
      "source": [
        "We'll start the Data Cleaning by checking if the dependent variable in the test dataset contains any missing values."
      ]
    },
    {
      "cell_type": "code",
      "metadata": {
        "colab_type": "code",
        "collapsed": true,
        "id": "fGZym2UE34uC",
        "outputId": "30c4662a-ae1f-473a-f13a-44b1872032e4",
        "colab": {}
      },
      "source": [
        "train.SalePrice.isnull().sum()"
      ],
      "execution_count": 0,
      "outputs": [
        {
          "output_type": "execute_result",
          "data": {
            "text/plain": [
              "0"
            ]
          },
          "metadata": {
            "tags": []
          },
          "execution_count": 18
        }
      ]
    },
    {
      "cell_type": "markdown",
      "metadata": {
        "colab_type": "text",
        "id": "vlniKhP_34uW"
      },
      "source": [
        "All observations contain data for the target variable, therefore we can continue by taking a look at all the other variables contained in the train and test dataset."
      ]
    },
    {
      "cell_type": "code",
      "metadata": {
        "colab_type": "code",
        "id": "usqO58Df34ua",
        "colab": {}
      },
      "source": [
        "miss_count_train = train.isnull().sum().sort_values(ascending=False)\n",
        "perc_miss_train = (train.isnull().sum()/train.isnull().count()).sort_values(ascending=False)\n",
        "missings_train = pd.concat([miss_count_train, perc_miss_train], axis=1, keys=[\"Total\", \"Percent\"])\n",
        "\n",
        "miss_count_test = test.isnull().sum().sort_values(ascending=False)\n",
        "perc_miss_test = (test.isnull().sum() / test.isnull().count()).sort_values(ascending=False)\n",
        "missings_test = pd.concat([miss_count_test, perc_miss_test], axis=1, keys=[\"Total\", \"Percent\"])"
      ],
      "execution_count": 0,
      "outputs": []
    },
    {
      "cell_type": "code",
      "metadata": {
        "colab_type": "code",
        "collapsed": true,
        "id": "NiPA3qGA34up",
        "outputId": "ea3a3d6f-6e92-4e79-f1e2-f688e06f0a25",
        "colab": {}
      },
      "source": [
        "missings_train.head(20)"
      ],
      "execution_count": 0,
      "outputs": [
        {
          "output_type": "execute_result",
          "data": {
            "text/html": [
              "<div>\n",
              "<style scoped>\n",
              "    .dataframe tbody tr th:only-of-type {\n",
              "        vertical-align: middle;\n",
              "    }\n",
              "\n",
              "    .dataframe tbody tr th {\n",
              "        vertical-align: top;\n",
              "    }\n",
              "\n",
              "    .dataframe thead th {\n",
              "        text-align: right;\n",
              "    }\n",
              "</style>\n",
              "<table border=\"1\" class=\"dataframe\">\n",
              "  <thead>\n",
              "    <tr style=\"text-align: right;\">\n",
              "      <th></th>\n",
              "      <th>Total</th>\n",
              "      <th>Percent</th>\n",
              "    </tr>\n",
              "  </thead>\n",
              "  <tbody>\n",
              "    <tr>\n",
              "      <th>PoolQC</th>\n",
              "      <td>1453</td>\n",
              "      <td>0.995205</td>\n",
              "    </tr>\n",
              "    <tr>\n",
              "      <th>MiscFeature</th>\n",
              "      <td>1406</td>\n",
              "      <td>0.963014</td>\n",
              "    </tr>\n",
              "    <tr>\n",
              "      <th>Alley</th>\n",
              "      <td>1369</td>\n",
              "      <td>0.937671</td>\n",
              "    </tr>\n",
              "    <tr>\n",
              "      <th>Fence</th>\n",
              "      <td>1179</td>\n",
              "      <td>0.807534</td>\n",
              "    </tr>\n",
              "    <tr>\n",
              "      <th>FireplaceQu</th>\n",
              "      <td>690</td>\n",
              "      <td>0.472603</td>\n",
              "    </tr>\n",
              "    <tr>\n",
              "      <th>LotFrontage</th>\n",
              "      <td>259</td>\n",
              "      <td>0.177397</td>\n",
              "    </tr>\n",
              "    <tr>\n",
              "      <th>GarageCond</th>\n",
              "      <td>81</td>\n",
              "      <td>0.055479</td>\n",
              "    </tr>\n",
              "    <tr>\n",
              "      <th>GarageType</th>\n",
              "      <td>81</td>\n",
              "      <td>0.055479</td>\n",
              "    </tr>\n",
              "    <tr>\n",
              "      <th>GarageYrBlt</th>\n",
              "      <td>81</td>\n",
              "      <td>0.055479</td>\n",
              "    </tr>\n",
              "    <tr>\n",
              "      <th>GarageFinish</th>\n",
              "      <td>81</td>\n",
              "      <td>0.055479</td>\n",
              "    </tr>\n",
              "    <tr>\n",
              "      <th>GarageQual</th>\n",
              "      <td>81</td>\n",
              "      <td>0.055479</td>\n",
              "    </tr>\n",
              "    <tr>\n",
              "      <th>BsmtExposure</th>\n",
              "      <td>38</td>\n",
              "      <td>0.026027</td>\n",
              "    </tr>\n",
              "    <tr>\n",
              "      <th>BsmtFinType2</th>\n",
              "      <td>38</td>\n",
              "      <td>0.026027</td>\n",
              "    </tr>\n",
              "    <tr>\n",
              "      <th>BsmtFinType1</th>\n",
              "      <td>37</td>\n",
              "      <td>0.025342</td>\n",
              "    </tr>\n",
              "    <tr>\n",
              "      <th>BsmtCond</th>\n",
              "      <td>37</td>\n",
              "      <td>0.025342</td>\n",
              "    </tr>\n",
              "    <tr>\n",
              "      <th>BsmtQual</th>\n",
              "      <td>37</td>\n",
              "      <td>0.025342</td>\n",
              "    </tr>\n",
              "    <tr>\n",
              "      <th>MasVnrArea</th>\n",
              "      <td>8</td>\n",
              "      <td>0.005479</td>\n",
              "    </tr>\n",
              "    <tr>\n",
              "      <th>MasVnrType</th>\n",
              "      <td>8</td>\n",
              "      <td>0.005479</td>\n",
              "    </tr>\n",
              "    <tr>\n",
              "      <th>Electrical</th>\n",
              "      <td>1</td>\n",
              "      <td>0.000685</td>\n",
              "    </tr>\n",
              "    <tr>\n",
              "      <th>Utilities</th>\n",
              "      <td>0</td>\n",
              "      <td>0.000000</td>\n",
              "    </tr>\n",
              "  </tbody>\n",
              "</table>\n",
              "</div>"
            ],
            "text/plain": [
              "              Total   Percent\n",
              "PoolQC         1453  0.995205\n",
              "MiscFeature    1406  0.963014\n",
              "Alley          1369  0.937671\n",
              "Fence          1179  0.807534\n",
              "FireplaceQu     690  0.472603\n",
              "LotFrontage     259  0.177397\n",
              "GarageCond       81  0.055479\n",
              "GarageType       81  0.055479\n",
              "GarageYrBlt      81  0.055479\n",
              "GarageFinish     81  0.055479\n",
              "GarageQual       81  0.055479\n",
              "BsmtExposure     38  0.026027\n",
              "BsmtFinType2     38  0.026027\n",
              "BsmtFinType1     37  0.025342\n",
              "BsmtCond         37  0.025342\n",
              "BsmtQual         37  0.025342\n",
              "MasVnrArea        8  0.005479\n",
              "MasVnrType        8  0.005479\n",
              "Electrical        1  0.000685\n",
              "Utilities         0  0.000000"
            ]
          },
          "metadata": {
            "tags": []
          },
          "execution_count": 10
        }
      ]
    },
    {
      "cell_type": "code",
      "metadata": {
        "colab_type": "code",
        "collapsed": true,
        "id": "fdqdss0c34u6",
        "outputId": "9a373e30-e740-4e7d-ea9b-961a7b106475",
        "colab": {}
      },
      "source": [
        "missings_test.head(20)"
      ],
      "execution_count": 0,
      "outputs": [
        {
          "output_type": "execute_result",
          "data": {
            "text/html": [
              "<div>\n",
              "<style scoped>\n",
              "    .dataframe tbody tr th:only-of-type {\n",
              "        vertical-align: middle;\n",
              "    }\n",
              "\n",
              "    .dataframe tbody tr th {\n",
              "        vertical-align: top;\n",
              "    }\n",
              "\n",
              "    .dataframe thead th {\n",
              "        text-align: right;\n",
              "    }\n",
              "</style>\n",
              "<table border=\"1\" class=\"dataframe\">\n",
              "  <thead>\n",
              "    <tr style=\"text-align: right;\">\n",
              "      <th></th>\n",
              "      <th>Total</th>\n",
              "      <th>Percent</th>\n",
              "    </tr>\n",
              "  </thead>\n",
              "  <tbody>\n",
              "    <tr>\n",
              "      <th>PoolQC</th>\n",
              "      <td>1456</td>\n",
              "      <td>0.997944</td>\n",
              "    </tr>\n",
              "    <tr>\n",
              "      <th>MiscFeature</th>\n",
              "      <td>1408</td>\n",
              "      <td>0.965045</td>\n",
              "    </tr>\n",
              "    <tr>\n",
              "      <th>Alley</th>\n",
              "      <td>1352</td>\n",
              "      <td>0.926662</td>\n",
              "    </tr>\n",
              "    <tr>\n",
              "      <th>Fence</th>\n",
              "      <td>1169</td>\n",
              "      <td>0.801234</td>\n",
              "    </tr>\n",
              "    <tr>\n",
              "      <th>FireplaceQu</th>\n",
              "      <td>730</td>\n",
              "      <td>0.500343</td>\n",
              "    </tr>\n",
              "    <tr>\n",
              "      <th>LotFrontage</th>\n",
              "      <td>227</td>\n",
              "      <td>0.155586</td>\n",
              "    </tr>\n",
              "    <tr>\n",
              "      <th>GarageCond</th>\n",
              "      <td>78</td>\n",
              "      <td>0.053461</td>\n",
              "    </tr>\n",
              "    <tr>\n",
              "      <th>GarageQual</th>\n",
              "      <td>78</td>\n",
              "      <td>0.053461</td>\n",
              "    </tr>\n",
              "    <tr>\n",
              "      <th>GarageYrBlt</th>\n",
              "      <td>78</td>\n",
              "      <td>0.053461</td>\n",
              "    </tr>\n",
              "    <tr>\n",
              "      <th>GarageFinish</th>\n",
              "      <td>78</td>\n",
              "      <td>0.053461</td>\n",
              "    </tr>\n",
              "    <tr>\n",
              "      <th>GarageType</th>\n",
              "      <td>76</td>\n",
              "      <td>0.052090</td>\n",
              "    </tr>\n",
              "    <tr>\n",
              "      <th>BsmtCond</th>\n",
              "      <td>45</td>\n",
              "      <td>0.030843</td>\n",
              "    </tr>\n",
              "    <tr>\n",
              "      <th>BsmtQual</th>\n",
              "      <td>44</td>\n",
              "      <td>0.030158</td>\n",
              "    </tr>\n",
              "    <tr>\n",
              "      <th>BsmtExposure</th>\n",
              "      <td>44</td>\n",
              "      <td>0.030158</td>\n",
              "    </tr>\n",
              "    <tr>\n",
              "      <th>BsmtFinType1</th>\n",
              "      <td>42</td>\n",
              "      <td>0.028787</td>\n",
              "    </tr>\n",
              "    <tr>\n",
              "      <th>BsmtFinType2</th>\n",
              "      <td>42</td>\n",
              "      <td>0.028787</td>\n",
              "    </tr>\n",
              "    <tr>\n",
              "      <th>MasVnrType</th>\n",
              "      <td>16</td>\n",
              "      <td>0.010966</td>\n",
              "    </tr>\n",
              "    <tr>\n",
              "      <th>MasVnrArea</th>\n",
              "      <td>15</td>\n",
              "      <td>0.010281</td>\n",
              "    </tr>\n",
              "    <tr>\n",
              "      <th>MSZoning</th>\n",
              "      <td>4</td>\n",
              "      <td>0.002742</td>\n",
              "    </tr>\n",
              "    <tr>\n",
              "      <th>BsmtHalfBath</th>\n",
              "      <td>2</td>\n",
              "      <td>0.001371</td>\n",
              "    </tr>\n",
              "  </tbody>\n",
              "</table>\n",
              "</div>"
            ],
            "text/plain": [
              "              Total   Percent\n",
              "PoolQC         1456  0.997944\n",
              "MiscFeature    1408  0.965045\n",
              "Alley          1352  0.926662\n",
              "Fence          1169  0.801234\n",
              "FireplaceQu     730  0.500343\n",
              "LotFrontage     227  0.155586\n",
              "GarageCond       78  0.053461\n",
              "GarageQual       78  0.053461\n",
              "GarageYrBlt      78  0.053461\n",
              "GarageFinish     78  0.053461\n",
              "GarageType       76  0.052090\n",
              "BsmtCond         45  0.030843\n",
              "BsmtQual         44  0.030158\n",
              "BsmtExposure     44  0.030158\n",
              "BsmtFinType1     42  0.028787\n",
              "BsmtFinType2     42  0.028787\n",
              "MasVnrType       16  0.010966\n",
              "MasVnrArea       15  0.010281\n",
              "MSZoning          4  0.002742\n",
              "BsmtHalfBath      2  0.001371"
            ]
          },
          "metadata": {
            "tags": []
          },
          "execution_count": 78
        }
      ]
    },
    {
      "cell_type": "markdown",
      "metadata": {
        "colab_type": "text",
        "id": "Q0HIq4h-34vK"
      },
      "source": [
        "As a rule of thumb we completely ignore columns that contain at least 15% missing values and will not try to impute the missing values with any kind of computation, e.g. using means. Therefore, we will delete the variables \"PoolQC\", \"MiscFeature\", \"Alley\", \"Fence\", \"FireplaceQu\" and \"LotFrontage\"."
      ]
    },
    {
      "cell_type": "code",
      "metadata": {
        "colab_type": "code",
        "id": "gPYMR1s934vO",
        "colab": {}
      },
      "source": [
        "train = train.drop(columns=[\"PoolQC\", \"MiscFeature\", \"Alley\", \"Fence\", \"FireplaceQu\", \"LotFrontage\"])"
      ],
      "execution_count": 0,
      "outputs": []
    },
    {
      "cell_type": "markdown",
      "metadata": {
        "colab_type": "text",
        "id": "j_eQIwGY34vZ"
      },
      "source": [
        "The variables \"GarageCond\", \"GarageType\", \"GarageQual\", \"GarageYrBlt\" and \"GarageFinish\" contain exactly the same number of missing values, which seems kind of odd. Therefore, we'll take a closer look at these variables."
      ]
    },
    {
      "cell_type": "code",
      "metadata": {
        "colab_type": "code",
        "id": "VnCIfQNl34vd",
        "colab": {}
      },
      "source": [
        "for var in [\"GarageCond\", \"GarageType\", \"GarageQual\", \"GarageYrBlt\", \"GarageFinish\"]:\n",
        "    print(pd.crosstab(index=train[var], columns=\"count\"))"
      ],
      "execution_count": 0,
      "outputs": []
    },
    {
      "cell_type": "markdown",
      "metadata": {
        "colab_type": "text",
        "id": "CyNYazDC34vu"
      },
      "source": [
        "We can see that for \"GarageCond\" and \"GarageQual\" the most frequently occurring value is \"TA\", which means that the condition and quality of the garages are average/typical. We will replace the missing values of these two variables therefore with \"TA\" as well. The variable \"GarageYrBlt\" refers to the year in which the garage was built. Since we also have the year in which the houses themselves are built we can drop this variable without losing much explaining information. In addition to that we also drop the \"GarageFinish\" and \"GarageType\" variable."
      ]
    },
    {
      "cell_type": "code",
      "metadata": {
        "colab_type": "code",
        "id": "DRYyQcRR34vy",
        "colab": {}
      },
      "source": [
        "train = train.drop(columns=[\"GarageYrBlt\", \"GarageFinish\", \"GarageType\"])\n",
        "train[\"GarageCond\"] = train.GarageCond.fillna(value=\"TA\")\n",
        "train[\"GarageQual\"] = train.GarageQual.fillna(value=\"TA\")"
      ],
      "execution_count": 0,
      "outputs": []
    },
    {
      "cell_type": "markdown",
      "metadata": {
        "colab_type": "text",
        "id": "ifXlBAh634v9"
      },
      "source": [
        "In the same way as above we take a closer look at the \"Bsmt*\" variables."
      ]
    },
    {
      "cell_type": "code",
      "metadata": {
        "colab_type": "code",
        "collapsed": true,
        "id": "eE6hYxpd34wE",
        "outputId": "57ac7ed3-7adc-40dc-fc62-5c8ddf37fee1",
        "colab": {}
      },
      "source": [
        "for var in [\"BsmtFinType2\", \"BsmtExposure\", \"BsmtCond\", \"BsmtFinType1\", \"BsmtQual\"]:\n",
        "    print(pd.crosstab(index=train[var], columns=\"count\"))"
      ],
      "execution_count": 0,
      "outputs": [
        {
          "output_type": "stream",
          "text": [
            "col_0         count\n",
            "BsmtFinType2       \n",
            "ALQ              19\n",
            "BLQ              33\n",
            "GLQ              14\n",
            "LwQ              46\n",
            "Rec              54\n",
            "Unf            1256\n",
            "col_0         count\n",
            "BsmtExposure       \n",
            "Av              221\n",
            "Gd              134\n",
            "Mn              114\n",
            "No              953\n",
            "col_0     count\n",
            "BsmtCond       \n",
            "Fa           45\n",
            "Gd           65\n",
            "Po            2\n",
            "TA         1311\n",
            "col_0         count\n",
            "BsmtFinType1       \n",
            "ALQ             220\n",
            "BLQ             148\n",
            "GLQ             418\n",
            "LwQ              74\n",
            "Rec             133\n",
            "Unf             430\n",
            "col_0     count\n",
            "BsmtQual       \n",
            "Ex          121\n",
            "Fa           35\n",
            "Gd          618\n",
            "TA          649\n"
          ],
          "name": "stdout"
        }
      ]
    },
    {
      "cell_type": "markdown",
      "metadata": {
        "colab_type": "text",
        "id": "HjiroONH34wL"
      },
      "source": [
        "We delete the \"BsmtFinType*\" variables since these are highly subjective and do not add much information to our model. The missing values of \"BsmtCond\" will be imputed with the most common value \"TA\". The rows containing missing values for \"BsmtQual\" and \"BsmtExposure\" will be deleted from the dataset."
      ]
    },
    {
      "cell_type": "code",
      "metadata": {
        "colab_type": "code",
        "id": "47K32pcX34wO",
        "colab": {}
      },
      "source": [
        "train = train.drop(columns=[\"BsmtFinType1\", \"BsmtFinType2\"])\n",
        "train.BsmtCond = train[\"BsmtCond\"].fillna(value=\"TA\")\n",
        "for var in [\"BsmtQual\", \"BsmtExposure\"]:\n",
        "    train = train.drop(train.loc[train[var].isnull()].index)"
      ],
      "execution_count": 0,
      "outputs": []
    },
    {
      "cell_type": "markdown",
      "metadata": {
        "colab_type": "text",
        "id": "aBqT3Xpy34wS"
      },
      "source": [
        "The variable \"Electrical\" contains only 1 missing value, therefore we only delete this specific row of data. We proceed in the same way with \"MasVnrType\" and \"MasVnrArea\"."
      ]
    },
    {
      "cell_type": "code",
      "metadata": {
        "colab_type": "code",
        "id": "ywH5kGKi34wV",
        "colab": {}
      },
      "source": [
        "for var in [\"Electrical\", \"MasVnrType\", \"MasVnrArea\"]:\n",
        "    train = train.drop(train.loc[train[var].isnull()].index)"
      ],
      "execution_count": 0,
      "outputs": []
    },
    {
      "cell_type": "markdown",
      "metadata": {
        "colab_type": "text",
        "id": "EDFVlGh634wa"
      },
      "source": [
        "Running the above code again to check if all missing values are deleted."
      ]
    },
    {
      "cell_type": "code",
      "metadata": {
        "colab_type": "code",
        "collapsed": true,
        "id": "vrrDbEEV34wb",
        "colab": {},
        "outputId": "36678050-ae6c-490d-902d-45f09f46c352"
      },
      "source": [
        "miss_count_train = train.isnull().sum().sort_values(ascending=False)\n",
        "perc_miss_train = (train.isnull().sum()/train.isnull().count()).sort_values(ascending=False)\n",
        "missings_train = pd.concat([miss_count_train, perc_miss_train], axis=1, keys=[\"Total\", \"Percent\"])\n",
        "missings_train"
      ],
      "execution_count": 0,
      "outputs": [
        {
          "output_type": "execute_result",
          "data": {
            "text/html": [
              "<div>\n",
              "<style scoped>\n",
              "    .dataframe tbody tr th:only-of-type {\n",
              "        vertical-align: middle;\n",
              "    }\n",
              "\n",
              "    .dataframe tbody tr th {\n",
              "        vertical-align: top;\n",
              "    }\n",
              "\n",
              "    .dataframe thead th {\n",
              "        text-align: right;\n",
              "    }\n",
              "</style>\n",
              "<table border=\"1\" class=\"dataframe\">\n",
              "  <thead>\n",
              "    <tr style=\"text-align: right;\">\n",
              "      <th></th>\n",
              "      <th>Total</th>\n",
              "      <th>Percent</th>\n",
              "    </tr>\n",
              "  </thead>\n",
              "  <tbody>\n",
              "    <tr>\n",
              "      <th>SalePrice</th>\n",
              "      <td>0</td>\n",
              "      <td>0.0</td>\n",
              "    </tr>\n",
              "    <tr>\n",
              "      <th>ExterQual</th>\n",
              "      <td>0</td>\n",
              "      <td>0.0</td>\n",
              "    </tr>\n",
              "    <tr>\n",
              "      <th>RoofStyle</th>\n",
              "      <td>0</td>\n",
              "      <td>0.0</td>\n",
              "    </tr>\n",
              "    <tr>\n",
              "      <th>RoofMatl</th>\n",
              "      <td>0</td>\n",
              "      <td>0.0</td>\n",
              "    </tr>\n",
              "    <tr>\n",
              "      <th>Exterior1st</th>\n",
              "      <td>0</td>\n",
              "      <td>0.0</td>\n",
              "    </tr>\n",
              "    <tr>\n",
              "      <th>Exterior2nd</th>\n",
              "      <td>0</td>\n",
              "      <td>0.0</td>\n",
              "    </tr>\n",
              "    <tr>\n",
              "      <th>MasVnrType</th>\n",
              "      <td>0</td>\n",
              "      <td>0.0</td>\n",
              "    </tr>\n",
              "    <tr>\n",
              "      <th>MasVnrArea</th>\n",
              "      <td>0</td>\n",
              "      <td>0.0</td>\n",
              "    </tr>\n",
              "    <tr>\n",
              "      <th>ExterCond</th>\n",
              "      <td>0</td>\n",
              "      <td>0.0</td>\n",
              "    </tr>\n",
              "    <tr>\n",
              "      <th>YearBuilt</th>\n",
              "      <td>0</td>\n",
              "      <td>0.0</td>\n",
              "    </tr>\n",
              "    <tr>\n",
              "      <th>Foundation</th>\n",
              "      <td>0</td>\n",
              "      <td>0.0</td>\n",
              "    </tr>\n",
              "    <tr>\n",
              "      <th>BsmtQual</th>\n",
              "      <td>0</td>\n",
              "      <td>0.0</td>\n",
              "    </tr>\n",
              "    <tr>\n",
              "      <th>BsmtCond</th>\n",
              "      <td>0</td>\n",
              "      <td>0.0</td>\n",
              "    </tr>\n",
              "    <tr>\n",
              "      <th>BsmtExposure</th>\n",
              "      <td>0</td>\n",
              "      <td>0.0</td>\n",
              "    </tr>\n",
              "    <tr>\n",
              "      <th>BsmtFinSF1</th>\n",
              "      <td>0</td>\n",
              "      <td>0.0</td>\n",
              "    </tr>\n",
              "    <tr>\n",
              "      <th>BsmtFinSF2</th>\n",
              "      <td>0</td>\n",
              "      <td>0.0</td>\n",
              "    </tr>\n",
              "    <tr>\n",
              "      <th>YearRemodAdd</th>\n",
              "      <td>0</td>\n",
              "      <td>0.0</td>\n",
              "    </tr>\n",
              "    <tr>\n",
              "      <th>OverallCond</th>\n",
              "      <td>0</td>\n",
              "      <td>0.0</td>\n",
              "    </tr>\n",
              "    <tr>\n",
              "      <th>SaleCondition</th>\n",
              "      <td>0</td>\n",
              "      <td>0.0</td>\n",
              "    </tr>\n",
              "    <tr>\n",
              "      <th>Utilities</th>\n",
              "      <td>0</td>\n",
              "      <td>0.0</td>\n",
              "    </tr>\n",
              "    <tr>\n",
              "      <th>MSSubClass</th>\n",
              "      <td>0</td>\n",
              "      <td>0.0</td>\n",
              "    </tr>\n",
              "    <tr>\n",
              "      <th>MSZoning</th>\n",
              "      <td>0</td>\n",
              "      <td>0.0</td>\n",
              "    </tr>\n",
              "    <tr>\n",
              "      <th>LotArea</th>\n",
              "      <td>0</td>\n",
              "      <td>0.0</td>\n",
              "    </tr>\n",
              "    <tr>\n",
              "      <th>Street</th>\n",
              "      <td>0</td>\n",
              "      <td>0.0</td>\n",
              "    </tr>\n",
              "    <tr>\n",
              "      <th>LotShape</th>\n",
              "      <td>0</td>\n",
              "      <td>0.0</td>\n",
              "    </tr>\n",
              "    <tr>\n",
              "      <th>LandContour</th>\n",
              "      <td>0</td>\n",
              "      <td>0.0</td>\n",
              "    </tr>\n",
              "    <tr>\n",
              "      <th>LotConfig</th>\n",
              "      <td>0</td>\n",
              "      <td>0.0</td>\n",
              "    </tr>\n",
              "    <tr>\n",
              "      <th>OverallQual</th>\n",
              "      <td>0</td>\n",
              "      <td>0.0</td>\n",
              "    </tr>\n",
              "    <tr>\n",
              "      <th>LandSlope</th>\n",
              "      <td>0</td>\n",
              "      <td>0.0</td>\n",
              "    </tr>\n",
              "    <tr>\n",
              "      <th>Neighborhood</th>\n",
              "      <td>0</td>\n",
              "      <td>0.0</td>\n",
              "    </tr>\n",
              "    <tr>\n",
              "      <th>...</th>\n",
              "      <td>...</td>\n",
              "      <td>...</td>\n",
              "    </tr>\n",
              "    <tr>\n",
              "      <th>GarageCond</th>\n",
              "      <td>0</td>\n",
              "      <td>0.0</td>\n",
              "    </tr>\n",
              "    <tr>\n",
              "      <th>PavedDrive</th>\n",
              "      <td>0</td>\n",
              "      <td>0.0</td>\n",
              "    </tr>\n",
              "    <tr>\n",
              "      <th>WoodDeckSF</th>\n",
              "      <td>0</td>\n",
              "      <td>0.0</td>\n",
              "    </tr>\n",
              "    <tr>\n",
              "      <th>OpenPorchSF</th>\n",
              "      <td>0</td>\n",
              "      <td>0.0</td>\n",
              "    </tr>\n",
              "    <tr>\n",
              "      <th>3SsnPorch</th>\n",
              "      <td>0</td>\n",
              "      <td>0.0</td>\n",
              "    </tr>\n",
              "    <tr>\n",
              "      <th>HeatingQC</th>\n",
              "      <td>0</td>\n",
              "      <td>0.0</td>\n",
              "    </tr>\n",
              "    <tr>\n",
              "      <th>ScreenPorch</th>\n",
              "      <td>0</td>\n",
              "      <td>0.0</td>\n",
              "    </tr>\n",
              "    <tr>\n",
              "      <th>PoolArea</th>\n",
              "      <td>0</td>\n",
              "      <td>0.0</td>\n",
              "    </tr>\n",
              "    <tr>\n",
              "      <th>MiscVal</th>\n",
              "      <td>0</td>\n",
              "      <td>0.0</td>\n",
              "    </tr>\n",
              "    <tr>\n",
              "      <th>MoSold</th>\n",
              "      <td>0</td>\n",
              "      <td>0.0</td>\n",
              "    </tr>\n",
              "    <tr>\n",
              "      <th>YrSold</th>\n",
              "      <td>0</td>\n",
              "      <td>0.0</td>\n",
              "    </tr>\n",
              "    <tr>\n",
              "      <th>SaleType</th>\n",
              "      <td>0</td>\n",
              "      <td>0.0</td>\n",
              "    </tr>\n",
              "    <tr>\n",
              "      <th>GarageCars</th>\n",
              "      <td>0</td>\n",
              "      <td>0.0</td>\n",
              "    </tr>\n",
              "    <tr>\n",
              "      <th>Fireplaces</th>\n",
              "      <td>0</td>\n",
              "      <td>0.0</td>\n",
              "    </tr>\n",
              "    <tr>\n",
              "      <th>Functional</th>\n",
              "      <td>0</td>\n",
              "      <td>0.0</td>\n",
              "    </tr>\n",
              "    <tr>\n",
              "      <th>TotRmsAbvGrd</th>\n",
              "      <td>0</td>\n",
              "      <td>0.0</td>\n",
              "    </tr>\n",
              "    <tr>\n",
              "      <th>KitchenQual</th>\n",
              "      <td>0</td>\n",
              "      <td>0.0</td>\n",
              "    </tr>\n",
              "    <tr>\n",
              "      <th>KitchenAbvGr</th>\n",
              "      <td>0</td>\n",
              "      <td>0.0</td>\n",
              "    </tr>\n",
              "    <tr>\n",
              "      <th>BedroomAbvGr</th>\n",
              "      <td>0</td>\n",
              "      <td>0.0</td>\n",
              "    </tr>\n",
              "    <tr>\n",
              "      <th>HalfBath</th>\n",
              "      <td>0</td>\n",
              "      <td>0.0</td>\n",
              "    </tr>\n",
              "    <tr>\n",
              "      <th>FullBath</th>\n",
              "      <td>0</td>\n",
              "      <td>0.0</td>\n",
              "    </tr>\n",
              "    <tr>\n",
              "      <th>BsmtHalfBath</th>\n",
              "      <td>0</td>\n",
              "      <td>0.0</td>\n",
              "    </tr>\n",
              "    <tr>\n",
              "      <th>BsmtFullBath</th>\n",
              "      <td>0</td>\n",
              "      <td>0.0</td>\n",
              "    </tr>\n",
              "    <tr>\n",
              "      <th>GrLivArea</th>\n",
              "      <td>0</td>\n",
              "      <td>0.0</td>\n",
              "    </tr>\n",
              "    <tr>\n",
              "      <th>LowQualFinSF</th>\n",
              "      <td>0</td>\n",
              "      <td>0.0</td>\n",
              "    </tr>\n",
              "    <tr>\n",
              "      <th>2ndFlrSF</th>\n",
              "      <td>0</td>\n",
              "      <td>0.0</td>\n",
              "    </tr>\n",
              "    <tr>\n",
              "      <th>1stFlrSF</th>\n",
              "      <td>0</td>\n",
              "      <td>0.0</td>\n",
              "    </tr>\n",
              "    <tr>\n",
              "      <th>Electrical</th>\n",
              "      <td>0</td>\n",
              "      <td>0.0</td>\n",
              "    </tr>\n",
              "    <tr>\n",
              "      <th>CentralAir</th>\n",
              "      <td>0</td>\n",
              "      <td>0.0</td>\n",
              "    </tr>\n",
              "    <tr>\n",
              "      <th>Id</th>\n",
              "      <td>0</td>\n",
              "      <td>0.0</td>\n",
              "    </tr>\n",
              "  </tbody>\n",
              "</table>\n",
              "<p>70 rows × 2 columns</p>\n",
              "</div>"
            ],
            "text/plain": [
              "               Total  Percent\n",
              "SalePrice          0      0.0\n",
              "ExterQual          0      0.0\n",
              "RoofStyle          0      0.0\n",
              "RoofMatl           0      0.0\n",
              "Exterior1st        0      0.0\n",
              "Exterior2nd        0      0.0\n",
              "MasVnrType         0      0.0\n",
              "MasVnrArea         0      0.0\n",
              "ExterCond          0      0.0\n",
              "YearBuilt          0      0.0\n",
              "Foundation         0      0.0\n",
              "BsmtQual           0      0.0\n",
              "BsmtCond           0      0.0\n",
              "BsmtExposure       0      0.0\n",
              "BsmtFinSF1         0      0.0\n",
              "BsmtFinSF2         0      0.0\n",
              "YearRemodAdd       0      0.0\n",
              "OverallCond        0      0.0\n",
              "SaleCondition      0      0.0\n",
              "Utilities          0      0.0\n",
              "MSSubClass         0      0.0\n",
              "MSZoning           0      0.0\n",
              "LotArea            0      0.0\n",
              "Street             0      0.0\n",
              "LotShape           0      0.0\n",
              "LandContour        0      0.0\n",
              "LotConfig          0      0.0\n",
              "OverallQual        0      0.0\n",
              "LandSlope          0      0.0\n",
              "Neighborhood       0      0.0\n",
              "...              ...      ...\n",
              "GarageCond         0      0.0\n",
              "PavedDrive         0      0.0\n",
              "WoodDeckSF         0      0.0\n",
              "OpenPorchSF        0      0.0\n",
              "3SsnPorch          0      0.0\n",
              "HeatingQC          0      0.0\n",
              "ScreenPorch        0      0.0\n",
              "PoolArea           0      0.0\n",
              "MiscVal            0      0.0\n",
              "MoSold             0      0.0\n",
              "YrSold             0      0.0\n",
              "SaleType           0      0.0\n",
              "GarageCars         0      0.0\n",
              "Fireplaces         0      0.0\n",
              "Functional         0      0.0\n",
              "TotRmsAbvGrd       0      0.0\n",
              "KitchenQual        0      0.0\n",
              "KitchenAbvGr       0      0.0\n",
              "BedroomAbvGr       0      0.0\n",
              "HalfBath           0      0.0\n",
              "FullBath           0      0.0\n",
              "BsmtHalfBath       0      0.0\n",
              "BsmtFullBath       0      0.0\n",
              "GrLivArea          0      0.0\n",
              "LowQualFinSF       0      0.0\n",
              "2ndFlrSF           0      0.0\n",
              "1stFlrSF           0      0.0\n",
              "Electrical         0      0.0\n",
              "CentralAir         0      0.0\n",
              "Id                 0      0.0\n",
              "\n",
              "[70 rows x 2 columns]"
            ]
          },
          "metadata": {
            "tags": []
          },
          "execution_count": 8
        }
      ]
    },
    {
      "cell_type": "markdown",
      "metadata": {
        "colab_type": "text",
        "id": "fdaOnbm834wh"
      },
      "source": [
        "This looks good.\n",
        "\n",
        "We now handled all the missing data on the training set. As the next step we will clean the test data. Since we want to evaluate our model on Kaggle after finishing the modeling, we cannot drop any observations because we need predicted house prices for each row of the test data. Therefore, we will impute the missing data in the test dataset with the most frequent category for categorical features and the mean for numerical features."
      ]
    },
    {
      "cell_type": "code",
      "metadata": {
        "colab_type": "code",
        "id": "T07BcebQ34wi",
        "colab": {}
      },
      "source": [
        "test = test.drop(columns=[\"PoolQC\", \"MiscFeature\", \"Alley\", \"Fence\", \"FireplaceQu\", \"LotFrontage\"])\n",
        "test = test.drop(columns=[\"GarageYrBlt\", \"GarageFinish\", \"GarageType\"])\n",
        "test[\"GarageCond\"] = test.GarageCond.fillna(value=\"TA\")\n",
        "test[\"GarageQual\"] = test.GarageQual.fillna(value=\"TA\")\n",
        "test = test.drop(columns=[\"BsmtFinType1\", \"BsmtFinType2\"])\n",
        "test.BsmtCond = test[\"BsmtCond\"].fillna(value=\"TA\")\n"
      ],
      "execution_count": 0,
      "outputs": []
    },
    {
      "cell_type": "code",
      "metadata": {
        "colab_type": "code",
        "id": "K9j5QhK034wo",
        "outputId": "00ba08e8-8a16-4dc4-f7fb-8d05ac20cf66",
        "colab": {
          "base_uri": "https://localhost:8080/",
          "height": 35
        }
      },
      "source": [
        "test.shape, train.shape"
      ],
      "execution_count": 25,
      "outputs": [
        {
          "output_type": "execute_result",
          "data": {
            "text/plain": [
              "((1459, 69), (1413, 70))"
            ]
          },
          "metadata": {
            "tags": []
          },
          "execution_count": 25
        }
      ]
    },
    {
      "cell_type": "code",
      "metadata": {
        "colab_type": "code",
        "id": "AQ02w-JV34wv",
        "colab": {}
      },
      "source": [
        "# categorical:\n",
        "for var in [\"BsmtExposure\", \"BsmtQual\", \"MasVnrType\", \"MSZoning\", \"Utilities\", \"Functional\", \"SaleType\", \"Exterior2nd\", \"Exterior1st\", \"KitchenQual\"]:\n",
        "    test[var] = test[var].fillna(value=test[var].value_counts().index[0])\n",
        "\n",
        "# numerical\n",
        "for var in [\"MasVnrArea\", \"BsmtHalfBath\", \"BsmtFullBath\", \"BsmtUnfSF\", \"GarageArea\", \"GarageCars\", \"BsmtFinSF1\", \"BsmtFinSF2\", \"TotalBsmtSF\"]:\n",
        "    test[var] = test[var].fillna(test[var].mean())"
      ],
      "execution_count": 0,
      "outputs": []
    },
    {
      "cell_type": "code",
      "metadata": {
        "colab_type": "code",
        "collapsed": true,
        "id": "tUcKwJKs34wy",
        "colab": {},
        "outputId": "cbf36e96-0f23-4149-f108-c64fc2bdb473"
      },
      "source": [
        "miss_count_test = test.isnull().sum().sort_values(ascending=False)\n",
        "perc_miss_test = (test.isnull().sum() / test.isnull().count()).sort_values(ascending=False)\n",
        "missings_test = pd.concat([miss_count_test, perc_miss_test], axis=1, keys=[\"Total\", \"Percent\"])\n",
        "missings_test"
      ],
      "execution_count": 0,
      "outputs": [
        {
          "output_type": "execute_result",
          "data": {
            "text/html": [
              "<div>\n",
              "<style scoped>\n",
              "    .dataframe tbody tr th:only-of-type {\n",
              "        vertical-align: middle;\n",
              "    }\n",
              "\n",
              "    .dataframe tbody tr th {\n",
              "        vertical-align: top;\n",
              "    }\n",
              "\n",
              "    .dataframe thead th {\n",
              "        text-align: right;\n",
              "    }\n",
              "</style>\n",
              "<table border=\"1\" class=\"dataframe\">\n",
              "  <thead>\n",
              "    <tr style=\"text-align: right;\">\n",
              "      <th></th>\n",
              "      <th>Total</th>\n",
              "      <th>Percent</th>\n",
              "    </tr>\n",
              "  </thead>\n",
              "  <tbody>\n",
              "    <tr>\n",
              "      <th>SaleCondition</th>\n",
              "      <td>0</td>\n",
              "      <td>0.0</td>\n",
              "    </tr>\n",
              "    <tr>\n",
              "      <th>MasVnrArea</th>\n",
              "      <td>0</td>\n",
              "      <td>0.0</td>\n",
              "    </tr>\n",
              "    <tr>\n",
              "      <th>YearRemodAdd</th>\n",
              "      <td>0</td>\n",
              "      <td>0.0</td>\n",
              "    </tr>\n",
              "    <tr>\n",
              "      <th>RoofStyle</th>\n",
              "      <td>0</td>\n",
              "      <td>0.0</td>\n",
              "    </tr>\n",
              "    <tr>\n",
              "      <th>RoofMatl</th>\n",
              "      <td>0</td>\n",
              "      <td>0.0</td>\n",
              "    </tr>\n",
              "    <tr>\n",
              "      <th>Exterior1st</th>\n",
              "      <td>0</td>\n",
              "      <td>0.0</td>\n",
              "    </tr>\n",
              "    <tr>\n",
              "      <th>Exterior2nd</th>\n",
              "      <td>0</td>\n",
              "      <td>0.0</td>\n",
              "    </tr>\n",
              "    <tr>\n",
              "      <th>MasVnrType</th>\n",
              "      <td>0</td>\n",
              "      <td>0.0</td>\n",
              "    </tr>\n",
              "    <tr>\n",
              "      <th>ExterQual</th>\n",
              "      <td>0</td>\n",
              "      <td>0.0</td>\n",
              "    </tr>\n",
              "    <tr>\n",
              "      <th>BsmtUnfSF</th>\n",
              "      <td>0</td>\n",
              "      <td>0.0</td>\n",
              "    </tr>\n",
              "    <tr>\n",
              "      <th>ExterCond</th>\n",
              "      <td>0</td>\n",
              "      <td>0.0</td>\n",
              "    </tr>\n",
              "    <tr>\n",
              "      <th>Foundation</th>\n",
              "      <td>0</td>\n",
              "      <td>0.0</td>\n",
              "    </tr>\n",
              "    <tr>\n",
              "      <th>BsmtQual</th>\n",
              "      <td>0</td>\n",
              "      <td>0.0</td>\n",
              "    </tr>\n",
              "    <tr>\n",
              "      <th>BsmtCond</th>\n",
              "      <td>0</td>\n",
              "      <td>0.0</td>\n",
              "    </tr>\n",
              "    <tr>\n",
              "      <th>BsmtExposure</th>\n",
              "      <td>0</td>\n",
              "      <td>0.0</td>\n",
              "    </tr>\n",
              "    <tr>\n",
              "      <th>BsmtFinSF1</th>\n",
              "      <td>0</td>\n",
              "      <td>0.0</td>\n",
              "    </tr>\n",
              "    <tr>\n",
              "      <th>YearBuilt</th>\n",
              "      <td>0</td>\n",
              "      <td>0.0</td>\n",
              "    </tr>\n",
              "    <tr>\n",
              "      <th>OverallCond</th>\n",
              "      <td>0</td>\n",
              "      <td>0.0</td>\n",
              "    </tr>\n",
              "    <tr>\n",
              "      <th>OverallQual</th>\n",
              "      <td>0</td>\n",
              "      <td>0.0</td>\n",
              "    </tr>\n",
              "    <tr>\n",
              "      <th>HouseStyle</th>\n",
              "      <td>0</td>\n",
              "      <td>0.0</td>\n",
              "    </tr>\n",
              "    <tr>\n",
              "      <th>BldgType</th>\n",
              "      <td>0</td>\n",
              "      <td>0.0</td>\n",
              "    </tr>\n",
              "    <tr>\n",
              "      <th>Condition2</th>\n",
              "      <td>0</td>\n",
              "      <td>0.0</td>\n",
              "    </tr>\n",
              "    <tr>\n",
              "      <th>Condition1</th>\n",
              "      <td>0</td>\n",
              "      <td>0.0</td>\n",
              "    </tr>\n",
              "    <tr>\n",
              "      <th>Neighborhood</th>\n",
              "      <td>0</td>\n",
              "      <td>0.0</td>\n",
              "    </tr>\n",
              "    <tr>\n",
              "      <th>LandSlope</th>\n",
              "      <td>0</td>\n",
              "      <td>0.0</td>\n",
              "    </tr>\n",
              "    <tr>\n",
              "      <th>LotConfig</th>\n",
              "      <td>0</td>\n",
              "      <td>0.0</td>\n",
              "    </tr>\n",
              "    <tr>\n",
              "      <th>Utilities</th>\n",
              "      <td>0</td>\n",
              "      <td>0.0</td>\n",
              "    </tr>\n",
              "    <tr>\n",
              "      <th>LandContour</th>\n",
              "      <td>0</td>\n",
              "      <td>0.0</td>\n",
              "    </tr>\n",
              "    <tr>\n",
              "      <th>LotShape</th>\n",
              "      <td>0</td>\n",
              "      <td>0.0</td>\n",
              "    </tr>\n",
              "    <tr>\n",
              "      <th>Street</th>\n",
              "      <td>0</td>\n",
              "      <td>0.0</td>\n",
              "    </tr>\n",
              "    <tr>\n",
              "      <th>...</th>\n",
              "      <td>...</td>\n",
              "      <td>...</td>\n",
              "    </tr>\n",
              "    <tr>\n",
              "      <th>GarageQual</th>\n",
              "      <td>0</td>\n",
              "      <td>0.0</td>\n",
              "    </tr>\n",
              "    <tr>\n",
              "      <th>GarageCond</th>\n",
              "      <td>0</td>\n",
              "      <td>0.0</td>\n",
              "    </tr>\n",
              "    <tr>\n",
              "      <th>PavedDrive</th>\n",
              "      <td>0</td>\n",
              "      <td>0.0</td>\n",
              "    </tr>\n",
              "    <tr>\n",
              "      <th>WoodDeckSF</th>\n",
              "      <td>0</td>\n",
              "      <td>0.0</td>\n",
              "    </tr>\n",
              "    <tr>\n",
              "      <th>EnclosedPorch</th>\n",
              "      <td>0</td>\n",
              "      <td>0.0</td>\n",
              "    </tr>\n",
              "    <tr>\n",
              "      <th>Heating</th>\n",
              "      <td>0</td>\n",
              "      <td>0.0</td>\n",
              "    </tr>\n",
              "    <tr>\n",
              "      <th>3SsnPorch</th>\n",
              "      <td>0</td>\n",
              "      <td>0.0</td>\n",
              "    </tr>\n",
              "    <tr>\n",
              "      <th>ScreenPorch</th>\n",
              "      <td>0</td>\n",
              "      <td>0.0</td>\n",
              "    </tr>\n",
              "    <tr>\n",
              "      <th>PoolArea</th>\n",
              "      <td>0</td>\n",
              "      <td>0.0</td>\n",
              "    </tr>\n",
              "    <tr>\n",
              "      <th>MiscVal</th>\n",
              "      <td>0</td>\n",
              "      <td>0.0</td>\n",
              "    </tr>\n",
              "    <tr>\n",
              "      <th>MoSold</th>\n",
              "      <td>0</td>\n",
              "      <td>0.0</td>\n",
              "    </tr>\n",
              "    <tr>\n",
              "      <th>YrSold</th>\n",
              "      <td>0</td>\n",
              "      <td>0.0</td>\n",
              "    </tr>\n",
              "    <tr>\n",
              "      <th>Fireplaces</th>\n",
              "      <td>0</td>\n",
              "      <td>0.0</td>\n",
              "    </tr>\n",
              "    <tr>\n",
              "      <th>Functional</th>\n",
              "      <td>0</td>\n",
              "      <td>0.0</td>\n",
              "    </tr>\n",
              "    <tr>\n",
              "      <th>TotRmsAbvGrd</th>\n",
              "      <td>0</td>\n",
              "      <td>0.0</td>\n",
              "    </tr>\n",
              "    <tr>\n",
              "      <th>KitchenQual</th>\n",
              "      <td>0</td>\n",
              "      <td>0.0</td>\n",
              "    </tr>\n",
              "    <tr>\n",
              "      <th>KitchenAbvGr</th>\n",
              "      <td>0</td>\n",
              "      <td>0.0</td>\n",
              "    </tr>\n",
              "    <tr>\n",
              "      <th>BedroomAbvGr</th>\n",
              "      <td>0</td>\n",
              "      <td>0.0</td>\n",
              "    </tr>\n",
              "    <tr>\n",
              "      <th>HalfBath</th>\n",
              "      <td>0</td>\n",
              "      <td>0.0</td>\n",
              "    </tr>\n",
              "    <tr>\n",
              "      <th>FullBath</th>\n",
              "      <td>0</td>\n",
              "      <td>0.0</td>\n",
              "    </tr>\n",
              "    <tr>\n",
              "      <th>BsmtHalfBath</th>\n",
              "      <td>0</td>\n",
              "      <td>0.0</td>\n",
              "    </tr>\n",
              "    <tr>\n",
              "      <th>BsmtFullBath</th>\n",
              "      <td>0</td>\n",
              "      <td>0.0</td>\n",
              "    </tr>\n",
              "    <tr>\n",
              "      <th>GrLivArea</th>\n",
              "      <td>0</td>\n",
              "      <td>0.0</td>\n",
              "    </tr>\n",
              "    <tr>\n",
              "      <th>LowQualFinSF</th>\n",
              "      <td>0</td>\n",
              "      <td>0.0</td>\n",
              "    </tr>\n",
              "    <tr>\n",
              "      <th>2ndFlrSF</th>\n",
              "      <td>0</td>\n",
              "      <td>0.0</td>\n",
              "    </tr>\n",
              "    <tr>\n",
              "      <th>1stFlrSF</th>\n",
              "      <td>0</td>\n",
              "      <td>0.0</td>\n",
              "    </tr>\n",
              "    <tr>\n",
              "      <th>Electrical</th>\n",
              "      <td>0</td>\n",
              "      <td>0.0</td>\n",
              "    </tr>\n",
              "    <tr>\n",
              "      <th>CentralAir</th>\n",
              "      <td>0</td>\n",
              "      <td>0.0</td>\n",
              "    </tr>\n",
              "    <tr>\n",
              "      <th>HeatingQC</th>\n",
              "      <td>0</td>\n",
              "      <td>0.0</td>\n",
              "    </tr>\n",
              "    <tr>\n",
              "      <th>Id</th>\n",
              "      <td>0</td>\n",
              "      <td>0.0</td>\n",
              "    </tr>\n",
              "  </tbody>\n",
              "</table>\n",
              "<p>69 rows × 2 columns</p>\n",
              "</div>"
            ],
            "text/plain": [
              "               Total  Percent\n",
              "SaleCondition      0      0.0\n",
              "MasVnrArea         0      0.0\n",
              "YearRemodAdd       0      0.0\n",
              "RoofStyle          0      0.0\n",
              "RoofMatl           0      0.0\n",
              "Exterior1st        0      0.0\n",
              "Exterior2nd        0      0.0\n",
              "MasVnrType         0      0.0\n",
              "ExterQual          0      0.0\n",
              "BsmtUnfSF          0      0.0\n",
              "ExterCond          0      0.0\n",
              "Foundation         0      0.0\n",
              "BsmtQual           0      0.0\n",
              "BsmtCond           0      0.0\n",
              "BsmtExposure       0      0.0\n",
              "BsmtFinSF1         0      0.0\n",
              "YearBuilt          0      0.0\n",
              "OverallCond        0      0.0\n",
              "OverallQual        0      0.0\n",
              "HouseStyle         0      0.0\n",
              "BldgType           0      0.0\n",
              "Condition2         0      0.0\n",
              "Condition1         0      0.0\n",
              "Neighborhood       0      0.0\n",
              "LandSlope          0      0.0\n",
              "LotConfig          0      0.0\n",
              "Utilities          0      0.0\n",
              "LandContour        0      0.0\n",
              "LotShape           0      0.0\n",
              "Street             0      0.0\n",
              "...              ...      ...\n",
              "GarageQual         0      0.0\n",
              "GarageCond         0      0.0\n",
              "PavedDrive         0      0.0\n",
              "WoodDeckSF         0      0.0\n",
              "EnclosedPorch      0      0.0\n",
              "Heating            0      0.0\n",
              "3SsnPorch          0      0.0\n",
              "ScreenPorch        0      0.0\n",
              "PoolArea           0      0.0\n",
              "MiscVal            0      0.0\n",
              "MoSold             0      0.0\n",
              "YrSold             0      0.0\n",
              "Fireplaces         0      0.0\n",
              "Functional         0      0.0\n",
              "TotRmsAbvGrd       0      0.0\n",
              "KitchenQual        0      0.0\n",
              "KitchenAbvGr       0      0.0\n",
              "BedroomAbvGr       0      0.0\n",
              "HalfBath           0      0.0\n",
              "FullBath           0      0.0\n",
              "BsmtHalfBath       0      0.0\n",
              "BsmtFullBath       0      0.0\n",
              "GrLivArea          0      0.0\n",
              "LowQualFinSF       0      0.0\n",
              "2ndFlrSF           0      0.0\n",
              "1stFlrSF           0      0.0\n",
              "Electrical         0      0.0\n",
              "CentralAir         0      0.0\n",
              "HeatingQC          0      0.0\n",
              "Id                 0      0.0\n",
              "\n",
              "[69 rows x 2 columns]"
            ]
          },
          "metadata": {
            "tags": []
          },
          "execution_count": 95
        }
      ]
    },
    {
      "cell_type": "code",
      "metadata": {
        "colab_type": "code",
        "id": "R8g62-3534w6",
        "outputId": "6d7b0c8f-64f2-421d-e9f7-67efa3105aaf",
        "colab": {
          "base_uri": "https://localhost:8080/",
          "height": 35
        }
      },
      "source": [
        "test.shape, train.shape"
      ],
      "execution_count": 27,
      "outputs": [
        {
          "output_type": "execute_result",
          "data": {
            "text/plain": [
              "((1459, 69), (1413, 70))"
            ]
          },
          "metadata": {
            "tags": []
          },
          "execution_count": 27
        }
      ]
    },
    {
      "cell_type": "markdown",
      "metadata": {
        "colab_type": "text",
        "id": "BhEJ_0_Z34w_"
      },
      "source": [
        "Perfect. We do not have any missing values in our test set anymore and have kept all observations, for which we gonna predict the House Sale Price."
      ]
    },
    {
      "cell_type": "markdown",
      "metadata": {
        "id": "GR-MJLuoDD-t",
        "colab_type": "text"
      },
      "source": [
        "For now we will not create any additional features and just use the features that are already in our dataset. The only feature we are going to create is a variable containing the total area of the living space."
      ]
    },
    {
      "cell_type": "code",
      "metadata": {
        "id": "5jRl8Q4NDD-w",
        "colab_type": "code",
        "colab": {}
      },
      "source": [
        "train[\"TotalSF\"] = train[\"TotalBsmtSF\"] + train[\"GrLivArea\"]\n",
        "test[\"TotalSF\"] = test[\"TotalBsmtSF\"] + test[\"GrLivArea\"]"
      ],
      "execution_count": 0,
      "outputs": []
    },
    {
      "cell_type": "markdown",
      "metadata": {
        "id": "fl9Zp3-VDD-0",
        "colab_type": "text"
      },
      "source": [
        "We will also take a look at the skewness and the kurtosis of the numerical feature to see if they are (at least somehow close to) normally distributed."
      ]
    },
    {
      "cell_type": "code",
      "metadata": {
        "id": "HeXhTPX5DD-1",
        "colab_type": "code",
        "colab": {}
      },
      "source": [
        "num_cols = train.dtypes != \"object\"\n",
        "skewness_train = (train.loc[:, num_cols].skew()).sort_values(ascending=False) \n",
        "skewness_test = (test.loc[:, num_cols].skew()).sort_values(ascending=False)"
      ],
      "execution_count": 0,
      "outputs": []
    },
    {
      "cell_type": "code",
      "metadata": {
        "collapsed": true,
        "id": "KntlLN9bDD-4",
        "colab_type": "code",
        "colab": {},
        "outputId": "ffbb9d15-6597-441b-e74c-f22709c73f5d"
      },
      "source": [
        "skewness_train, skewness_test"
      ],
      "execution_count": 0,
      "outputs": [
        {
          "output_type": "execute_result",
          "data": {
            "text/plain": [
              "(PoolArea         14.127094\n",
              " 3SsnPorch         7.780393\n",
              " LowQualFinSF      7.455332\n",
              " MiscVal           5.247312\n",
              " KitchenAbvGr      4.345562\n",
              " BsmtHalfBath      3.857352\n",
              " ScreenPorch       3.084680\n",
              " BsmtFinSF2        2.464986\n",
              " EnclosedPorch     2.099524\n",
              " HalfBath          0.534201\n",
              " MasVnrArea        0.466378\n",
              " BsmtFullBath      0.381061\n",
              " 2ndFlrSF          0.274074\n",
              " MSSubClass        0.256100\n",
              " Fireplaces        0.155582\n",
              " SalePrice         0.142198\n",
              " 1stFlrSF          0.132100\n",
              " WoodDeckSF        0.119664\n",
              " YrSold            0.104427\n",
              " GrLivArea         0.038953\n",
              " TotalSF           0.037185\n",
              " TotRmsAbvGrd     -0.005868\n",
              " OpenPorchSF      -0.050993\n",
              " LotArea          -0.147690\n",
              " OverallCond      -0.232525\n",
              " TotalBsmtSF      -0.269386\n",
              " FullBath         -0.394370\n",
              " OverallQual      -0.461236\n",
              " YearRemodAdd     -0.538216\n",
              " YearBuilt        -0.661761\n",
              " BsmtFinSF1       -0.699306\n",
              " MoSold           -0.910759\n",
              " BedroomAbvGr     -1.287130\n",
              " GarageCars       -1.350907\n",
              " Id               -1.792487\n",
              " BsmtUnfSF        -2.458258\n",
              " GarageArea       -3.579262\n",
              " dtype: float64, PoolArea         15.720914\n",
              " 3SsnPorch        10.543859\n",
              " LowQualFinSF     10.318602\n",
              " MiscVal           5.262633\n",
              " BsmtHalfBath      3.636520\n",
              " KitchenAbvGr      3.150200\n",
              " ScreenPorch       2.771785\n",
              " BsmtFinSF2        2.400851\n",
              " EnclosedPorch     1.827930\n",
              " HalfBath          0.596492\n",
              " MasVnrArea        0.529334\n",
              " BsmtFullBath      0.428560\n",
              " 2ndFlrSF          0.321010\n",
              " Fireplaces        0.294129\n",
              " MSSubClass        0.241750\n",
              " YrSold            0.168153\n",
              " WoodDeckSF        0.162851\n",
              " TotRmsAbvGrd      0.133863\n",
              " 1stFlrSF          0.053499\n",
              " GrLivArea         0.028376\n",
              " OpenPorchSF      -0.060337\n",
              " FullBath         -0.091581\n",
              " Id               -0.239557\n",
              " YearRemodAdd     -0.406779\n",
              " YearBuilt        -0.612871\n",
              " BsmtFinSF1       -0.619259\n",
              " OverallQual      -0.692929\n",
              " BedroomAbvGr     -0.717947\n",
              " MoSold           -0.835749\n",
              " LotArea          -0.915598\n",
              " OverallCond      -1.160771\n",
              " GarageCars       -1.185438\n",
              " BsmtUnfSF        -2.136953\n",
              " GarageArea       -3.568999\n",
              " TotalSF          -4.016683\n",
              " TotalBsmtSF      -4.832577\n",
              " dtype: float64)"
            ]
          },
          "metadata": {
            "tags": []
          },
          "execution_count": 103
        }
      ]
    },
    {
      "cell_type": "markdown",
      "metadata": {
        "id": "PJUZYQc8DD-8",
        "colab_type": "text"
      },
      "source": [
        "We see that there are some variables with a very high skewness in the training data as well as in the test data. The skewness of a distribution is always compared to the skewness of the normal distribution, which is zero. To get our data to look more normal, we will log(feature + 1) transform it."
      ]
    },
    {
      "cell_type": "code",
      "metadata": {
        "collapsed": true,
        "id": "C1X2QdolDD-9",
        "colab_type": "code",
        "colab": {}
      },
      "source": [
        "# log1p transforming the training data\n",
        "for var in num_cols[num_cols].index:\n",
        "    train[var] = np.log1p(train[var])"
      ],
      "execution_count": 0,
      "outputs": []
    },
    {
      "cell_type": "code",
      "metadata": {
        "id": "_swTuC77DD_A",
        "colab_type": "code",
        "colab": {}
      },
      "source": [
        "num_cols_test = num_cols.drop(labels=\"SalePrice\")\n",
        "# log1p transfroming the test data\n",
        "for var in num_cols_test[num_cols_test].index:\n",
        "    test[var] = np.log1p(test[var])"
      ],
      "execution_count": 0,
      "outputs": []
    },
    {
      "cell_type": "code",
      "metadata": {
        "id": "uEzyqaXhD_8s",
        "colab_type": "code",
        "colab": {}
      },
      "source": [
        "train.shape, test.shape"
      ],
      "execution_count": 0,
      "outputs": []
    },
    {
      "cell_type": "markdown",
      "metadata": {
        "colab_type": "text",
        "id": "HueY6oIk34xA"
      },
      "source": [
        "## Model selection "
      ]
    },
    {
      "cell_type": "markdown",
      "metadata": {
        "colab_type": "text",
        "id": "eKl7YTLZ34xA"
      },
      "source": [
        "We continue by building a Machine Learning Pipeline using Scikit Learn. A pipeline object sequentially applies a list of transformers and a final estimator. \n",
        "\n",
        "\n",
        "We will play around with different algorithms, tune their hyperparameters using Cross Validation and pick the best performing one."
      ]
    },
    {
      "cell_type": "markdown",
      "metadata": {
        "colab_type": "text",
        "id": "fExfQFwJ34xI"
      },
      "source": [
        "Before we can work with our data, we first need to create separate dataframes containing our feature variables and the target variable. This needs to be done only for our training data since it is our aim to predict SalePrice for the test data, which is why it is not contained in this data."
      ]
    },
    {
      "cell_type": "code",
      "metadata": {
        "colab_type": "code",
        "id": "h20mFVWB34xK",
        "colab": {}
      },
      "source": [
        "y = train.SalePrice.values\n",
        "X = train.drop(\"SalePrice\", axis=1)"
      ],
      "execution_count": 0,
      "outputs": []
    },
    {
      "cell_type": "markdown",
      "metadata": {
        "colab_type": "text",
        "id": "FRWuz3DG34xD"
      },
      "source": [
        "To make predictions and to fit models, the last step that has to be done is to convert all categorical features into numeric ones. This way scikit-learn can handle them. We do this by using pandas get_dummies() function. To make sure we end up with the same number of columns in both the training and the test dataset we first concatenate both, then apply get_dummies() and then separating them again."
      ]
    },
    {
      "cell_type": "code",
      "metadata": {
        "colab_type": "code",
        "id": "2lF-bISD711G",
        "outputId": "c2edc5a8-01c3-40c7-c474-1efdc1a20015",
        "colab": {
          "base_uri": "https://localhost:8080/",
          "height": 35
        }
      },
      "source": [
        "X.shape, test.shape"
      ],
      "execution_count": 34,
      "outputs": [
        {
          "output_type": "execute_result",
          "data": {
            "text/plain": [
              "((1413, 70), (1459, 70))"
            ]
          },
          "metadata": {
            "tags": []
          },
          "execution_count": 34
        }
      ]
    },
    {
      "cell_type": "code",
      "metadata": {
        "colab_type": "code",
        "id": "gOtj4Mf08Lgl",
        "colab": {}
      },
      "source": [
        "# creating a dummy to distinguish between train and test data\n",
        "X[\"train\"] = 1\n",
        "test[\"train\"] = 0\n",
        "# concatenating dataframes and creating dummies from categorical features\n",
        "combined = pd.concat([X, test])\n",
        "df = pd.get_dummies(combined, drop_first=True)\n",
        "\n"
      ],
      "execution_count": 0,
      "outputs": []
    },
    {
      "cell_type": "code",
      "metadata": {
        "colab_type": "code",
        "id": "ZCida-Db94iA",
        "outputId": "fda972a6-2826-49fa-8d5a-6702dc50a8c0",
        "colab": {
          "base_uri": "https://localhost:8080/",
          "height": 35
        }
      },
      "source": [
        "df.shape"
      ],
      "execution_count": 36,
      "outputs": [
        {
          "output_type": "execute_result",
          "data": {
            "text/plain": [
              "(2872, 215)"
            ]
          },
          "metadata": {
            "tags": []
          },
          "execution_count": 36
        }
      ]
    },
    {
      "cell_type": "code",
      "metadata": {
        "colab_type": "code",
        "id": "7MFI0gNK8tNL",
        "colab": {
          "base_uri": "https://localhost:8080/",
          "height": 35
        },
        "outputId": "5e515f03-808d-46d6-cf06-08d23d3d35ed"
      },
      "source": [
        "X = df[df[\"train\"]==1]\n",
        "X = X.drop(\"train\", axis=1)\n",
        "test = df[df[\"train\"]==0]\n",
        "test = test.drop(\"train\", axis=1)\n",
        "X.shape, test.shape"
      ],
      "execution_count": 37,
      "outputs": [
        {
          "output_type": "execute_result",
          "data": {
            "text/plain": [
              "((1413, 214), (1459, 214))"
            ]
          },
          "metadata": {
            "tags": []
          },
          "execution_count": 37
        }
      ]
    },
    {
      "cell_type": "markdown",
      "metadata": {
        "colab_type": "text",
        "id": "rbWy5YCa34xN"
      },
      "source": [
        "Before training and tuning our models we separate the data into training and test data to evaluate our models."
      ]
    },
    {
      "cell_type": "code",
      "metadata": {
        "colab_type": "code",
        "id": "fcheSZ1s34xO",
        "colab": {}
      },
      "source": [
        "from sklearn.model_selection import train_test_split\n",
        "X_train, X_test, y_train, y_test = train_test_split(X, y, test_size=0.2, random_state=123)"
      ],
      "execution_count": 0,
      "outputs": []
    },
    {
      "cell_type": "code",
      "metadata": {
        "colab_type": "code",
        "id": "WdjJ2X5B34xR",
        "outputId": "ba2e277e-898c-435a-9136-c4327ff5fabb",
        "colab": {
          "base_uri": "https://localhost:8080/",
          "height": 35
        }
      },
      "source": [
        "X_train.shape, X_test.shape, y_train.shape, y_test.shape"
      ],
      "execution_count": 39,
      "outputs": [
        {
          "output_type": "execute_result",
          "data": {
            "text/plain": [
              "((1130, 214), (283, 214), (1130,), (283,))"
            ]
          },
          "metadata": {
            "tags": []
          },
          "execution_count": 39
        }
      ]
    },
    {
      "cell_type": "markdown",
      "metadata": {
        "colab_type": "text",
        "id": "Y34SIsSE34xX"
      },
      "source": [
        " ### k-nearest Neighbors (KNN)"
      ]
    },
    {
      "cell_type": "markdown",
      "metadata": {
        "colab_type": "text",
        "id": "HeD_xQ7F34xZ"
      },
      "source": [
        "We will start with a relatively simple algorithm - k-nearest Neighbor or KNN."
      ]
    },
    {
      "cell_type": "code",
      "metadata": {
        "colab_type": "code",
        "id": "cf2getAk34xa",
        "colab": {}
      },
      "source": [
        "from sklearn import preprocessing\n",
        "from sklearn.neighbors import KNeighborsRegressor\n",
        "from sklearn.model_selection import GridSearchCV\n",
        "from sklearn.pipeline import Pipeline"
      ],
      "execution_count": 0,
      "outputs": []
    },
    {
      "cell_type": "markdown",
      "metadata": {
        "colab_type": "text",
        "id": "Rok4x3bD34xd"
      },
      "source": [
        "Looking at the data, we notice that are our feature variables' ranges vary substantially between each other. Therefore we will add a transformer to our pipeline which standardizes the data. Standardization centers each variable around zero with unit variance. This is done by subtracting the means from each feature and dividing by its standard deviation.\n",
        "\n",
        "After that we instantiate our KNN estimator, create a list containing the steps applied by the pipeline and then defining the pipeline."
      ]
    },
    {
      "cell_type": "code",
      "metadata": {
        "colab_type": "code",
        "id": "MU9kzrbr34xe",
        "colab": {}
      },
      "source": [
        "# instantiate the scaling transformator \n",
        "scaler = preprocessing.StandardScaler()\n",
        "# instantiate the KNN estimator\n",
        "knn = KNeighborsRegressor(n_neighbors=10)\n",
        "# creating a list containing the steps the pipeline is to apply\n",
        "steps_knn =  [(\"scaler\", scaler), (\"knn\", knn)]\n",
        "# define the pipeline object\n",
        "pipeline_knn = Pipeline(steps_knn)"
      ],
      "execution_count": 0,
      "outputs": []
    },
    {
      "cell_type": "markdown",
      "metadata": {
        "colab_type": "text",
        "id": "HMEhD38F34xk"
      },
      "source": [
        "The KNN algorithm has one parameter that can and should be tuned, which is the number of neighbors that should be considered. We will therefore define a dictionary containing all hyperparameters that should be tuned and define the different values that should be tested."
      ]
    },
    {
      "cell_type": "code",
      "metadata": {
        "colab_type": "code",
        "id": "OXO70KLy34xl",
        "colab": {}
      },
      "source": [
        "neighbors = {\"knn__n_neighbors\":list(range(1,21))}"
      ],
      "execution_count": 0,
      "outputs": []
    },
    {
      "cell_type": "markdown",
      "metadata": {
        "colab_type": "text",
        "id": "er7EuAaD34xo"
      },
      "source": [
        "Next we are gonna set up our Cross Validation (CV) object using 5-fold CV and fit it to our data."
      ]
    },
    {
      "cell_type": "code",
      "metadata": {
        "colab_type": "code",
        "id": "QPyilhSr34xp",
        "colab": {}
      },
      "source": [
        "cv_knn = GridSearchCV(pipeline_knn, neighbors, cv=5)"
      ],
      "execution_count": 0,
      "outputs": []
    },
    {
      "cell_type": "code",
      "metadata": {
        "colab_type": "code",
        "id": "98OXx6yB34xt",
        "colab": {}
      },
      "source": [
        "cv_knn.fit(X_train, y_train)"
      ],
      "execution_count": 0,
      "outputs": []
    },
    {
      "cell_type": "code",
      "metadata": {
        "colab_type": "code",
        "id": "tGoyZJFV34x1",
        "outputId": "11474075-a254-418f-b2b2-1dfe451c8872",
        "colab": {
          "base_uri": "https://localhost:8080/",
          "height": 35
        }
      },
      "source": [
        "cv_knn.best_params_"
      ],
      "execution_count": 0,
      "outputs": [
        {
          "output_type": "execute_result",
          "data": {
            "text/plain": [
              "{'knn__n_neighbors': 12}"
            ]
          },
          "metadata": {
            "tags": []
          },
          "execution_count": 25
        }
      ]
    },
    {
      "cell_type": "code",
      "metadata": {
        "colab_type": "code",
        "id": "peS5SY1q34x7",
        "colab": {}
      },
      "source": [
        "print(cv_knn.refit)"
      ],
      "execution_count": 0,
      "outputs": []
    },
    {
      "cell_type": "markdown",
      "metadata": {
        "colab_type": "text",
        "id": "wOJVOIc734yM"
      },
      "source": [
        "From the above output we conclude that the default of the argument \"refit\" is True. This means that, by default, our CV pipeline automatically refits the model on the entire training set using the best parameters found by CV, which is 12 in our case. Therefore we can now directly use the CV object to make predictions for unseen data."
      ]
    },
    {
      "cell_type": "markdown",
      "metadata": {
        "colab_type": "text",
        "id": "jzcqAg2-34yO"
      },
      "source": [
        "As in the Kaggle challenge we will use the log of the Root mean squared error metric to evaluate our model's performance on the test set. To do this we first need to predict the sales price for the unseen test data."
      ]
    },
    {
      "cell_type": "code",
      "metadata": {
        "colab_type": "code",
        "id": "pPe4htbc34yP",
        "outputId": "03ca664c-533c-4c67-a3e1-06e5b1ca1c16",
        "colab": {
          "base_uri": "https://localhost:8080/",
          "height": 35
        }
      },
      "source": [
        "from sklearn.metrics import mean_squared_error\n",
        "y_pred = cv_knn.predict(X_test)\n",
        "rmse_knn = np.sqrt(mean_squared_error(np.log(y_test), np.log(y_pred)))\n",
        "print(\"The KNN algorithm with \" + str(cv_knn.best_params_) + \" yields a (log) RMSE of: \" + str(rmse_knn))"
      ],
      "execution_count": 0,
      "outputs": [
        {
          "output_type": "stream",
          "text": [
            "The KNN algorithm with {'knn__n_neighbors': 12} yields a (log) RMSE of: 0.197561198068067\n"
          ],
          "name": "stdout"
        }
      ]
    },
    {
      "cell_type": "markdown",
      "metadata": {
        "colab_type": "text",
        "id": "SskPimED34yV"
      },
      "source": [
        "### Random forest"
      ]
    },
    {
      "cell_type": "markdown",
      "metadata": {
        "colab_type": "text",
        "id": "9cL8LCox34yX"
      },
      "source": [
        "After trying out the KNN algorithm, we now continue with the Random Forest Algorithm. Using similar steps as before we will build up a pipeline object applying the transformations and the estimation on our dataset sequentially automatically."
      ]
    },
    {
      "cell_type": "code",
      "metadata": {
        "colab_type": "code",
        "id": "-4JrDkEa34ya",
        "colab": {}
      },
      "source": [
        "from sklearn.ensemble import RandomForestRegressor\n",
        "from sklearn.metrics import mean_squared_error"
      ],
      "execution_count": 0,
      "outputs": []
    },
    {
      "cell_type": "code",
      "metadata": {
        "colab_type": "code",
        "id": "K6HGS8X334ye",
        "colab": {}
      },
      "source": [
        "# instantiate the RandomForest Regressor\n",
        "rf_reg = RandomForestRegressor(random_state=123)\n",
        "# creating a list containing the steps the pipeline should apply\n",
        "steps_rf = [(\"scaler\", scaler), (\"rf_reg\", rf_reg)]\n",
        "# create the pipeline object\n",
        "pipeline_rf = Pipeline(steps_rf)"
      ],
      "execution_count": 0,
      "outputs": []
    },
    {
      "cell_type": "markdown",
      "metadata": {
        "colab_type": "text",
        "id": "SRW7fCnw34yk"
      },
      "source": [
        "For RandomForests there are a large number of Hyperparameters that can be tuned. In this project we are going to tune the number of trees in the random forest [n_estimators], the number of features considered at every split [max_features], the maximum number of levels in a tree [max_depth], the mininum number of samples required to split a node [min_samples_split], the minimum number of observations required at each leaf node [min_samples_leaf] and if bootstrap should be used training each tree [bootstrap]. \n",
        "\n",
        "We first define the ranges for each hyperparameter that should be considered in our CV tuning and then create our search grid containing the before created lists."
      ]
    },
    {
      "cell_type": "code",
      "metadata": {
        "colab_type": "code",
        "id": "qyKm3mWa34yl",
        "colab": {}
      },
      "source": [
        "n_estimators = list(np.arange(200, 2001, 200))\n",
        "max_features = [\"auto\", \"sqrt\", \"log2\"]\n",
        "max_depth = list(np.arange(10, 101, 10))\n",
        "max_depth.append(None)\n",
        "min_samples_split = [2, 5, 10]\n",
        "min_samples_leaf = [1, 2, 4, 8]\n",
        "bootstrap = [True, False]\n",
        "param_dist = {\"rf_reg__n_estimators\": n_estimators,\n",
        "              \"rf_reg__max_features\": max_features,\n",
        "              \"rf_reg__max_depth\": max_depth,\n",
        "              \"rf_reg__min_samples_split\": min_samples_split,\n",
        "              \"rf_reg__min_samples_leaf\": min_samples_leaf,\n",
        "              \"rf_reg__bootstrap\": bootstrap}"
      ],
      "execution_count": 0,
      "outputs": []
    },
    {
      "cell_type": "markdown",
      "metadata": {
        "colab_type": "text",
        "id": "S_yqnTIW34yo"
      },
      "source": [
        "Testing all possible combinations of hyperparameters would ammount to testing $10*3*11*3*3*2 = 5,940$ combinations, instead of testing all of these we will use RandomizedSearchCV to select randomly from our defined distributions which combinations are tested. "
      ]
    },
    {
      "cell_type": "code",
      "metadata": {
        "colab_type": "code",
        "id": "fte7QbYB34yp",
        "colab": {}
      },
      "source": [
        "from sklearn.model_selection import RandomizedSearchCV\n",
        "cv_random_rf = RandomizedSearchCV(pipeline_rf, param_dist, cv=3, n_iter=100)"
      ],
      "execution_count": 0,
      "outputs": []
    },
    {
      "cell_type": "markdown",
      "metadata": {
        "colab_type": "text",
        "id": "tAIOPJno34ys"
      },
      "source": [
        "Just as before with the KNN algorithm we now can fit the pipeline to our data."
      ]
    },
    {
      "cell_type": "code",
      "metadata": {
        "colab_type": "code",
        "id": "WYhxe5pi34yv",
        "colab": {
          "base_uri": "https://localhost:8080/",
          "height": 555
        },
        "outputId": "f2858513-ec3d-4ad5-9c1a-9508bfb41580"
      },
      "source": [
        "cv_random_rf.fit(X_train, y_train)"
      ],
      "execution_count": 48,
      "outputs": [
        {
          "output_type": "execute_result",
          "data": {
            "text/plain": [
              "RandomizedSearchCV(cv=3, error_score='raise-deprecating',\n",
              "                   estimator=Pipeline(memory=None,\n",
              "                                      steps=[('scaler',\n",
              "                                              StandardScaler(copy=True,\n",
              "                                                             with_mean=True,\n",
              "                                                             with_std=True)),\n",
              "                                             ('rf_reg',\n",
              "                                              RandomForestRegressor(bootstrap=True,\n",
              "                                                                    criterion='mse',\n",
              "                                                                    max_depth=None,\n",
              "                                                                    max_features='auto',\n",
              "                                                                    max_leaf_nodes=None,\n",
              "                                                                    min_impurity_decrease=0.0,\n",
              "                                                                    min_impurity_split=None,\n",
              "                                                                    min_samples_leaf=1,\n",
              "                                                                    min...\n",
              "                                        'rf_reg__max_depth': [10, 20, 30, 40,\n",
              "                                                              50, 60, 70, 80,\n",
              "                                                              90, 100, None],\n",
              "                                        'rf_reg__max_features': ['auto', 'sqrt',\n",
              "                                                                 'log2'],\n",
              "                                        'rf_reg__min_samples_leaf': [1, 2, 4,\n",
              "                                                                     8],\n",
              "                                        'rf_reg__min_samples_split': [2, 5, 10],\n",
              "                                        'rf_reg__n_estimators': [200, 400, 600,\n",
              "                                                                 800, 1000,\n",
              "                                                                 1200, 1400,\n",
              "                                                                 1600, 1800,\n",
              "                                                                 2000]},\n",
              "                   pre_dispatch='2*n_jobs', random_state=None, refit=True,\n",
              "                   return_train_score=False, scoring=None, verbose=0)"
            ]
          },
          "metadata": {
            "tags": []
          },
          "execution_count": 48
        }
      ]
    },
    {
      "cell_type": "code",
      "metadata": {
        "colab_type": "code",
        "id": "uNCPHI2p34y4",
        "outputId": "470e4573-3d3d-43f4-cf05-fff6d5530bb7",
        "colab": {
          "base_uri": "https://localhost:8080/",
          "height": 121
        }
      },
      "source": [
        "cv_random_rf.best_params_"
      ],
      "execution_count": 49,
      "outputs": [
        {
          "output_type": "execute_result",
          "data": {
            "text/plain": [
              "{'rf_reg__bootstrap': False,\n",
              " 'rf_reg__max_depth': 60,\n",
              " 'rf_reg__max_features': 'sqrt',\n",
              " 'rf_reg__min_samples_leaf': 2,\n",
              " 'rf_reg__min_samples_split': 2,\n",
              " 'rf_reg__n_estimators': 200}"
            ]
          },
          "metadata": {
            "tags": []
          },
          "execution_count": 49
        }
      ]
    },
    {
      "cell_type": "markdown",
      "metadata": {
        "colab_type": "text",
        "id": "fu3-4lem34y8"
      },
      "source": [
        "Based on the chosen parameters from RandomizedSearchCV we can now manually decrease the range of the hyperparameters to be tested and use GridSearchCV as before to find the best parameters for our model."
      ]
    },
    {
      "cell_type": "code",
      "metadata": {
        "colab_type": "code",
        "id": "KtdIgq-KhwYO",
        "outputId": "b57086a1-0a44-4a87-f107-9b676db420aa",
        "colab": {
          "base_uri": "https://localhost:8080/",
          "height": 121
        }
      },
      "source": [
        "n_estimators_2 = list(np.arange(100, 301, 50))\n",
        "max_depth_2 = list(np.arange(40, 81, 10))\n",
        "max_features_2 = [\"sqrt\"]\n",
        "min_samples_split_2 = [2, 3]\n",
        "min_samples_leaf_2 = [1, 2, 3]\n",
        "bootstrap_2 = [True, False]\n",
        "param_grid = {\"rf_reg__n_estimators\": n_estimators_2,\n",
        "              \"rf_reg__max_features\": max_features_2,\n",
        "              \"rf_reg__max_depth\": max_depth_2,\n",
        "              \"rf_reg__min_samples_split\": min_samples_split_2,\n",
        "              \"rf_reg__min_samples_leaf\": min_samples_leaf_2,\n",
        "              \"rf_reg__bootstrap\": bootstrap_2}\n",
        "param_grid"
      ],
      "execution_count": 50,
      "outputs": [
        {
          "output_type": "execute_result",
          "data": {
            "text/plain": [
              "{'rf_reg__bootstrap': [True, False],\n",
              " 'rf_reg__max_depth': [40, 50, 60, 70, 80],\n",
              " 'rf_reg__max_features': ['sqrt'],\n",
              " 'rf_reg__min_samples_leaf': [1, 2, 3],\n",
              " 'rf_reg__min_samples_split': [2, 3],\n",
              " 'rf_reg__n_estimators': [100, 150, 200, 250, 300]}"
            ]
          },
          "metadata": {
            "tags": []
          },
          "execution_count": 50
        }
      ]
    },
    {
      "cell_type": "markdown",
      "metadata": {
        "colab_type": "text",
        "id": "ktU0qYrcix9e"
      },
      "source": [
        "We can now instantiate and then fit our GridSearchCV object as before."
      ]
    },
    {
      "cell_type": "code",
      "metadata": {
        "colab_type": "code",
        "id": "t5BxKTAdi3eI",
        "outputId": "12a0c54f-3b71-4d33-e795-e9fd5d7e6556",
        "colab": {
          "base_uri": "https://localhost:8080/",
          "height": 468
        }
      },
      "source": [
        "cv_rf = GridSearchCV(pipeline_rf, param_grid, cv=3)\n",
        "cv_rf.fit(X_train, y_train)"
      ],
      "execution_count": 51,
      "outputs": [
        {
          "output_type": "execute_result",
          "data": {
            "text/plain": [
              "GridSearchCV(cv=3, error_score='raise-deprecating',\n",
              "             estimator=Pipeline(memory=None,\n",
              "                                steps=[('scaler',\n",
              "                                        StandardScaler(copy=True,\n",
              "                                                       with_mean=True,\n",
              "                                                       with_std=True)),\n",
              "                                       ('rf_reg',\n",
              "                                        RandomForestRegressor(bootstrap=True,\n",
              "                                                              criterion='mse',\n",
              "                                                              max_depth=None,\n",
              "                                                              max_features='auto',\n",
              "                                                              max_leaf_nodes=None,\n",
              "                                                              min_impurity_decrease=0.0,\n",
              "                                                              min_impurity_split=None,\n",
              "                                                              min_samples_leaf=1,\n",
              "                                                              min_sampl...\n",
              "                                verbose=False),\n",
              "             iid='warn', n_jobs=None,\n",
              "             param_grid={'rf_reg__bootstrap': [True, False],\n",
              "                         'rf_reg__max_depth': [40, 50, 60, 70, 80],\n",
              "                         'rf_reg__max_features': ['sqrt'],\n",
              "                         'rf_reg__min_samples_leaf': [1, 2, 3],\n",
              "                         'rf_reg__min_samples_split': [2, 3],\n",
              "                         'rf_reg__n_estimators': [100, 150, 200, 250, 300]},\n",
              "             pre_dispatch='2*n_jobs', refit=True, return_train_score=False,\n",
              "             scoring=None, verbose=0)"
            ]
          },
          "metadata": {
            "tags": []
          },
          "execution_count": 51
        }
      ]
    },
    {
      "cell_type": "code",
      "metadata": {
        "colab_type": "code",
        "id": "XefWBfX2k7Yf",
        "outputId": "2cddd65c-1fae-4d09-ed84-f324aff5e310",
        "colab": {
          "base_uri": "https://localhost:8080/",
          "height": 121
        }
      },
      "source": [
        "cv_rf.best_params_"
      ],
      "execution_count": 54,
      "outputs": [
        {
          "output_type": "execute_result",
          "data": {
            "text/plain": [
              "{'rf_reg__bootstrap': False,\n",
              " 'rf_reg__max_depth': 40,\n",
              " 'rf_reg__max_features': 'sqrt',\n",
              " 'rf_reg__min_samples_leaf': 1,\n",
              " 'rf_reg__min_samples_split': 2,\n",
              " 'rf_reg__n_estimators': 200}"
            ]
          },
          "metadata": {
            "tags": []
          },
          "execution_count": 54
        }
      ]
    },
    {
      "cell_type": "code",
      "metadata": {
        "colab_type": "code",
        "id": "3qQJGZHClpNj",
        "outputId": "c8807eaa-db09-4188-8f59-dd1f61201314",
        "colab": {
          "base_uri": "https://localhost:8080/",
          "height": 35
        }
      },
      "source": [
        "print(cv_rf.refit)"
      ],
      "execution_count": 55,
      "outputs": [
        {
          "output_type": "stream",
          "text": [
            "True\n"
          ],
          "name": "stdout"
        }
      ]
    },
    {
      "cell_type": "markdown",
      "metadata": {
        "colab_type": "text",
        "id": "rVISFwxBlS-J"
      },
      "source": [
        "We see that the parameters chosen by RandomizedSearchCV were already pretty good and did not really need that much of a finetuning. Furthermore, the GridSearchCV function also already refit the RandomForest model on the whole training data using the parameters that are found to work best.\n",
        "\n",
        "As before, we now can create predictions for our hold out test set and evaluate our model using log RMSE as before."
      ]
    },
    {
      "cell_type": "code",
      "metadata": {
        "colab_type": "code",
        "id": "zk-j57DilnIk",
        "outputId": "f51af36e-4ed4-4d78-b370-ccdb1c48ca45",
        "colab": {
          "base_uri": "https://localhost:8080/",
          "height": 55
        }
      },
      "source": [
        "from sklearn.metrics import mean_squared_error\n",
        "y_pred_rf = cv_rf.predict(X_test)\n",
        "rmse_rf = np.sqrt(mean_squared_error(np.log(y_test), np.log(y_pred_rf)))\n",
        "print(\"The RandomForest algorithm with \" + str(cv_rf.best_params_) + \" yields a (log) RMSE of: \" + str(rmse_rf))"
      ],
      "execution_count": 56,
      "outputs": [
        {
          "output_type": "stream",
          "text": [
            "The RandomForest algorithm with {'rf_reg__bootstrap': False, 'rf_reg__max_depth': 40, 'rf_reg__max_features': 'sqrt', 'rf_reg__min_samples_leaf': 1, 'rf_reg__min_samples_split': 2, 'rf_reg__n_estimators': 200} yields a (log) RMSE of: 0.011345300033064953\n"
          ],
          "name": "stdout"
        }
      ]
    },
    {
      "cell_type": "markdown",
      "metadata": {
        "colab_type": "text",
        "id": "2TQLVh4aoXeZ"
      },
      "source": [
        "Great! We see a clear improvement in our evaluation metric, i.e. the RandomForest Regressor performs much better than the KNN fitted at first."
      ]
    },
    {
      "cell_type": "markdown",
      "metadata": {
        "colab_type": "text",
        "id": "sZVtZEBkp_PZ"
      },
      "source": [
        "### Making predictions and creating our submission file"
      ]
    },
    {
      "cell_type": "markdown",
      "metadata": {
        "colab_type": "text",
        "id": "tkbIguMsqDVO"
      },
      "source": [
        "Since we want to check our model's performance in comparison with other people's models, we need to make predictions for the test dataset provided by Kaggle and upload our results to Kaggle. According to the challenge's description, our submission should be a file containing the observation's ID and the predicted SalesPrice. We first create a dataframe and then save it as a .csv file."
      ]
    },
    {
      "cell_type": "code",
      "metadata": {
        "colab_type": "code",
        "id": "F_a87-KrqEoD",
        "outputId": "8d4a9fc6-867f-445d-b44e-1c780bc9f165",
        "colab": {
          "base_uri": "https://localhost:8080/",
          "height": 55
        }
      },
      "source": [
        "ident = list(test.Id)\n",
        "print(ident)"
      ],
      "execution_count": 57,
      "outputs": [
        {
          "output_type": "stream",
          "text": [
            "[7.2875606403097235, 7.288244401020124, 7.288927694521257, 7.289610521451167, 7.290292882446597, 7.2909747781429814, 7.291656209174461, 7.292337176173877, 7.293017679772782, 7.293697720601438, 7.294377299288821, 7.29505641646263, 7.295735072749282, 7.29641326877392, 7.297091005160418, 7.29776828253138, 7.298445101508147, 7.2991214627108, 7.299797366758161, 7.300472814267799, 7.301147805856032, 7.301822342137932, 7.302496423727326, 7.3031700512368, 7.303843225277705, 7.304515946460155, 7.305188215393037, 7.305860032684009, 7.306531398939505, 7.307202314764738, 7.307872780763706, 7.30854279753919, 7.309212365692763, 7.3098814858247865, 7.310550158534422, 7.311218384419629, 7.311886164077165, 7.312553498102598, 7.313220387090301, 7.313886831633462, 7.31455283232408, 7.315218389752975, 7.315883504509785, 7.316548177182976, 7.317212408359839, 7.317876198626496, 7.318539548567902, 7.319202458767849, 7.31986492980897, 7.32052696227274, 7.321188556739479, 7.321849713788356, 7.322510433997394, 7.323170717943469, 7.323830566202317, 7.324489979348532, 7.325148957955575, 7.325807502595773, 7.326465613840322, 7.327123292259293, 7.3277805384216315, 7.328437352895162, 7.329093736246591, 7.329749689041512, 7.330405211844402, 7.3310603052186325, 7.331714969726466, 7.332369205929062, 7.333023014386481, 7.333676395657684, 7.3343293503005365, 7.334981878871814, 7.335633981927201, 7.336285660021297, 7.336936913707618, 7.337587743538596, 7.338238150065589, 7.338888133838879, 7.3395376954076745, 7.340186835320115, 7.340835554123275, 7.341483852363161, 7.342131730584722, 7.3427791893318455, 7.343426229147367, 7.344072850573066, 7.344719054149673, 7.3453648404168685, 7.346010209913293, 7.346655163176539, 7.347299700743164, 7.347943823148687, 7.348587530927593, 7.349230824613334, 7.349873704738337, 7.350516171833998, 7.351158226430694, 7.351799869057777, 7.352441100243583, 7.353081920515432, 7.3537223303996315, 7.354362330421477, 7.355001921105257, 7.355641102974253, 7.356279876550748, 7.356918242356021, 7.357556200910353, 7.358193752733032, 7.358830898342354, 7.359467638255621, 7.360103972989152, 7.360739903058278, 7.3613754289773485, 7.362010551259734, 7.362645270417825, 7.3632795869630385, 7.363913501405819, 7.364547014255642, 7.365180126021013, 7.3658128372094716, 7.366445148327599, 7.367077059881012, 7.367708572374371, 7.368339686311381, 7.368970402194793, 7.369600720526409, 7.370230641807081, 7.370860166536716, 7.371489295214277, 7.372118028337787, 7.3727463664043285, 7.373374309910049, 7.374001859350161, 7.374629015218945, 7.375255778009754, 7.3758821482150125, 7.37650812632622, 7.377133712833954, 7.3777589082278725, 7.3783837129967145, 7.379008127628304, 7.3796321526095525, 7.38025578842646, 7.380879035564116, 7.381501894506707, 7.382124365737512, 7.382746449738912, 7.3833681469923835, 7.383989457978509, 7.384610383176974, 7.385230923066573, 7.385851078125209, 7.3864708488298945, 7.387090235656757, 7.38770923908104, 7.388327859577107, 7.388946097618437, 7.389563953677635, 7.3901814282264295, 7.390798521735676, 7.3914152346753585, 7.392031567514591, 7.392647520721623, 7.393263094763838, 7.3938782901077555, 7.394493107219038, 7.395107546562485, 7.395721608602045, 7.396335293800808, 7.396948602621014, 7.397561535524052, 7.398174092970465, 7.3987862754199485, 7.399398083331354, 7.400009517162692, 7.400620577371135, 7.401231264413015, 7.40184157874383, 7.402451520818244, 7.403061091090091, 7.403670290012373, 7.404279118037268, 7.404887575616125, 7.405495663199472, 7.406103381237015, 7.4067107301776405, 7.4073177104694174, 7.407924322559599, 7.408530566894626, 7.409136443920128, 7.409741954080923, 7.410347097821024, 7.4109518755836366, 7.411556287811163, 7.412160334945205, 7.4127640174265625, 7.4133673356952405, 7.413970290190444, 7.414572881350589, 7.415175109613295, 7.415776975415394, 7.416378479192928, 7.416979621381154, 7.417580402414544, 7.418180822726788, 7.418780882750794, 7.419380582918692, 7.419979923661835, 7.4205789054108005, 7.421177528595393, 7.421775793644647, 7.422373700986824, 7.422971251049421, 7.423568444259167, 7.424165281042028, 7.424761761823209, 7.425357887027151, 7.425953657077541, 7.426549072397305, 7.427144133408616, 7.427738840532894, 7.428333194190806, 7.428927194802272, 7.429520842786462, 7.430114138561801, 7.430707082545968, 7.431299675155903, 7.4318919168078, 7.432483807917119, 7.43307534889858, 7.433666540166168, 7.4342573821331355, 7.434847875211999, 7.43543801981455, 7.4360278163518485, 7.436617265234227, 7.437206366871292, 7.4377951216719325, 7.438383530044307, 7.438971592395862, 7.43955930913332, 7.440146680662688, 7.440733707389261, 7.4413203897176174, 7.441906728051625, 7.442492722794441, 7.443078374348515, 7.443663683115591, 7.444248649496705, 7.444833273892193, 7.445417556701687, 7.44600149832412, 7.446585099157725, 7.44716835960004, 7.447751280047908, 7.448333860897476, 7.4489161025442, 7.449498005382849, 7.450079569807499, 7.450660796211539, 7.451241684987676, 7.45182223652793, 7.452402451223638, 7.45298232946546, 7.453561871643373, 7.454141078146678, 7.454719949364001, 7.455298485683291, 7.455876687491824, 7.456454555176209, 7.4570320891223805, 7.457609289715606, 7.458186157340487, 7.45876269238096, 7.459338895220295, 7.459914766241105, 7.460490305825338, 7.461065514354283, 7.461640392208575, 7.462214939768189, 7.462789157412448, 7.463363045520021, 7.463936604468925, 7.4645098346365275, 7.465082736399547, 7.465655310134056, 7.466227556215481, 7.466799475018602, 7.4673710669175595, 7.467942332285852, 7.468513271496337, 7.469083884921234, 7.469654172932128, 7.470224135899966, 7.470793774195062, 7.471363088187097, 7.471932078245122, 7.472500744737558, 7.473069088032197, 7.473637108496206, 7.474204806496124, 7.47477218239787, 7.475339236566737, 7.475905969367397, 7.476472381163905, 7.4770384723196965, 7.477604243197589, 7.478169694159785, 7.478734825567875, 7.479299637782834, 7.4798641311650265, 7.480428306074208, 7.480992162869525, 7.4815557019095165, 7.4821189235521155, 7.482681828154651, 7.48324441607385, 7.483806687665835, 7.484368643286131, 7.484930283289661, 7.485491608030754, 7.48605261786314, 7.486613313139955, 7.487173694213739, 7.487733761436444, 7.488293515159428, 7.488852955733459, 7.489412083508719, 7.489970898834801, 7.490529402060711, 7.491087593534876, 7.491645473605133, 7.492203042618741, 7.492760300922379, 7.493317248862145, 7.493873886783559, 7.494430215031565, 7.494986233950533, 7.495541943884256, 7.496097345175956, 7.496652438168283, 7.497207223203318, 7.4977617006225685, 7.498315870766981, 7.498869733976931, 7.499423290592229, 7.4999765409521215, 7.500529485395295, 7.501082124259871, 7.501634457883413, 7.502186486602925, 7.502738210754851, 7.503289630675082, 7.503840746698951, 7.504391559161238, 7.504942068396171, 7.505492274737424, 7.506042178518122, 7.506591780070841, 7.507141079727608, 7.507690077819904, 7.508238774678663, 7.508787170634276, 7.509335266016592, 7.509883061154913, 7.510430556378006, 7.510977752014095, 7.511524648390866, 7.512071245835466, 7.5126175446745105, 7.513163545234075, 7.513709247839705, 7.51425465281641, 7.51479976048867, 7.515344571180436, 7.515889085215125, 7.516433302915632, 7.516977224604321, 7.517520850603031, 7.518064181233078, 7.518607216815252, 7.519149957669823, 7.519692404116539, 7.520234556474628, 7.520776415062797, 7.52131798019924, 7.521859252201629, 7.522400231387125, 7.52294091807237, 7.523481312573497, 7.524021415206125, 7.52456122628536, 7.5251007461258, 7.5256399750415355, 7.526178913346146, 7.526717561352706, 7.527255919373784, 7.527793987721444, 7.528331766707247, 7.528869256642251, 7.529406457837013, 7.529943370601589, 7.530479995245536, 7.5310163320779155, 7.531552381407289, 7.532088143541722, 7.532623618788788, 7.533158807455563, 7.533693709848633, 7.534228326274089, 7.534762657037537, 7.5352967024440884, 7.535830462798367, 7.536363938404511, 7.53689712956617, 7.537430036586509, 7.537962659768208, 7.538494999413465, 7.539027055823995, 7.53955882930103, 7.540090320145325, 7.5406215286571525, 7.5411524551363085, 7.541683099882111, 7.542213463193403, 7.54274354536855, 7.543273346705446, 7.543802867501509, 7.5443321080536885, 7.544861068658458, 7.545389749611823, 7.545918151209323, 7.546446273746024, 7.546974117516527, 7.547501682814967, 7.5480289699350145, 7.5485559791698735, 7.549082710812286, 7.549609165154532, 7.550135342488429, 7.550661243105336, 7.551186867296149, 7.55171221535131, 7.552237287560802, 7.552762084214147, 7.553286605600419, 7.553810852008231, 7.554334823725748, 7.554858521040676, 7.555381944240273, 7.555905093611346, 7.556427969440253, 7.5569505720129, 7.557472901614746, 7.557994958530806, 7.558516743045645, 7.559038255443384, 7.5595594960077, 7.560080465021827, 7.560601162768557, 7.561121589530238, 7.56164174558878, 7.562161631225652, 7.562681246721884, 7.563200592358071, 7.563719668414366, 7.564238475170491, 7.564757012905729, 7.5652752818989315, 7.565793282428515, 7.566311014772463, 7.566828479208331, 7.56734567601324, 7.5678626054638825, 7.568379267836522, 7.5688956634069955, 7.569411792450712, 7.569927655242652, 7.570443252057374, 7.57095858316901, 7.571473648851271, 7.57198844937744, 7.572502985020384, 7.573017256052546, 7.57353126274595, 7.5740450053721995, 7.5745584842024805, 7.575071699507561, 7.575584651557793, 7.576097340623111, 7.5766097669730375, 7.577121930876679, 7.577633832602728, 7.578145472419466, 7.578656850594762, 7.579167967396076, 7.579678823090456, 7.580189417944541, 7.580699752224563, 7.581209826196346, 7.581719640125308, 7.5822291942764615, 7.582738488914411, 7.583247524303362, 7.583756300707112, 7.584264818389059, 7.584773077612199, 7.585281078639126, 7.585788821732034, 7.58629630715272, 7.586803535162581, 7.587310506022615, 7.587817219993427, 7.5883236773352225, 7.588829878307813, 7.589335823170617, 7.589841512182657, 7.590346945602565, 7.590852123688581, 7.591357046698551, 7.591861714889934, 7.592366128519796, 7.592870287844818, 7.59337419312129, 7.593877844605118, 7.594381242551817, 7.59488438721652, 7.5953872788539725, 7.595889917718538, 7.596392304064196, 7.596894438144544, 7.597396320212795, 7.597897950521784, 7.598399329323964, 7.59890045687141, 7.599401333415815, 7.599901959208498, 7.6004023345004, 7.600902459542082, 7.601402334583733, 7.601901959875166, 7.602401335665818, 7.602900462204755, 7.60339933974067, 7.603897968521881, 7.604396348796338, 7.60489448081162, 7.605392364814934, 7.605890001053122, 7.606387389772652, 7.60688453121963, 7.607381425639791, 7.607878073278507, 7.608374474380783, 7.60887062919126, 7.6093665379542115, 7.609862200913554, 7.610357618312838, 7.61085279039525, 7.611347717403621, 7.611842399580417, 7.612336837167746, 7.6128310304073565, 7.613324979540639, 7.613818684808629, 7.614312146452, 7.614805364711073, 7.615298339825815, 7.615791072035833, 7.616283561580385, 7.616775808698373, 7.617267813628347, 7.617759576608505, 7.618251097876695, 7.618742377670413, 7.619233416226805, 7.61972421378267, 7.620214770574455, 7.620705086838262, 7.621195162809845, 7.621684998724611, 7.622174594817622, 7.622663951323595, 7.623153068476902, 7.6236419465115715, 7.624130585661289, 7.6246189861593985, 7.6251071482389, 7.6255950721324535, 7.62608275807238, 7.62657020629066, 7.627057417018934, 7.627544390488503, 7.628031126930335, 7.628517626575055, 7.6290038896529575, 7.629489916393995, 7.629975707027789, 7.630461261783627, 7.630946580890459, 7.631431664576906, 7.631916513071252, 7.6324011266014535, 7.632885505395133, 7.633369649679584, 7.633853559681768, 7.63433723562832, 7.634820677745543, 7.635303886259415, 7.635786861395585, 7.6362696033793735, 7.636752112435779, 7.637234388789473, 7.637716432664798, 7.638198244285779, 7.638679823876112, 7.639161171659173, 7.639642287858013, 7.640123172695364, 7.640603826393634, 7.641084249174914, 7.641564441260972, 7.642044402873258, 7.642524134232902, 7.643003635560718, 7.643482907077201, 7.643961949002529, 7.644440761556566, 7.644919344958857, 7.645397699428633, 7.645875825184813, 7.646353722445999, 7.646831391430482, 7.647308832356238, 7.647786045440933, 7.64826303090192, 7.6487397889562425, 7.649216319820633, 7.649692623711514, 7.650168700845001, 7.650644551436897, 7.6511201757027, 7.651595573857601, 7.652070746116482, 7.652545692693921, 7.653020413804189, 7.653494909661253, 7.653969180478774, 7.6544432264701125, 7.65491704784832, 7.655390644826152, 7.655864017616056, 7.656337166430183, 7.656810091480378, 7.65728279297819, 7.6577552711348655, 7.658227526161352, 7.6586995582682995, 7.659171367666058, 7.659642954564682, 7.660114319173928, 7.660585461703256, 7.66105638236183, 7.661527081358517, 7.661997558901893, 7.6624678152002375, 7.662937850461535, 7.663407664893479, 7.6638772587034705, 7.664346632098617, 7.664815785285735, 7.665284718471351, 7.665753431861699, 7.666221925662725, 7.666690200080086, 7.667158255319148, 7.6676260915849905, 7.668093709082406, 7.668561108015897, 7.669028288589683, 7.669495251007694, 7.669961995473577, 7.670428522190693, 7.6708948313621175, 7.671360923190644, 7.671826797878781, 7.672292455628756, 7.67275789664251, 7.673223121121708, 7.67368812926773, 7.674152921281675, 7.674617497364363, 7.675081857716334, 7.675546002537848, 7.6760099320288875, 7.676473646389156, 7.67693714581808, 7.677400430514807, 7.67786350067821, 7.6783263565068856, 7.6787889981991535, 7.679251425953058, 7.679713639966372, 7.68017564043659, 7.680637427560936, 7.681099001536359, 7.681560362559537, 7.682021510826875, 7.682482446534506, 7.682943169878292, 7.683403681053826, 7.6838639802564295, 7.684324067681155, 7.684783943522785, 7.685243607975833, 7.685703061234547, 7.686162303492906, 7.68662133494462, 7.687080155783135, 7.687538766201629, 7.687997166393016, 7.688455356549944, 7.688913336864796, 7.68937110752969, 7.689828668736484, 7.690286020676768, 7.690743163541872, 7.691200097522863, 7.691656822810547, 7.692113339595466, 7.692569648067906, 7.693025748417888, 7.693481640835175, 7.693937325509272, 7.694392802629421, 7.69484807238461, 7.6953031349635665, 7.695757990554761, 7.696212639346407, 7.696667081526462, 7.697121317282625, 7.697575346802343, 7.698029170272805, 7.6984827878809465, 7.698936199813447, 7.699389406256737, 7.699842407396986, 7.700295203420117, 7.700747794511798, 7.701200180857446, 7.701652362642226, 7.70210434005105, 7.7025561132685825, 7.703007682479236, 7.703459047867175, 7.7039102096163115, 7.704361167910313, 7.704811922932594, 7.705262474866325, 7.7057128238944275, 7.706162970199575, 7.706612913964197, 7.707062655370473, 7.707512194600341, 7.70796153183549, 7.708410667257367, 7.708859601047175, 7.709308333385869, 7.709756864454165, 7.7102051944325325, 7.710653323501202, 7.711101251840158, 7.711548979629146, 7.711996507047669, 7.71244383427499, 7.71289096149013, 7.71333788887187, 7.713784616598755, 7.7142311448490855, 7.714677473800927, 7.715123603632105, 7.715569534520208, 7.716015266642587, 7.716460800176355, 7.716906135298388, 7.717351272185329, 7.717796211013582, 7.718240951959316, 7.718685495198466, 7.719129840906732, 7.719573989259581, 7.720017940432244, 7.720461694599722, 7.720905251936779, 7.721348612617949, 7.721791776817535, 7.722234744709607, 7.7226775164680035, 7.723120092266331, 7.72356247227797, 7.724004656676065, 7.724446645633537, 7.724888439323074, 7.725330037917135, 7.725771441587952, 7.726212650507529, 7.7266536648476425, 7.727094484779842, 7.727535110475448, 7.7279755421055585, 7.7284157798410416, 7.728855823852543, 7.729295674310482, 7.729735331385051, 7.730174795246222, 7.7306140660637395, 7.731053144007127, 7.731492029245684, 7.731930721948486, 7.732369222284388, 7.732807530422021, 7.733245646529795, 7.7336835707759, 7.734121303328305, 7.734558844354756, 7.734996194022781, 7.7354333524996886, 7.735870319952567, 7.736307096548285, 7.736743682453495, 7.73718007783463, 7.737616282857904, 7.738052297689316, 7.738488122494646, 7.738923757439457, 7.739359202689098, 7.739794458408701, 7.740229524763182, 7.7406644019172415, 7.741099090035366, 7.741533589281828, 7.741967899820685, 7.742402021815781, 7.742835955430749, 7.743269700829004, 7.7437032581737535, 7.744136627627991, 7.744569809354496, 7.745002803515839, 7.745435610274381, 7.7458682297922685, 7.746300662231439, 7.746732907753622, 7.747164966520335, 7.7475968386928855, 7.748028524432376, 7.748460023899697, 7.7488913372555315, 7.749322464660356, 7.749753406274437, 7.7501841622578365, 7.750614732770409, 7.751045117971802, 7.751475318021456, 7.75190533307861, 7.752335163302292, 7.752764808851328, 7.753194269884341, 7.753623546559746, 7.754052639035757, 7.754481547470383, 7.75491027202143, 7.755338812846501, 7.755767170102998, 7.756195343948118, 7.756623334538858, 7.757051142032013, 7.757478766584179, 7.757906208351747, 7.75833346749091, 7.758760544157663, 7.759187438507795, 7.759614150696903, 7.76004068088038, 7.76046702921342, 7.760893195851024, 7.761319180947987, 7.761744984658913, 7.762170607138205, 7.762596048540069, 7.763021309018518, 7.763446388727362, 7.763871287820222, 7.764296006450518, 7.764720544771477, 7.7651449029361315, 7.765569081097317, 7.765993079407675, 7.7664168980196555, 7.766840537085513, 7.767263996757308, 7.767687277186908, 7.768110378525988, 7.768533300926033, 7.768956044538332, 7.769378609513984, 7.769800996003896, 7.7702232041587855, 7.7706452341291765, 7.771067086065406, 7.771488760117616, 7.771910256435763, 7.772331575169614, 7.772752716468742, 7.773173680482536, 7.773594467360194, 7.774015077250727, 7.774435510302958, 7.77485576666552, 7.7752758464868625, 7.775695749915245, 7.776115477098742, 7.776535028185241, 7.776954403322442, 7.777373602657861, 7.77779262633883, 7.778211474512493, 7.77863014732581, 7.779048644925556, 7.779466967458324, 7.779885115070522, 7.780303087908373, 7.780720886117918, 7.781138509845015, 7.78155595923534, 7.781973234434385, 7.7823903355874595, 7.782807262839695, 7.783224016336037, 7.783640596221253, 7.784057002639929, 7.784473235736469, 7.784889295655098, 7.785305182539862, 7.785720896534624, 7.786136437783072, 7.786551806428712, 7.786967002614872, 7.787382026484701, 7.787796878181171, 7.788211557847076, 7.7886260656250315, 7.789040401657477, 7.789454566086673, 7.789868559054706, 7.790282380703483, 7.790696031174738, 7.791109510610028, 7.791522819150732, 7.791935956938058, 7.792348924113037, 7.792761720816526, 7.793174347189205, 7.793586803371584, 7.793999089503996, 7.794411205726601, 7.794823152179389, 7.795234929002173, 7.795646536334594, 7.796057974316123, 7.796469243086058, 7.796880342783522, 7.797291273547472, 7.79770203551669, 7.798112628829788, 7.798523053625206, 7.798933310041217, 7.79934339821592, 7.799753318287247, 7.80016307039296, 7.80057265467065, 7.8009820712577405, 7.8013913202914855, 7.801800401908972, 7.802209316247118, 7.802618063442671, 7.803026643632217, 7.803435056952168, 7.803843303538772, 7.804251383528112, 7.804659297056102, 7.8050670442584895, 7.805474625270857, 7.805882040228621, 7.806289289267033, 7.806696372521179, 7.80710329012598, 7.807510042216193, 7.807916628926408, 7.8083230503910555, 7.808729306744399, 7.809135398120538, 7.80954132465341, 7.80994708647679, 7.81035268372429, 7.810758116529357, 7.811163385025279, 7.81156848934518, 7.8119734296220225, 7.81237820598861, 7.812782818577581, 7.813187267521416, 7.813591552952433, 7.813995675002791, 7.814399633804487, 7.814803429489359, 7.815207062189088, 7.8156105320351905, 7.8160138391590275, 7.816416983691801, 7.8168199657645525, 7.817222785508166, 7.81762544305337, 7.818027938530729, 7.818430272070656, 7.818832443803404, 7.81923445385907, 7.819636302367592, 7.820037989458753, 7.820439515262181, 7.820840879907344, 7.821242083523558, 7.821643126239982, 7.822044008185619, 7.822444729489319, 7.822845290279774, 7.823245690685523, 7.823645930834952, 7.824046010856292, 7.824445930877619, 7.824845691026857, 7.8252452914317745, 7.825644732219989, 7.826044013518965, 7.826443135456014, 7.826842098158293, 7.827240901752812, 7.827639546366422, 7.828038032125829, 7.828436359157585, 7.828834527588089, 7.829232537543592, 7.829630389150193, 7.83002808253384, 7.830425617820331, 7.830822995135316, 7.831220214604293, 7.83161727635261, 7.832014180505469, 7.83241092718792, 7.8328075165248645, 7.833203948641057, 7.8336002236611035, 7.83399634170946, 7.8343923029104365, 7.834788107388194, 7.835183755266748, 7.835579246669965, 7.835974581721566, 7.836369760545124, 7.836764783264067, 7.837159650001675, 7.837554360881084, 7.837948916025283, 7.8383433155571165, 7.838737559599282, 7.839131648274333, 7.839525581704678, 7.8399193600125825, 7.840312983320164, 7.8407064517494, 7.841099765422119, 7.841492924460013, 7.841885928984623, 7.842278779117352, 7.842671474979457, 7.843064016692054, 7.8434564043761155, 7.843848638152472, 7.844240718141811, 7.844632644464681, 7.845024417241484, 7.845416036592485, 7.845807502637805, 7.846198815497425, 7.846589975291186, 7.846980982138788, 7.847371836159788, 7.847762537473608, 7.848153086199526, 7.848543482456679, 7.848933726364071, 7.849323818040561, 7.84971375760487, 7.850103545175582, 7.8504931808711405, 7.850882664809852, 7.851271997109883, 7.851661177889265, 7.852050207265889, 7.85243908535751, 7.8528278122817445, 7.853216388156072, 7.853604813097837, 7.853993087224244, 7.854381210652365, 7.8547691834991324, 7.8551570058813445, 7.855544677915663, 7.855932199718614, 7.856319571406588, 7.8567067930958405, 7.857093864902493, 7.85748078694253, 7.857867559331803, 7.8582541821860294, 7.858640655620791, 7.859026979751538, 7.859413154693583, 7.85979918056211, 7.860185057472165, 7.860570785538664, 7.860956364876389, 7.861341795599989, 7.86172707782398, 7.862112211662748, 7.862497197230545, 7.8628820346414905, 7.8632667240095735, 7.8636512654486515, 7.86403565907245, 7.864419904994565, 7.86480400332846, 7.865187954187467, 7.8655717576847906, 7.865955413933502, 7.866338923046544, 7.866722285136729, 7.867105500316739, 7.8674885686991285, 7.867871490396322, 7.868254265520613, 7.868636894184167, 7.869019376499024, 7.86940171257709, 7.869783902530146, 7.870165946469845, 7.870547844507712, 7.8709295967551425, 7.8713112033234065, 7.871692664323645, 7.872073979866873, 7.8724551500639794, 7.872836175025724, 7.873217054862741, 7.87359778968554, 7.873978379604501, 7.874358824729881, 7.874739125171811, 7.875119281040293, 7.875499292445208, 7.87587915949631, 7.876258882303226, 7.876638460975463, 7.877017895622398, 7.877397186353287, 7.87777633327726, 7.878155336503324, 7.878534196140362, 7.878912912297132, 7.879291485082271, 7.879669914604289, 7.880048200971577, 7.8804263442924, 7.880804344674901, 7.881182202227102, 7.881559917056899, 7.88193748927207, 7.882314918980268, 7.8826922062890254, 7.883069351305753, 7.88344635413774, 7.8838232148921525, 7.884199933676039, 7.884576510596324, 7.884952945759814, 7.88532923927319, 7.88570539124302, 7.886081401775745, 7.886457270977689, 7.886832998955057, 7.887208585813932, 7.88758403166028, 7.887959336599945, 7.888334500738654, 7.888709524182015, 7.889084407035514, 7.889459149404524, 7.8898337513942955, 7.890208213109961, 7.890582534656536, 7.890956716138919, 7.891330757661889, 7.891704659330107, 7.892078421248119, 7.892452043520352, 7.8928255262511176, 7.893198869544609, 7.893572073504902, 7.893945138235959, 7.894318063841624, 7.894690850425624, 7.895063498091573, 7.895436006942965, 7.895808377083183, 7.8961806086154915, 7.89655270164304, 7.896924656268864, 7.897296472595885, 7.897668150726906, 7.898039690764619, 7.898411092811599, 7.898782356970309, 7.899153483343097, 7.899524472032198, 7.89989532313973, 7.900266036767701, 7.900636613018005, 7.90100705199242, 7.901377353792616, 7.9017475185201445, 7.902117546276448, 7.902487437162855, 7.902857191280582, 7.903226808730733, 7.903596289614301, 7.903965634032166, 7.904334842085095, 7.904703913873747, 7.905072849498666, 7.905441649060286, 7.905810312658931, 7.906178840394815, 7.906547232368036, 7.906915488678587, 7.907283609426348, 7.907651594711089, 7.908019444632471, 7.908387159290043, 7.908754738783246, 7.909122183211411, 7.909489492673759, 7.909856667269403, 7.9102237070973445, 7.9105906122564775, 7.910957382845589, 7.911324018963352, 7.911690520708339, 7.912056888179006, 7.912423121473705, 7.912789220690681, 7.913155185928068, 7.913521017283895, 7.913886714856082, 7.914252278742441, 7.914617709040679, 7.914983005848394, 7.915348169263078, 7.915713199382116, 7.916078096302786, 7.91644286012226, 7.916807490937603, 7.917171988845776, 7.917536353943631, 7.917900586327916, 7.918264686095274, 7.91862865334224, 7.918992488165245, 7.919356190660617, 7.919719760924575, 7.920083199053234, 7.920446505142607, 7.9208096792886, 7.9211727215870145, 7.9215356321335495, 7.921898411023797, 7.922261058353247, 7.922623574217286, 7.9229859587111955, 7.923348211930154, 7.923710333969238, 7.924072324923417, 7.92443418488756, 7.9247959139564355, 7.925157512224704, 7.925518979786926, 7.92588031673756, 7.926241523170962, 7.926602599181384, 7.9269635448629785, 7.927324360309794, 7.927685045615778, 7.928045600874777, 7.928406026180535, 7.9287663216266955, 7.9291264873067995, 7.929486523314289, 7.929846429742503, 7.930206206684683, 7.930565854233965, 7.930925372483388, 7.931284761525891, 7.931644021454311, 7.932003152361385, 7.932362154339751, 7.932721027481948, 7.933079771880415, 7.933438387627489, 7.933796874815411, 7.934155233536322, 7.934513463882263, 7.934871565945176, 7.935229539816907, 7.9355873855892, 7.935945103353701, 7.936302693201959, 7.936660155225426, 7.937017489515453, 7.937374696163295, 7.937731775260109, 7.938088726896952, 7.938445551164788, 7.938802248154481, 7.9391588179567965, 7.939515260662406, 7.939871576361883, 7.940227765145702, 7.940583827104244, 7.940939762327791, 7.941295570906532, 7.941651252930556, 7.9420068084898565, 7.942362237674335, 7.942717540573791, 7.943072717277933, 7.943427767876373, 7.943782692458625, 7.9441374911141125, 7.944492163932159, 7.944846711001996, 7.945201132412759, 7.945555428253489, 7.945909598613133, 7.946263643580541, 7.946617563244473, 7.94697135769359, 7.947325027016463, 7.947678571301568, 7.948031990637284, 7.9483852851118995, 7.94873845481361, 7.949091499830517, 7.949444420250626, 7.949797216161852, 7.950149887652018, 7.950502434808851, 7.950854857719988, 7.951207156472972, 7.951559331155252, 7.951911381854188, 7.952263308657046, 7.952615111650999, 7.952966790923131, 7.953318346560431, 7.953669778649798, 7.954021087278037, 7.954372272531867, 7.954723334497908, 7.955074273262696, 7.955425088912672, 7.955775781534187, 7.9561263512135, 7.956476798036782, 7.956827122090111, 7.957177323459475, 7.957527402230773, 7.957877358489813, 7.958227192322312, 7.958576903813898, 7.95892649305011, 7.959275960116396, 7.959625305098115, 7.9599745280805365, 7.96032362914884, 7.960672608388117, 7.96102146588337, 7.961370201719511, 7.9617188159813645, 7.962067308753666, 7.9624156801210635, 7.962763930168115, 7.96311205897929, 7.96346006663897, 7.963807953231451, 7.964155718840937, 7.964503363551548, 7.964850887447313, 7.965198290612176, 7.965545573129992, 7.9658927350845286, 7.966239776559467, 7.9665866976384025, 7.96693349840484, 7.9672801789422, 7.9676267393338165, 7.967973179662935, 7.968319500012717, 7.968665700466235, 7.969011781106478, 7.969357742016346, 7.969703583278656, 7.970049304976135, 7.970394907191429, 7.970740390007095, 7.971085753505607, 7.9714309977693505, 7.971776122880628, 7.972121128921655, 7.9724660159745655, 7.972810784121404, 7.973155433444133, 7.97349996402463, 7.973844375944687, 7.974188669286011, 7.974532844130228, 7.9748769005588755, 7.97522083865341, 7.975564658495202, 7.975908360165538, 7.976251943745623, 7.976595409316577, 7.976938756959434, 7.97728198675515, 7.977625098784593, 7.977968093128549, 7.978310969867722, 7.978653729082731, 7.978996370854115, 7.979338895262328]\n"
          ],
          "name": "stdout"
        }
      ]
    },
    {
      "cell_type": "code",
      "metadata": {
        "colab_type": "code",
        "id": "cKxXuD-VrJJ0",
        "colab": {}
      },
      "source": [
        "test_pred = list(cv_rf.predict(test))"
      ],
      "execution_count": 0,
      "outputs": []
    },
    {
      "cell_type": "code",
      "metadata": {
        "colab_type": "code",
        "id": "4of08aUhrZj_",
        "outputId": "1027d8e0-12ae-4938-a3e9-800c7229bb33",
        "colab": {
          "base_uri": "https://localhost:8080/",
          "height": 35
        }
      },
      "source": [
        "len(ident), len(test_pred)"
      ],
      "execution_count": 59,
      "outputs": [
        {
          "output_type": "execute_result",
          "data": {
            "text/plain": [
              "(1459, 1459)"
            ]
          },
          "metadata": {
            "tags": []
          },
          "execution_count": 59
        }
      ]
    },
    {
      "cell_type": "code",
      "metadata": {
        "colab_type": "code",
        "id": "ZWH2MGgCCHXl",
        "outputId": "ca5a77c5-508c-400c-81f8-13c3e50f2921",
        "colab": {
          "base_uri": "https://localhost:8080/",
          "height": 55
        }
      },
      "source": [
        "submiss = {\"Id\": ident, \"SalePrice\": test_pred}\n",
        "print(submiss)"
      ],
      "execution_count": 60,
      "outputs": [
        {
          "output_type": "stream",
          "text": [
            "{'Id': [7.2875606403097235, 7.288244401020124, 7.288927694521257, 7.289610521451167, 7.290292882446597, 7.2909747781429814, 7.291656209174461, 7.292337176173877, 7.293017679772782, 7.293697720601438, 7.294377299288821, 7.29505641646263, 7.295735072749282, 7.29641326877392, 7.297091005160418, 7.29776828253138, 7.298445101508147, 7.2991214627108, 7.299797366758161, 7.300472814267799, 7.301147805856032, 7.301822342137932, 7.302496423727326, 7.3031700512368, 7.303843225277705, 7.304515946460155, 7.305188215393037, 7.305860032684009, 7.306531398939505, 7.307202314764738, 7.307872780763706, 7.30854279753919, 7.309212365692763, 7.3098814858247865, 7.310550158534422, 7.311218384419629, 7.311886164077165, 7.312553498102598, 7.313220387090301, 7.313886831633462, 7.31455283232408, 7.315218389752975, 7.315883504509785, 7.316548177182976, 7.317212408359839, 7.317876198626496, 7.318539548567902, 7.319202458767849, 7.31986492980897, 7.32052696227274, 7.321188556739479, 7.321849713788356, 7.322510433997394, 7.323170717943469, 7.323830566202317, 7.324489979348532, 7.325148957955575, 7.325807502595773, 7.326465613840322, 7.327123292259293, 7.3277805384216315, 7.328437352895162, 7.329093736246591, 7.329749689041512, 7.330405211844402, 7.3310603052186325, 7.331714969726466, 7.332369205929062, 7.333023014386481, 7.333676395657684, 7.3343293503005365, 7.334981878871814, 7.335633981927201, 7.336285660021297, 7.336936913707618, 7.337587743538596, 7.338238150065589, 7.338888133838879, 7.3395376954076745, 7.340186835320115, 7.340835554123275, 7.341483852363161, 7.342131730584722, 7.3427791893318455, 7.343426229147367, 7.344072850573066, 7.344719054149673, 7.3453648404168685, 7.346010209913293, 7.346655163176539, 7.347299700743164, 7.347943823148687, 7.348587530927593, 7.349230824613334, 7.349873704738337, 7.350516171833998, 7.351158226430694, 7.351799869057777, 7.352441100243583, 7.353081920515432, 7.3537223303996315, 7.354362330421477, 7.355001921105257, 7.355641102974253, 7.356279876550748, 7.356918242356021, 7.357556200910353, 7.358193752733032, 7.358830898342354, 7.359467638255621, 7.360103972989152, 7.360739903058278, 7.3613754289773485, 7.362010551259734, 7.362645270417825, 7.3632795869630385, 7.363913501405819, 7.364547014255642, 7.365180126021013, 7.3658128372094716, 7.366445148327599, 7.367077059881012, 7.367708572374371, 7.368339686311381, 7.368970402194793, 7.369600720526409, 7.370230641807081, 7.370860166536716, 7.371489295214277, 7.372118028337787, 7.3727463664043285, 7.373374309910049, 7.374001859350161, 7.374629015218945, 7.375255778009754, 7.3758821482150125, 7.37650812632622, 7.377133712833954, 7.3777589082278725, 7.3783837129967145, 7.379008127628304, 7.3796321526095525, 7.38025578842646, 7.380879035564116, 7.381501894506707, 7.382124365737512, 7.382746449738912, 7.3833681469923835, 7.383989457978509, 7.384610383176974, 7.385230923066573, 7.385851078125209, 7.3864708488298945, 7.387090235656757, 7.38770923908104, 7.388327859577107, 7.388946097618437, 7.389563953677635, 7.3901814282264295, 7.390798521735676, 7.3914152346753585, 7.392031567514591, 7.392647520721623, 7.393263094763838, 7.3938782901077555, 7.394493107219038, 7.395107546562485, 7.395721608602045, 7.396335293800808, 7.396948602621014, 7.397561535524052, 7.398174092970465, 7.3987862754199485, 7.399398083331354, 7.400009517162692, 7.400620577371135, 7.401231264413015, 7.40184157874383, 7.402451520818244, 7.403061091090091, 7.403670290012373, 7.404279118037268, 7.404887575616125, 7.405495663199472, 7.406103381237015, 7.4067107301776405, 7.4073177104694174, 7.407924322559599, 7.408530566894626, 7.409136443920128, 7.409741954080923, 7.410347097821024, 7.4109518755836366, 7.411556287811163, 7.412160334945205, 7.4127640174265625, 7.4133673356952405, 7.413970290190444, 7.414572881350589, 7.415175109613295, 7.415776975415394, 7.416378479192928, 7.416979621381154, 7.417580402414544, 7.418180822726788, 7.418780882750794, 7.419380582918692, 7.419979923661835, 7.4205789054108005, 7.421177528595393, 7.421775793644647, 7.422373700986824, 7.422971251049421, 7.423568444259167, 7.424165281042028, 7.424761761823209, 7.425357887027151, 7.425953657077541, 7.426549072397305, 7.427144133408616, 7.427738840532894, 7.428333194190806, 7.428927194802272, 7.429520842786462, 7.430114138561801, 7.430707082545968, 7.431299675155903, 7.4318919168078, 7.432483807917119, 7.43307534889858, 7.433666540166168, 7.4342573821331355, 7.434847875211999, 7.43543801981455, 7.4360278163518485, 7.436617265234227, 7.437206366871292, 7.4377951216719325, 7.438383530044307, 7.438971592395862, 7.43955930913332, 7.440146680662688, 7.440733707389261, 7.4413203897176174, 7.441906728051625, 7.442492722794441, 7.443078374348515, 7.443663683115591, 7.444248649496705, 7.444833273892193, 7.445417556701687, 7.44600149832412, 7.446585099157725, 7.44716835960004, 7.447751280047908, 7.448333860897476, 7.4489161025442, 7.449498005382849, 7.450079569807499, 7.450660796211539, 7.451241684987676, 7.45182223652793, 7.452402451223638, 7.45298232946546, 7.453561871643373, 7.454141078146678, 7.454719949364001, 7.455298485683291, 7.455876687491824, 7.456454555176209, 7.4570320891223805, 7.457609289715606, 7.458186157340487, 7.45876269238096, 7.459338895220295, 7.459914766241105, 7.460490305825338, 7.461065514354283, 7.461640392208575, 7.462214939768189, 7.462789157412448, 7.463363045520021, 7.463936604468925, 7.4645098346365275, 7.465082736399547, 7.465655310134056, 7.466227556215481, 7.466799475018602, 7.4673710669175595, 7.467942332285852, 7.468513271496337, 7.469083884921234, 7.469654172932128, 7.470224135899966, 7.470793774195062, 7.471363088187097, 7.471932078245122, 7.472500744737558, 7.473069088032197, 7.473637108496206, 7.474204806496124, 7.47477218239787, 7.475339236566737, 7.475905969367397, 7.476472381163905, 7.4770384723196965, 7.477604243197589, 7.478169694159785, 7.478734825567875, 7.479299637782834, 7.4798641311650265, 7.480428306074208, 7.480992162869525, 7.4815557019095165, 7.4821189235521155, 7.482681828154651, 7.48324441607385, 7.483806687665835, 7.484368643286131, 7.484930283289661, 7.485491608030754, 7.48605261786314, 7.486613313139955, 7.487173694213739, 7.487733761436444, 7.488293515159428, 7.488852955733459, 7.489412083508719, 7.489970898834801, 7.490529402060711, 7.491087593534876, 7.491645473605133, 7.492203042618741, 7.492760300922379, 7.493317248862145, 7.493873886783559, 7.494430215031565, 7.494986233950533, 7.495541943884256, 7.496097345175956, 7.496652438168283, 7.497207223203318, 7.4977617006225685, 7.498315870766981, 7.498869733976931, 7.499423290592229, 7.4999765409521215, 7.500529485395295, 7.501082124259871, 7.501634457883413, 7.502186486602925, 7.502738210754851, 7.503289630675082, 7.503840746698951, 7.504391559161238, 7.504942068396171, 7.505492274737424, 7.506042178518122, 7.506591780070841, 7.507141079727608, 7.507690077819904, 7.508238774678663, 7.508787170634276, 7.509335266016592, 7.509883061154913, 7.510430556378006, 7.510977752014095, 7.511524648390866, 7.512071245835466, 7.5126175446745105, 7.513163545234075, 7.513709247839705, 7.51425465281641, 7.51479976048867, 7.515344571180436, 7.515889085215125, 7.516433302915632, 7.516977224604321, 7.517520850603031, 7.518064181233078, 7.518607216815252, 7.519149957669823, 7.519692404116539, 7.520234556474628, 7.520776415062797, 7.52131798019924, 7.521859252201629, 7.522400231387125, 7.52294091807237, 7.523481312573497, 7.524021415206125, 7.52456122628536, 7.5251007461258, 7.5256399750415355, 7.526178913346146, 7.526717561352706, 7.527255919373784, 7.527793987721444, 7.528331766707247, 7.528869256642251, 7.529406457837013, 7.529943370601589, 7.530479995245536, 7.5310163320779155, 7.531552381407289, 7.532088143541722, 7.532623618788788, 7.533158807455563, 7.533693709848633, 7.534228326274089, 7.534762657037537, 7.5352967024440884, 7.535830462798367, 7.536363938404511, 7.53689712956617, 7.537430036586509, 7.537962659768208, 7.538494999413465, 7.539027055823995, 7.53955882930103, 7.540090320145325, 7.5406215286571525, 7.5411524551363085, 7.541683099882111, 7.542213463193403, 7.54274354536855, 7.543273346705446, 7.543802867501509, 7.5443321080536885, 7.544861068658458, 7.545389749611823, 7.545918151209323, 7.546446273746024, 7.546974117516527, 7.547501682814967, 7.5480289699350145, 7.5485559791698735, 7.549082710812286, 7.549609165154532, 7.550135342488429, 7.550661243105336, 7.551186867296149, 7.55171221535131, 7.552237287560802, 7.552762084214147, 7.553286605600419, 7.553810852008231, 7.554334823725748, 7.554858521040676, 7.555381944240273, 7.555905093611346, 7.556427969440253, 7.5569505720129, 7.557472901614746, 7.557994958530806, 7.558516743045645, 7.559038255443384, 7.5595594960077, 7.560080465021827, 7.560601162768557, 7.561121589530238, 7.56164174558878, 7.562161631225652, 7.562681246721884, 7.563200592358071, 7.563719668414366, 7.564238475170491, 7.564757012905729, 7.5652752818989315, 7.565793282428515, 7.566311014772463, 7.566828479208331, 7.56734567601324, 7.5678626054638825, 7.568379267836522, 7.5688956634069955, 7.569411792450712, 7.569927655242652, 7.570443252057374, 7.57095858316901, 7.571473648851271, 7.57198844937744, 7.572502985020384, 7.573017256052546, 7.57353126274595, 7.5740450053721995, 7.5745584842024805, 7.575071699507561, 7.575584651557793, 7.576097340623111, 7.5766097669730375, 7.577121930876679, 7.577633832602728, 7.578145472419466, 7.578656850594762, 7.579167967396076, 7.579678823090456, 7.580189417944541, 7.580699752224563, 7.581209826196346, 7.581719640125308, 7.5822291942764615, 7.582738488914411, 7.583247524303362, 7.583756300707112, 7.584264818389059, 7.584773077612199, 7.585281078639126, 7.585788821732034, 7.58629630715272, 7.586803535162581, 7.587310506022615, 7.587817219993427, 7.5883236773352225, 7.588829878307813, 7.589335823170617, 7.589841512182657, 7.590346945602565, 7.590852123688581, 7.591357046698551, 7.591861714889934, 7.592366128519796, 7.592870287844818, 7.59337419312129, 7.593877844605118, 7.594381242551817, 7.59488438721652, 7.5953872788539725, 7.595889917718538, 7.596392304064196, 7.596894438144544, 7.597396320212795, 7.597897950521784, 7.598399329323964, 7.59890045687141, 7.599401333415815, 7.599901959208498, 7.6004023345004, 7.600902459542082, 7.601402334583733, 7.601901959875166, 7.602401335665818, 7.602900462204755, 7.60339933974067, 7.603897968521881, 7.604396348796338, 7.60489448081162, 7.605392364814934, 7.605890001053122, 7.606387389772652, 7.60688453121963, 7.607381425639791, 7.607878073278507, 7.608374474380783, 7.60887062919126, 7.6093665379542115, 7.609862200913554, 7.610357618312838, 7.61085279039525, 7.611347717403621, 7.611842399580417, 7.612336837167746, 7.6128310304073565, 7.613324979540639, 7.613818684808629, 7.614312146452, 7.614805364711073, 7.615298339825815, 7.615791072035833, 7.616283561580385, 7.616775808698373, 7.617267813628347, 7.617759576608505, 7.618251097876695, 7.618742377670413, 7.619233416226805, 7.61972421378267, 7.620214770574455, 7.620705086838262, 7.621195162809845, 7.621684998724611, 7.622174594817622, 7.622663951323595, 7.623153068476902, 7.6236419465115715, 7.624130585661289, 7.6246189861593985, 7.6251071482389, 7.6255950721324535, 7.62608275807238, 7.62657020629066, 7.627057417018934, 7.627544390488503, 7.628031126930335, 7.628517626575055, 7.6290038896529575, 7.629489916393995, 7.629975707027789, 7.630461261783627, 7.630946580890459, 7.631431664576906, 7.631916513071252, 7.6324011266014535, 7.632885505395133, 7.633369649679584, 7.633853559681768, 7.63433723562832, 7.634820677745543, 7.635303886259415, 7.635786861395585, 7.6362696033793735, 7.636752112435779, 7.637234388789473, 7.637716432664798, 7.638198244285779, 7.638679823876112, 7.639161171659173, 7.639642287858013, 7.640123172695364, 7.640603826393634, 7.641084249174914, 7.641564441260972, 7.642044402873258, 7.642524134232902, 7.643003635560718, 7.643482907077201, 7.643961949002529, 7.644440761556566, 7.644919344958857, 7.645397699428633, 7.645875825184813, 7.646353722445999, 7.646831391430482, 7.647308832356238, 7.647786045440933, 7.64826303090192, 7.6487397889562425, 7.649216319820633, 7.649692623711514, 7.650168700845001, 7.650644551436897, 7.6511201757027, 7.651595573857601, 7.652070746116482, 7.652545692693921, 7.653020413804189, 7.653494909661253, 7.653969180478774, 7.6544432264701125, 7.65491704784832, 7.655390644826152, 7.655864017616056, 7.656337166430183, 7.656810091480378, 7.65728279297819, 7.6577552711348655, 7.658227526161352, 7.6586995582682995, 7.659171367666058, 7.659642954564682, 7.660114319173928, 7.660585461703256, 7.66105638236183, 7.661527081358517, 7.661997558901893, 7.6624678152002375, 7.662937850461535, 7.663407664893479, 7.6638772587034705, 7.664346632098617, 7.664815785285735, 7.665284718471351, 7.665753431861699, 7.666221925662725, 7.666690200080086, 7.667158255319148, 7.6676260915849905, 7.668093709082406, 7.668561108015897, 7.669028288589683, 7.669495251007694, 7.669961995473577, 7.670428522190693, 7.6708948313621175, 7.671360923190644, 7.671826797878781, 7.672292455628756, 7.67275789664251, 7.673223121121708, 7.67368812926773, 7.674152921281675, 7.674617497364363, 7.675081857716334, 7.675546002537848, 7.6760099320288875, 7.676473646389156, 7.67693714581808, 7.677400430514807, 7.67786350067821, 7.6783263565068856, 7.6787889981991535, 7.679251425953058, 7.679713639966372, 7.68017564043659, 7.680637427560936, 7.681099001536359, 7.681560362559537, 7.682021510826875, 7.682482446534506, 7.682943169878292, 7.683403681053826, 7.6838639802564295, 7.684324067681155, 7.684783943522785, 7.685243607975833, 7.685703061234547, 7.686162303492906, 7.68662133494462, 7.687080155783135, 7.687538766201629, 7.687997166393016, 7.688455356549944, 7.688913336864796, 7.68937110752969, 7.689828668736484, 7.690286020676768, 7.690743163541872, 7.691200097522863, 7.691656822810547, 7.692113339595466, 7.692569648067906, 7.693025748417888, 7.693481640835175, 7.693937325509272, 7.694392802629421, 7.69484807238461, 7.6953031349635665, 7.695757990554761, 7.696212639346407, 7.696667081526462, 7.697121317282625, 7.697575346802343, 7.698029170272805, 7.6984827878809465, 7.698936199813447, 7.699389406256737, 7.699842407396986, 7.700295203420117, 7.700747794511798, 7.701200180857446, 7.701652362642226, 7.70210434005105, 7.7025561132685825, 7.703007682479236, 7.703459047867175, 7.7039102096163115, 7.704361167910313, 7.704811922932594, 7.705262474866325, 7.7057128238944275, 7.706162970199575, 7.706612913964197, 7.707062655370473, 7.707512194600341, 7.70796153183549, 7.708410667257367, 7.708859601047175, 7.709308333385869, 7.709756864454165, 7.7102051944325325, 7.710653323501202, 7.711101251840158, 7.711548979629146, 7.711996507047669, 7.71244383427499, 7.71289096149013, 7.71333788887187, 7.713784616598755, 7.7142311448490855, 7.714677473800927, 7.715123603632105, 7.715569534520208, 7.716015266642587, 7.716460800176355, 7.716906135298388, 7.717351272185329, 7.717796211013582, 7.718240951959316, 7.718685495198466, 7.719129840906732, 7.719573989259581, 7.720017940432244, 7.720461694599722, 7.720905251936779, 7.721348612617949, 7.721791776817535, 7.722234744709607, 7.7226775164680035, 7.723120092266331, 7.72356247227797, 7.724004656676065, 7.724446645633537, 7.724888439323074, 7.725330037917135, 7.725771441587952, 7.726212650507529, 7.7266536648476425, 7.727094484779842, 7.727535110475448, 7.7279755421055585, 7.7284157798410416, 7.728855823852543, 7.729295674310482, 7.729735331385051, 7.730174795246222, 7.7306140660637395, 7.731053144007127, 7.731492029245684, 7.731930721948486, 7.732369222284388, 7.732807530422021, 7.733245646529795, 7.7336835707759, 7.734121303328305, 7.734558844354756, 7.734996194022781, 7.7354333524996886, 7.735870319952567, 7.736307096548285, 7.736743682453495, 7.73718007783463, 7.737616282857904, 7.738052297689316, 7.738488122494646, 7.738923757439457, 7.739359202689098, 7.739794458408701, 7.740229524763182, 7.7406644019172415, 7.741099090035366, 7.741533589281828, 7.741967899820685, 7.742402021815781, 7.742835955430749, 7.743269700829004, 7.7437032581737535, 7.744136627627991, 7.744569809354496, 7.745002803515839, 7.745435610274381, 7.7458682297922685, 7.746300662231439, 7.746732907753622, 7.747164966520335, 7.7475968386928855, 7.748028524432376, 7.748460023899697, 7.7488913372555315, 7.749322464660356, 7.749753406274437, 7.7501841622578365, 7.750614732770409, 7.751045117971802, 7.751475318021456, 7.75190533307861, 7.752335163302292, 7.752764808851328, 7.753194269884341, 7.753623546559746, 7.754052639035757, 7.754481547470383, 7.75491027202143, 7.755338812846501, 7.755767170102998, 7.756195343948118, 7.756623334538858, 7.757051142032013, 7.757478766584179, 7.757906208351747, 7.75833346749091, 7.758760544157663, 7.759187438507795, 7.759614150696903, 7.76004068088038, 7.76046702921342, 7.760893195851024, 7.761319180947987, 7.761744984658913, 7.762170607138205, 7.762596048540069, 7.763021309018518, 7.763446388727362, 7.763871287820222, 7.764296006450518, 7.764720544771477, 7.7651449029361315, 7.765569081097317, 7.765993079407675, 7.7664168980196555, 7.766840537085513, 7.767263996757308, 7.767687277186908, 7.768110378525988, 7.768533300926033, 7.768956044538332, 7.769378609513984, 7.769800996003896, 7.7702232041587855, 7.7706452341291765, 7.771067086065406, 7.771488760117616, 7.771910256435763, 7.772331575169614, 7.772752716468742, 7.773173680482536, 7.773594467360194, 7.774015077250727, 7.774435510302958, 7.77485576666552, 7.7752758464868625, 7.775695749915245, 7.776115477098742, 7.776535028185241, 7.776954403322442, 7.777373602657861, 7.77779262633883, 7.778211474512493, 7.77863014732581, 7.779048644925556, 7.779466967458324, 7.779885115070522, 7.780303087908373, 7.780720886117918, 7.781138509845015, 7.78155595923534, 7.781973234434385, 7.7823903355874595, 7.782807262839695, 7.783224016336037, 7.783640596221253, 7.784057002639929, 7.784473235736469, 7.784889295655098, 7.785305182539862, 7.785720896534624, 7.786136437783072, 7.786551806428712, 7.786967002614872, 7.787382026484701, 7.787796878181171, 7.788211557847076, 7.7886260656250315, 7.789040401657477, 7.789454566086673, 7.789868559054706, 7.790282380703483, 7.790696031174738, 7.791109510610028, 7.791522819150732, 7.791935956938058, 7.792348924113037, 7.792761720816526, 7.793174347189205, 7.793586803371584, 7.793999089503996, 7.794411205726601, 7.794823152179389, 7.795234929002173, 7.795646536334594, 7.796057974316123, 7.796469243086058, 7.796880342783522, 7.797291273547472, 7.79770203551669, 7.798112628829788, 7.798523053625206, 7.798933310041217, 7.79934339821592, 7.799753318287247, 7.80016307039296, 7.80057265467065, 7.8009820712577405, 7.8013913202914855, 7.801800401908972, 7.802209316247118, 7.802618063442671, 7.803026643632217, 7.803435056952168, 7.803843303538772, 7.804251383528112, 7.804659297056102, 7.8050670442584895, 7.805474625270857, 7.805882040228621, 7.806289289267033, 7.806696372521179, 7.80710329012598, 7.807510042216193, 7.807916628926408, 7.8083230503910555, 7.808729306744399, 7.809135398120538, 7.80954132465341, 7.80994708647679, 7.81035268372429, 7.810758116529357, 7.811163385025279, 7.81156848934518, 7.8119734296220225, 7.81237820598861, 7.812782818577581, 7.813187267521416, 7.813591552952433, 7.813995675002791, 7.814399633804487, 7.814803429489359, 7.815207062189088, 7.8156105320351905, 7.8160138391590275, 7.816416983691801, 7.8168199657645525, 7.817222785508166, 7.81762544305337, 7.818027938530729, 7.818430272070656, 7.818832443803404, 7.81923445385907, 7.819636302367592, 7.820037989458753, 7.820439515262181, 7.820840879907344, 7.821242083523558, 7.821643126239982, 7.822044008185619, 7.822444729489319, 7.822845290279774, 7.823245690685523, 7.823645930834952, 7.824046010856292, 7.824445930877619, 7.824845691026857, 7.8252452914317745, 7.825644732219989, 7.826044013518965, 7.826443135456014, 7.826842098158293, 7.827240901752812, 7.827639546366422, 7.828038032125829, 7.828436359157585, 7.828834527588089, 7.829232537543592, 7.829630389150193, 7.83002808253384, 7.830425617820331, 7.830822995135316, 7.831220214604293, 7.83161727635261, 7.832014180505469, 7.83241092718792, 7.8328075165248645, 7.833203948641057, 7.8336002236611035, 7.83399634170946, 7.8343923029104365, 7.834788107388194, 7.835183755266748, 7.835579246669965, 7.835974581721566, 7.836369760545124, 7.836764783264067, 7.837159650001675, 7.837554360881084, 7.837948916025283, 7.8383433155571165, 7.838737559599282, 7.839131648274333, 7.839525581704678, 7.8399193600125825, 7.840312983320164, 7.8407064517494, 7.841099765422119, 7.841492924460013, 7.841885928984623, 7.842278779117352, 7.842671474979457, 7.843064016692054, 7.8434564043761155, 7.843848638152472, 7.844240718141811, 7.844632644464681, 7.845024417241484, 7.845416036592485, 7.845807502637805, 7.846198815497425, 7.846589975291186, 7.846980982138788, 7.847371836159788, 7.847762537473608, 7.848153086199526, 7.848543482456679, 7.848933726364071, 7.849323818040561, 7.84971375760487, 7.850103545175582, 7.8504931808711405, 7.850882664809852, 7.851271997109883, 7.851661177889265, 7.852050207265889, 7.85243908535751, 7.8528278122817445, 7.853216388156072, 7.853604813097837, 7.853993087224244, 7.854381210652365, 7.8547691834991324, 7.8551570058813445, 7.855544677915663, 7.855932199718614, 7.856319571406588, 7.8567067930958405, 7.857093864902493, 7.85748078694253, 7.857867559331803, 7.8582541821860294, 7.858640655620791, 7.859026979751538, 7.859413154693583, 7.85979918056211, 7.860185057472165, 7.860570785538664, 7.860956364876389, 7.861341795599989, 7.86172707782398, 7.862112211662748, 7.862497197230545, 7.8628820346414905, 7.8632667240095735, 7.8636512654486515, 7.86403565907245, 7.864419904994565, 7.86480400332846, 7.865187954187467, 7.8655717576847906, 7.865955413933502, 7.866338923046544, 7.866722285136729, 7.867105500316739, 7.8674885686991285, 7.867871490396322, 7.868254265520613, 7.868636894184167, 7.869019376499024, 7.86940171257709, 7.869783902530146, 7.870165946469845, 7.870547844507712, 7.8709295967551425, 7.8713112033234065, 7.871692664323645, 7.872073979866873, 7.8724551500639794, 7.872836175025724, 7.873217054862741, 7.87359778968554, 7.873978379604501, 7.874358824729881, 7.874739125171811, 7.875119281040293, 7.875499292445208, 7.87587915949631, 7.876258882303226, 7.876638460975463, 7.877017895622398, 7.877397186353287, 7.87777633327726, 7.878155336503324, 7.878534196140362, 7.878912912297132, 7.879291485082271, 7.879669914604289, 7.880048200971577, 7.8804263442924, 7.880804344674901, 7.881182202227102, 7.881559917056899, 7.88193748927207, 7.882314918980268, 7.8826922062890254, 7.883069351305753, 7.88344635413774, 7.8838232148921525, 7.884199933676039, 7.884576510596324, 7.884952945759814, 7.88532923927319, 7.88570539124302, 7.886081401775745, 7.886457270977689, 7.886832998955057, 7.887208585813932, 7.88758403166028, 7.887959336599945, 7.888334500738654, 7.888709524182015, 7.889084407035514, 7.889459149404524, 7.8898337513942955, 7.890208213109961, 7.890582534656536, 7.890956716138919, 7.891330757661889, 7.891704659330107, 7.892078421248119, 7.892452043520352, 7.8928255262511176, 7.893198869544609, 7.893572073504902, 7.893945138235959, 7.894318063841624, 7.894690850425624, 7.895063498091573, 7.895436006942965, 7.895808377083183, 7.8961806086154915, 7.89655270164304, 7.896924656268864, 7.897296472595885, 7.897668150726906, 7.898039690764619, 7.898411092811599, 7.898782356970309, 7.899153483343097, 7.899524472032198, 7.89989532313973, 7.900266036767701, 7.900636613018005, 7.90100705199242, 7.901377353792616, 7.9017475185201445, 7.902117546276448, 7.902487437162855, 7.902857191280582, 7.903226808730733, 7.903596289614301, 7.903965634032166, 7.904334842085095, 7.904703913873747, 7.905072849498666, 7.905441649060286, 7.905810312658931, 7.906178840394815, 7.906547232368036, 7.906915488678587, 7.907283609426348, 7.907651594711089, 7.908019444632471, 7.908387159290043, 7.908754738783246, 7.909122183211411, 7.909489492673759, 7.909856667269403, 7.9102237070973445, 7.9105906122564775, 7.910957382845589, 7.911324018963352, 7.911690520708339, 7.912056888179006, 7.912423121473705, 7.912789220690681, 7.913155185928068, 7.913521017283895, 7.913886714856082, 7.914252278742441, 7.914617709040679, 7.914983005848394, 7.915348169263078, 7.915713199382116, 7.916078096302786, 7.91644286012226, 7.916807490937603, 7.917171988845776, 7.917536353943631, 7.917900586327916, 7.918264686095274, 7.91862865334224, 7.918992488165245, 7.919356190660617, 7.919719760924575, 7.920083199053234, 7.920446505142607, 7.9208096792886, 7.9211727215870145, 7.9215356321335495, 7.921898411023797, 7.922261058353247, 7.922623574217286, 7.9229859587111955, 7.923348211930154, 7.923710333969238, 7.924072324923417, 7.92443418488756, 7.9247959139564355, 7.925157512224704, 7.925518979786926, 7.92588031673756, 7.926241523170962, 7.926602599181384, 7.9269635448629785, 7.927324360309794, 7.927685045615778, 7.928045600874777, 7.928406026180535, 7.9287663216266955, 7.9291264873067995, 7.929486523314289, 7.929846429742503, 7.930206206684683, 7.930565854233965, 7.930925372483388, 7.931284761525891, 7.931644021454311, 7.932003152361385, 7.932362154339751, 7.932721027481948, 7.933079771880415, 7.933438387627489, 7.933796874815411, 7.934155233536322, 7.934513463882263, 7.934871565945176, 7.935229539816907, 7.9355873855892, 7.935945103353701, 7.936302693201959, 7.936660155225426, 7.937017489515453, 7.937374696163295, 7.937731775260109, 7.938088726896952, 7.938445551164788, 7.938802248154481, 7.9391588179567965, 7.939515260662406, 7.939871576361883, 7.940227765145702, 7.940583827104244, 7.940939762327791, 7.941295570906532, 7.941651252930556, 7.9420068084898565, 7.942362237674335, 7.942717540573791, 7.943072717277933, 7.943427767876373, 7.943782692458625, 7.9441374911141125, 7.944492163932159, 7.944846711001996, 7.945201132412759, 7.945555428253489, 7.945909598613133, 7.946263643580541, 7.946617563244473, 7.94697135769359, 7.947325027016463, 7.947678571301568, 7.948031990637284, 7.9483852851118995, 7.94873845481361, 7.949091499830517, 7.949444420250626, 7.949797216161852, 7.950149887652018, 7.950502434808851, 7.950854857719988, 7.951207156472972, 7.951559331155252, 7.951911381854188, 7.952263308657046, 7.952615111650999, 7.952966790923131, 7.953318346560431, 7.953669778649798, 7.954021087278037, 7.954372272531867, 7.954723334497908, 7.955074273262696, 7.955425088912672, 7.955775781534187, 7.9561263512135, 7.956476798036782, 7.956827122090111, 7.957177323459475, 7.957527402230773, 7.957877358489813, 7.958227192322312, 7.958576903813898, 7.95892649305011, 7.959275960116396, 7.959625305098115, 7.9599745280805365, 7.96032362914884, 7.960672608388117, 7.96102146588337, 7.961370201719511, 7.9617188159813645, 7.962067308753666, 7.9624156801210635, 7.962763930168115, 7.96311205897929, 7.96346006663897, 7.963807953231451, 7.964155718840937, 7.964503363551548, 7.964850887447313, 7.965198290612176, 7.965545573129992, 7.9658927350845286, 7.966239776559467, 7.9665866976384025, 7.96693349840484, 7.9672801789422, 7.9676267393338165, 7.967973179662935, 7.968319500012717, 7.968665700466235, 7.969011781106478, 7.969357742016346, 7.969703583278656, 7.970049304976135, 7.970394907191429, 7.970740390007095, 7.971085753505607, 7.9714309977693505, 7.971776122880628, 7.972121128921655, 7.9724660159745655, 7.972810784121404, 7.973155433444133, 7.97349996402463, 7.973844375944687, 7.974188669286011, 7.974532844130228, 7.9748769005588755, 7.97522083865341, 7.975564658495202, 7.975908360165538, 7.976251943745623, 7.976595409316577, 7.976938756959434, 7.97728198675515, 7.977625098784593, 7.977968093128549, 7.978310969867722, 7.978653729082731, 7.978996370854115, 7.979338895262328], 'SalePrice': [11.705338304550548, 11.97032523701411, 12.096651786727115, 12.141390192399019, 12.169189677911701, 12.11306381724496, 12.042091245136714, 12.057104974680906, 12.100192806414505, 11.746660656056003, 12.247553927058885, 11.448334563836886, 11.432265415372388, 11.93097062833067, 11.66747631747055, 12.764166018860847, 12.469928992793907, 12.57570794584234, 12.596006012792667, 12.998816794294894, 12.638719905634286, 12.228243398287573, 12.096969140116734, 12.050448141235874, 12.054484224704687, 12.214190622904466, 12.669851502683581, 12.38008295311643, 12.235078984318477, 12.29392890035281, 12.155031476359381, 11.52591920429845, 12.110794141142222, 12.602326379320148, 12.59851745333199, 12.379653636220782, 12.089551145126176, 11.973695507881912, 11.929975238179178, 11.99693230963247, 12.056132447086943, 11.937994399492938, 12.472433080995563, 12.34627075965291, 12.285979473995532, 12.086860697894535, 12.465753646036626, 12.14484718558241, 11.953273174173157, 11.907381000541916, 11.927200514639276, 12.042173287590758, 11.877694730556827, 11.978725779634406, 12.183201289986316, 11.893647796821181, 11.93596129925992, 11.794884191728494, 12.334180044598797, 11.836149966094053, 11.87698246808764, 11.992429297872826, 11.703165395917743, 11.733500975374984, 11.753403030981065, 11.731499057819017, 11.566528403983146, 11.758755312111326, 11.8655057758877, 12.005368396877621, 11.777841293144839, 11.575771845352026, 11.897112951804063, 11.672089734850875, 11.90859849543129, 11.688649243314583, 11.364534045157962, 11.922226853517746, 12.104433374099603, 11.683183837886322, 11.822271235871206, 11.833756810418343, 12.109493220764593, 11.353984556442379, 11.549981447198727, 11.735567272514524, 11.804653485970851, 11.754828428351143, 11.554399373654494, 11.842690893037856, 11.666013814678964, 11.871487624050394, 11.88625563467314, 11.648300812205262, 12.02467957164864, 11.497291160878381, 11.756854499811427, 11.430415417492224, 11.719545787314638, 11.832911430678912, 11.941528553983728, 11.770637538312393, 11.718152155133865, 12.003294148630355, 11.939388003798685, 12.284006794517113, 11.404721455606873, 12.319732612429835, 11.879688117399148, 11.800175978959308, 11.743946485940917, 11.865546359293816, 12.38786806805863, 11.783189736680544, 12.326418180237642, 12.330967759722972, 12.176709505468875, 11.839649163079809, 11.860531501638082, 12.126578979370697, 11.869174816726304, 11.739866386420733, 12.673365621490008, 12.371542491711281, 11.846076521238857, 11.294775305804556, 11.632532231528273, 11.93004025930005, 11.557909043845068, 11.804871111225715, 11.560920797278412, 11.791900130649562, 11.643595320311857, 11.840608778508365, 11.741400794518555, 12.271788532361148, 12.063096202505449, 12.065319230129548, 11.997544558962767, 12.088686435477028, 11.200602475327994, 11.621298835683598, 11.405052696871564, 12.530744165719591, 12.404718232406662, 12.044264120656466, 12.048089629235792, 12.252373082855947, 12.13922369292673, 12.001320755132271, 11.924316090474486, 12.101537200462571, 12.063033314888791, 11.66207852920727, 11.39532830777245, 11.351753097349938, 11.368216347926388, 11.727788570450034, 11.800563200731553, 12.076993904131605, 11.845028903665185, 11.841593413198131, 12.505044580254257, 12.307837637547363, 11.713889284203168, 12.036063034162803, 12.130961802769777, 12.506834534493985, 12.03885481850677, 12.634581069452157, 12.216944748965215, 12.395472893440584, 12.050131087371646, 12.142672615254675, 12.088776765512014, 12.04233337976508, 12.135720339612693, 12.209125623790019, 12.097007793778722, 12.38983505371271, 12.069771590830715, 12.335788647067863, 12.331821572892325, 12.307852284130288, 12.121020088086837, 11.959698874830801, 11.995671557866228, 11.829437610325563, 11.839670571758283, 11.727493914829076, 11.717493436378916, 11.427413000434083, 11.450781461638655, 11.934078247109554, 11.830691282216234, 11.907976582781428, 11.937305250801863, 11.952330594300992, 11.702974660111861, 11.927052731235676, 12.892572119272367, 12.726516120309977, 12.833593838702491, 12.923189676744233, 12.602838273096209, 12.70731459630981, 12.756920097069319, 12.667982098855402, 12.521678625145405, 12.665478924226868, 12.498966554354235, 12.92312197947428, 12.607216205496478, 12.451202545187616, 12.194289761246742, 12.196235073439327, 12.27592316757142, 12.986384813622674, 12.82326842977753, 12.64236464212115, 12.356695884711325, 12.622506835160081, 12.142621774810314, 12.060285446071132, 12.081816663754996, 12.034534012578149, 12.03310722911063, 12.175414662444956, 12.148959048974941, 12.116687621395263, 12.074622252476926, 12.39032980388541, 12.053190167613222, 12.111392424453577, 12.049948324087591, 12.5253237590904, 12.002962393917848, 12.71159248661358, 12.686132420974403, 12.418283924232012, 12.490898783785772, 12.441725976248135, 12.435516933679732, 12.541551104447569, 12.31616914317326, 12.784858679401689, 12.250707417450316, 12.209827455327188, 12.441510041729565, 12.297087792563113, 12.440962982499906, 12.481725659428353, 12.459919418015101, 12.288520008212002, 12.219798759506052, 12.071116247489293, 12.008423391581381, 11.811897349506854, 12.240885211211491, 12.391047341682636, 12.031106606936335, 11.798093713135145, 12.007249940208663, 12.250920277293037, 12.354463377363833, 12.182068262159982, 12.13596831338787, 12.121834165058896, 11.99586781037455, 11.94669821225532, 11.760428269241293, 11.743214910394505, 11.657365662297153, 11.759554623691207, 11.79865449353756, 11.719629901024195, 12.578862958884434, 12.291985674401028, 12.444912950570892, 12.340192970407177, 12.13459302958465, 12.049369269724872, 12.081041965728987, 12.492650826781663, 12.275513458081091, 12.202523305735133, 12.223020064255293, 12.292598478566934, 12.025863794350478, 11.879889751155842, 12.276306639441826, 11.686825515313046, 11.926026638577584, 12.149138626098583, 12.035674148853094, 11.761621547966286, 11.677611347642948, 11.927819543091948, 12.021621315010982, 12.013701982415173, 11.97244564397361, 12.075221877345323, 12.042949815380107, 11.713973196946023, 11.998084320436186, 12.04934639363134, 12.200996416676096, 11.871482990327259, 11.991650387594868, 11.874065545891762, 11.808662916953777, 11.88431789295405, 11.839870097717274, 11.891966617220753, 11.844115795097785, 11.771185004424435, 11.62146725254604, 11.813100676122497, 11.726158645664619, 11.969721214979927, 11.815278521664952, 11.524497395717672, 11.83021703067287, 11.547137065421486, 11.697287992796376, 12.009164205356827, 12.008979276478627, 11.276407479112336, 11.485454010978692, 11.449986235013558, 12.084024935502326, 11.94069159785246, 11.841041189347807, 11.879576723506634, 11.869479849990634, 11.785979502952737, 11.681755101628141, 11.76079934591133, 11.654456806514814, 11.756614015771616, 11.808055125327485, 11.81955061795574, 11.933251243537915, 11.873334132117789, 11.81606421688508, 11.709992687072118, 11.810503996935607, 11.670980094803383, 11.721400985946916, 11.855997924771811, 11.707434265415666, 11.613020880641118, 11.693178329968156, 11.514923236913196, 11.091507690673122, 11.536171597768908, 11.799563967902351, 11.82274341511562, 11.697292558236548, 11.28759712917854, 11.683716435863253, 11.86127367122632, 10.936713565218463, 11.81310099803292, 11.75977721594551, 11.558287517937872, 11.60266254834716, 11.800891900218396, 11.617630062423302, 11.806672557961699, 11.853187869458003, 11.705386572008113, 11.86366030527844, 11.737767361794273, 11.869263603789292, 11.773451125414681, 11.545521785485608, 11.740631381633087, 11.492736679298023, 12.065802744372366, 11.906950168024437, 11.464329017612375, 11.859473323163407, 11.823530919975894, 11.883084201740381, 11.924806686518368, 11.965494710619666, 11.158313649292436, 11.720958722177436, 11.736174668191545, 11.937647586382461, 11.774332989102689, 11.893019854600409, 12.018217913027694, 11.98236291942759, 12.284974442325401, 11.965125536814647, 11.957343650826884, 11.796530843350453, 11.960616958472508, 11.795938909439336, 12.455265955623634, 12.383982807970636, 12.383982807970636, 12.62463980903555, 12.647924688751095, 12.332727607269486, 12.563068316716407, 12.196342359698432, 12.302952845568063, 12.429867036379775, 12.051714707018684, 12.336762337314074, 11.803092736957225, 12.174100369037166, 12.18783868558329, 12.267966348352395, 12.279995144368229, 11.80942522693407, 11.806677904369288, 12.420527257993513, 12.420304422645392, 12.213529403931162, 12.281633362144651, 12.376768497112097, 12.551194588677063, 12.257557189628903, 12.466773392161013, 12.02964911931316, 11.775588413176122, 11.859813814725003, 11.64211963038426, 11.782483911034484, 11.785523870172696, 11.902082441761147, 11.71639260295319, 11.729049416100807, 11.637189936410271, 11.861826147172678, 11.76368429300378, 11.94674187887123, 11.880582307713238, 12.076735009233866, 11.813054977027656, 12.097807065408372, 11.903609473044805, 12.121943946409688, 11.643589920617792, 11.794171993303937, 11.715975306561146, 12.118932792067818, 12.514604848368327, 11.904690798660226, 11.190062387773311, 12.721784780525397, 11.153189292487934, 12.435215556320237, 11.811755481266438, 11.956564300047473, 12.06160574807209, 12.844001042695044, 12.599057540839711, 12.207274461048291, 12.315007210033269, 12.281883057620188, 12.83623855899587, 11.855980957724903, 12.011204521771917, 11.713909761765875, 11.805631927345923, 11.837753262091562, 11.835807772598427, 12.086081055823929, 12.092677976928186, 12.088374438523307, 12.134213662238269, 12.105355770041628, 12.131984473407993, 12.361587720919978, 12.158371679464542, 12.096114986516957, 12.145121842239126, 12.183209270728451, 12.695049877944303, 12.76932956061805, 11.950608966594597, 12.554029031896714, 12.035760155923436, 12.366637696007892, 12.11750918908644, 12.424425985301252, 12.28348626983556, 12.091091051841408, 12.125757490769093, 11.846154082055852, 12.511145442412213, 12.031031799829773, 12.62406118805268, 11.900683577303123, 11.71665535689997, 11.726008502161417, 11.430998289162996, 11.518851964674315, 11.624572237475704, 11.898151836539155, 11.844191578565006, 12.563277042165687, 12.915428342630461, 12.826717319215518, 12.889737184364387, 12.786047460416823, 12.755125320366568, 12.480892104746799, 12.65521108567414, 12.896606664486326, 12.492629893964542, 12.734285493154637, 12.740304627968378, 12.71005050737871, 12.197697521730875, 12.689777029999675, 12.364858705036577, 12.316712897389689, 12.03097884284962, 12.28620408889015, 12.290676800125253, 12.095891867394343, 12.090792894644617, 12.179632272863723, 12.30576725920644, 12.29892487854135, 12.25991117247076, 12.07152163640376, 12.35061245268295, 12.101353399763106, 12.446818457957527, 12.641050181465584, 12.720686967101738, 12.42691135416237, 12.616480114820833, 12.511403211529496, 12.387549299610669, 12.471845898717731, 12.472077373250613, 12.273299068002984, 12.259945652571782, 12.404397941594416, 12.250640934445755, 12.201969529207066, 12.158705477857593, 11.853214595994464, 12.082988723662385, 12.104032081641014, 12.177286867833216, 12.189897356921067, 12.203018377606018, 12.184262497011302, 11.728846362669024, 11.761919949993105, 11.707993164010473, 11.647669494458693, 12.071583509657298, 11.929566850995787, 12.459621561823006, 12.68145242329606, 12.135393503390764, 11.939111430039661, 11.927560035501845, 12.053531758012412, 12.471535063064032, 12.233181438161575, 12.308749711068378, 12.396130836843348, 12.02377405910173, 12.18523037405085, 12.091255200021223, 12.132227750646775, 12.418872734992922, 12.220974756784154, 12.562368363145424, 12.37616195684811, 12.239156182388992, 12.018524876351982, 12.033479927007217, 12.20603424493354, 11.84879901820025, 11.931421376999959, 11.801457362120757, 11.823353927655237, 12.036583753538396, 11.580778895793959, 11.800995502171391, 11.878930218137587, 11.48607254387807, 11.959486543395908, 11.822394551886736, 11.788817217595426, 12.330303293731122, 11.865241556523463, 11.987912588301082, 12.017813005066408, 11.800775998558745, 11.688413395597145, 11.894534838457338, 11.760362956071205, 12.005488426085517, 11.74965664991785, 11.920422088511566, 11.39816977021581, 11.61577907137948, 11.524176109854464, 11.821590586633222, 11.822467714962126, 12.056320655623828, 11.889493174112852, 11.694669644037246, 11.917850033479315, 11.76296635686524, 11.75608098712898, 11.682137517022616, 11.738270537201158, 11.829173724547097, 11.86559838773099, 11.644904736017788, 11.78584056657293, 11.577068618752753, 11.719448765242086, 11.62580470431095, 11.42391825645072, 11.794992703637236, 11.750665691308704, 11.792222058736884, 11.755879684770282, 11.650076481359514, 11.84522923272806, 11.346462561016386, 11.53651907280612, 11.817026582926701, 10.990614511201592, 11.630862745615254, 11.768966498681591, 11.758005211384697, 11.533966273830702, 11.7892488695508, 11.790181786321561, 11.447808539956691, 12.191295518750286, 11.653489398956495, 11.659488250897539, 11.793733870142264, 11.815863673818253, 11.845764116035705, 11.683221649950221, 11.622224251258098, 11.896601525498781, 11.687424459180404, 11.823933654934388, 11.70214668505109, 11.606011893478158, 11.66065946113198, 11.600890353092241, 11.561932574611625, 11.367835849880997, 11.947930725452103, 11.79132977039491, 11.939746151368997, 11.874314260062276, 11.77842598706926, 11.400033241500564, 11.83782039181715, 11.871960024985933, 11.662128781415745, 11.665520774182962, 11.706043576412235, 11.507289374107868, 11.505130563527702, 11.713521907739832, 11.864903974340045, 11.9087142132847, 11.775737769195077, 11.85815501674692, 11.827118215840867, 11.888830182240321, 11.833747945062369, 11.785815330824539, 11.926252333242912, 12.015956133392812, 11.730047736640666, 11.854569758581626, 12.223876660889935, 11.607926245275646, 12.00594965367591, 11.971337955776562, 11.628110720202521, 11.817376725109325, 12.483054503507782, 12.338400962090336, 12.339150328163402, 12.213154841897717, 12.03413558966368, 12.426888582387026, 12.854608386856748, 12.714275046269877, 12.411665870652344, 12.11927002937026, 11.86564588682141, 12.242008366116078, 12.217082474104735, 12.170958096858769, 12.289173981908919, 11.916895624473115, 11.859387617754043, 11.945623078408596, 12.38163159855528, 12.513718174654668, 12.666038775914759, 12.438957235589447, 12.295130886809481, 11.895141517594249, 12.30579408944272, 12.17941857514907, 12.330870821749814, 12.16092169095827, 11.801146017783308, 11.799765474047508, 11.918932355359985, 11.842961049821373, 11.897139000837205, 12.33543599476723, 11.511478172892028, 11.522647025534546, 11.465741195341725, 11.509703505134649, 11.583280839742184, 11.711318126443281, 11.672382509908148, 11.683691079991497, 11.9211255669801, 12.00492234721818, 11.717170225286438, 11.817856042986778, 12.063383968462857, 11.944606104788669, 12.028927578177932, 11.71178376892308, 11.79977135076259, 12.095238731607656, 12.300292126663093, 12.205248740350159, 11.670648006255819, 11.610471198469229, 11.622676459339893, 11.59942134867775, 11.812140192660431, 11.522071775205017, 11.867302531832912, 11.287143363822127, 11.376196503897216, 11.299079378494994, 11.440450626674119, 12.750009120053214, 12.485069329147457, 12.515649087146778, 12.30585542173923, 11.85446765297043, 12.209662925180924, 12.210041765435573, 12.513631876519527, 12.38092830083323, 11.983833848029699, 12.273710795502163, 12.142172471224148, 12.119852029476908, 12.36216865294437, 12.347850135902076, 12.472265572533187, 12.734921519965011, 12.136342946007971, 11.680584982476057, 11.999953155629225, 11.973749608838624, 11.775481508717624, 11.74543627973995, 11.476784334088574, 11.476209691806536, 11.899320125605023, 11.546286748724771, 11.719606080838725, 11.733930759808336, 11.777664206850199, 11.77064332556333, 12.05594693345605, 11.996000996534379, 12.07721495540971, 12.151852536228455, 12.099341263803018, 12.226695096173387, 12.063376880729798, 12.099245408149534, 11.918200239389739, 12.112697438130468, 12.26675244335292, 12.730907145927, 12.855206345461205, 11.993836867397848, 12.459171563467011, 12.73472393240245, 12.750630629604986, 11.99179907536738, 12.112425083365377, 12.289019639370272, 12.220806877312677, 12.040247617873078, 12.089710874100751, 12.071687643404632, 12.0871699569862, 12.079411353410023, 11.909460320204712, 11.742411769171405, 11.701966210221256, 12.147822715419005, 12.219901876267297, 11.407396118930919, 11.622676595442117, 11.823372176664954, 11.761227953784386, 12.728232408460906, 12.54414686925008, 12.795668657387257, 12.915717247960806, 12.691356893923482, 12.884044417413731, 12.948935092293423, 12.774261820357998, 12.976692120763827, 12.543590817017494, 12.611865849566927, 12.702124973550124, 12.781381526984024, 12.658005591204583, 12.578743449867384, 12.424488957580243, 12.421714751416323, 12.412979281572989, 12.17930284939763, 12.170676354476866, 12.17653627959611, 12.329296698899677, 12.47242877582318, 12.33588720939358, 12.181160202559196, 12.091509204475864, 12.086236484415135, 12.105173465868647, 12.05831209465239, 12.167570528028122, 12.111308329426198, 12.101675445345897, 12.07297986065939, 12.099589851020456, 12.373081002606419, 12.026356957829012, 12.079811416200016, 12.04506126685078, 12.284482637473728, 12.036483980568693, 12.253821025022473, 12.280255869253319, 12.112325354988076, 12.086840151694698, 12.748818025931712, 12.785415116633303, 12.63582265207656, 12.48261225984189, 12.460574691021174, 12.6688953110945, 12.190917092841438, 12.459808981481016, 12.353416816034626, 12.844417402136443, 12.306038100824475, 12.350959872616748, 12.29708840313379, 12.353656344828174, 12.378742802849674, 12.250058799142941, 12.189087263079458, 12.3330856191652, 12.084989567247929, 12.521617668918246, 12.445965557005506, 12.403942419710313, 12.510811308679642, 11.753169684065465, 11.883527372380286, 11.964195896151343, 12.220291302477984, 12.213756794437163, 11.690867070349249, 11.694264284156006, 11.829676955170848, 12.478589749678742, 11.854499565819678, 11.948434508707248, 12.268527817076604, 12.141792681178451, 12.325292556676754, 12.23299805456193, 12.315701515665166, 12.042166049548022, 12.070717727441815, 12.218632803387745, 12.437492791817656, 12.503979215739095, 12.389313520514136, 12.476111208298992, 12.634661721359832, 11.88152764696744, 12.161457774464855, 11.881441606806613, 12.01030541423733, 12.145124671299904, 12.24738978527121, 12.399621832495349, 11.945691458647609, 11.833634795820316, 11.799471744840632, 11.717536978829465, 11.797595211099894, 11.856856706334504, 11.819739680169667, 11.6577768519274, 11.980947799108062, 11.885287593975702, 12.132567851550302, 11.912809914079725, 12.218391890502605, 11.73575870518788, 11.259919178731453, 11.173262837868458, 11.580671004033341, 11.83917166088479, 11.827667770581117, 11.930685216778413, 11.95934649380471, 11.784718492214736, 11.764790373513215, 11.832717617112458, 11.827699982556126, 11.967058249883136, 11.69962109504923, 11.96302215087464, 11.817221804150407, 11.804335536015877, 11.817420602519801, 11.714383370051266, 11.779175483315326, 11.740366406716257, 11.828480789350108, 11.75146346182279, 11.871631125118887, 11.70080019232506, 11.8111200277153, 11.940554493138213, 12.245606589695937, 11.845225218311777, 11.829293824930852, 11.975626221306102, 11.675006748169329, 11.761744836385157, 11.704081250278072, 11.811187756769366, 11.880985916136844, 11.866199916807552, 11.918817363794938, 11.561659917485372, 11.613596754963753, 11.74136899241392, 11.647175045767037, 11.716637528906835, 11.541547182223301, 11.569082914546664, 11.68625799765063, 11.747126467125742, 11.398785408213433, 11.847205646835507, 12.066992480957946, 11.875936208515109, 11.619010374990184, 11.869989370624173, 11.776374637880508, 12.094499596879123, 11.490217698744734, 11.703676488072826, 11.663320345306964, 11.758227277071933, 11.677676081402389, 11.657764269666622, 11.641626370441715, 11.828233035520373, 11.705323149410013, 11.773493457530282, 11.689850362491956, 11.922236027480569, 11.77873639219539, 11.71736086997232, 11.799204305463398, 11.462908146581585, 11.4820215030608, 12.017766825644124, 12.05518627047606, 11.931170199565544, 11.735848409640623, 11.579866748759049, 12.17432392128149, 11.632587322695088, 11.75140398328312, 12.016020340120829, 11.662236192606137, 11.959012813112741, 11.779221161803578, 11.801317436374962, 11.707354661637176, 11.768895125574804, 11.752690260276276, 11.947106571267092, 12.202250393717055, 11.817952848475237, 11.920606491932167, 11.956205988720212, 11.449880486233223, 12.125890978876921, 11.923167651440952, 11.962092688664713, 11.557408308991112, 12.302549842542808, 11.880647186055844, 11.659867007261848, 11.477627551847066, 11.834926083063051, 11.850392872863088, 11.886436654178347, 11.633054347139296, 12.113880244697942, 12.289491421919099, 12.43617415483786, 12.630473810037715, 12.44024252066232, 12.292929194023086, 12.318317383454945, 12.13904872416026, 12.263113971032917, 12.293576363800332, 12.344719928949985, 11.888856146692552, 12.026445667032235, 11.803323976437209, 11.833921581781816, 12.333762115015872, 12.255027757681852, 12.173817806234656, 12.304666642841774, 11.749065296884742, 11.885146595127196, 11.886944434203166, 11.827969116350118, 11.714090996216157, 11.746050565521452, 11.746698233739219, 11.711689076268458, 12.410478144364676, 12.3213051163618, 12.203958277201364, 12.370496812494958, 12.567811275060306, 12.32775847598523, 12.284135375642062, 12.05893288217032, 12.134996037833648, 12.092984598854189, 12.068293139215303, 12.075293959569237, 11.79406385165375, 11.752146128488814, 11.805539887987559, 11.80723765760248, 11.792239010792024, 11.988602635529762, 11.99602475657573, 12.713303872399017, 11.918284626097414, 11.713661610035974, 11.502923455021193, 11.772166123275326, 11.57959031807626, 11.562235317565762, 11.665554482499552, 11.990889756452708, 11.86013517286594, 11.767407826036584, 11.689734552596333, 11.742139435592929, 11.883841872904068, 12.0734179283499, 11.790840015095355, 11.935679896707112, 11.772313710408861, 12.085269200275139, 12.130800211355542, 11.674795673662677, 12.224750519835078, 11.895855414050505, 12.199688794019712, 12.394500650651308, 11.708489472768496, 11.7900553793146, 11.94165297162109, 11.404956838802468, 11.293677301517835, 11.838910972034041, 11.730014525933377, 11.637404763883794, 12.47965449759728, 12.003780932340986, 12.197097117878855, 12.250995759682176, 12.164046823504787, 11.812368469886115, 11.850699391389037, 12.297544274380348, 12.19080027186973, 12.345056596232132, 12.441539049292096, 12.068250078327733, 12.192166656849725, 12.698319999020871, 12.187055713821534, 12.529608758509204, 12.61132992156408, 11.851436077719582, 11.85092967345985, 11.352434614759588, 11.426583000463445, 11.40061085543403, 11.341067881974164, 11.898428764237652, 12.138960634494744, 12.169255221304645, 11.974963782232985, 11.62273142596637, 11.835334431614365, 11.941629516566616, 11.732050709814311, 11.731873052376038, 11.938048466249159, 11.833586195586998, 12.076822785380003, 12.176072534508881, 12.200597190065448, 12.1078443940063, 12.108514484662741, 12.15377955112019, 12.409726404837782, 12.602876464058317, 12.57852129810324, 12.037419329578189, 12.023402723559052, 12.90989785432695, 13.03182290975218, 12.721098925897092, 12.996639886967754, 12.879306689378048, 12.56069799419919, 12.827203013027026, 11.921256269770359, 12.115908231287495, 11.998943779067837, 12.433693813407787, 12.083276884582785, 11.943834116368453, 11.629987934787387, 12.222027652233466, 11.52487336920919, 11.81593262926773, 11.43615514571062, 11.382834612718176, 11.493606062675221, 11.824029072938623, 11.869010382672238, 11.801894672776413, 11.900406826743952, 12.898879192329284, 12.423274154273097, 12.535983422891313, 12.82048373490532, 12.631846997299, 12.638040443831056, 12.554337254704194, 12.586155593335866, 12.728205929556195, 12.709543249641962, 12.756310204187042, 12.53830002051958, 12.465252494983499, 12.612225798012528, 12.51934142926693, 12.043864566868628, 12.077100041570068, 12.080550089678093, 12.536706157591968, 12.079054353821547, 12.146198773425494, 12.237574103496017, 12.230208920643411, 12.030511731107946, 12.143649073906406, 12.168051378386076, 12.442169458615497, 12.4988191393144, 12.54580762192017, 12.789983988096571, 12.679995125196413, 13.083656923571732, 12.647261418532171, 12.681994104458557, 12.456191525654162, 12.601831481105835, 12.314948943225714, 12.213816278508524, 12.822369228550924, 12.201981172987544, 11.785940741272132, 12.198559974653628, 11.774059126692787, 12.185533443468014, 12.119833356213135, 12.188780755469422, 12.221524305315008, 12.166724422103595, 12.091354635370498, 11.992577551686598, 11.718654167448529, 11.80791084896285, 11.86030752020514, 11.745512519704505, 11.723820994967284, 11.724645498959326, 11.806715563290597, 11.617219449677734, 11.755681616360068, 12.524362477326168, 12.769419543332903, 12.064555079746004, 11.895908157081674, 12.049061928211446, 11.94383493566207, 12.127530270470526, 12.383708995302843, 11.971880896477062, 12.022792675492814, 11.828763181595123, 12.01297080453224, 11.866151930777603, 11.76482994274563, 11.82706960497206, 11.886248241974661, 11.980576785649594, 12.026629844949182, 11.909916771473785, 11.885834406612103, 11.643485896730965, 11.712144615654593, 11.980754206992938, 11.906664409511643, 11.823153425922658, 11.886584969009531, 11.733845937563183, 11.821413202676649, 11.988534682206248, 11.801359611916627, 11.905413153894697, 11.92523334091361, 11.919542182251085, 11.896112393739074, 11.808886971374276, 11.787765323141016, 11.90267002330062, 11.753876259441519, 11.794015562490648, 11.809543364989912, 11.775745926362866, 12.229225360163364, 11.89842287599208, 12.23459610852904, 11.760325076352556, 11.545472772063924, 11.353768231038481, 11.494581339696056, 11.908863283250321, 11.86275948878592, 11.899871213455146, 11.884323225941534, 12.078901512317316, 11.935314398767193, 12.369260570718154, 11.80823738153108, 11.451934017506137, 11.808245894004585, 11.786609301912037, 11.880530216628937, 11.673172534270511, 11.691237831345406, 12.006574883839432, 11.847812296280035, 11.764782758541449, 11.787971294694799, 11.81298693236909, 11.542699374448928, 11.85611063883375, 11.555006774677825, 11.516831250283824, 11.545387478938673, 11.622223224109119, 11.744627141937475, 11.844126931744256, 11.252181950882779, 11.679002074813857, 11.414355242815475, 11.930424654957172, 11.512663236025235, 11.672460964953473, 11.31246376500692, 11.941452532112642, 11.58116446579591, 11.696304845779283, 11.453699430147559, 12.125802446445642, 11.669686648275485, 11.661294475453051, 11.178220792458326, 11.627069009964911, 11.79624944746482, 11.990932317788083, 11.82664776410449, 11.447639363771444, 11.440852628320824, 11.848567750907561, 11.914287010885078, 11.788190903292646, 11.806361904346293, 12.015743208907933, 11.913672917470144, 12.045104685581844, 11.99091359607383, 11.523396610435475, 12.29141950951226, 11.893084958421783, 11.786808644782603, 11.995744568959969, 11.872080703023059, 11.639561553560139, 12.07988724807463, 12.404576607912713, 12.066947287136678, 11.902504106431365, 11.82684498237707, 11.843521399639203, 12.358776272712005, 12.200711377709844, 12.33253269552276, 12.156041971341505, 12.463894952401194, 12.545988172743543, 12.293560793630482, 12.296914633225196, 12.189031069195257, 12.049569552711352, 11.869648422748128, 12.1190826216646, 12.155875133786243, 12.19706144818979, 12.31281329418473, 11.905566990942086, 11.966357341124121, 11.716813189816579, 12.233955815739066, 12.215916085408182, 12.233283019135675, 12.247936414837838, 12.480596313993466, 12.323453109629746, 12.339845987507246, 12.346273103371997, 11.852721566212127, 12.23224356896557, 12.224749931460801, 12.13774554617937, 12.205621867484274, 11.878543233927044, 11.75545795681814, 11.854595712206116, 12.194406921476336, 11.717407390978543, 12.422286958345762, 11.860915680847201, 11.802083448895381, 11.513921158850827, 11.655270603666672, 11.75511552023221, 11.966336856237133, 11.56010394276187, 11.103181796785407, 11.622056513186665, 11.847584807841235, 11.678926850996612, 11.909455984997068, 11.808737732592647, 12.0014731431269, 11.811936725007925, 11.6227976709432, 11.887241854448542, 11.982809753364052, 12.046189437687252, 12.066060272866608, 12.051169337947504, 12.184702985050851, 11.536473864676324, 11.728968508389562, 11.088420879526996, 11.391140672306976, 11.845954581501319, 11.006509125936887, 11.570918399230093, 11.189059786533294, 12.625581401535879, 12.539568387986881, 12.212986010763885, 11.907199563126621, 12.301783246080204, 11.97826298328846, 12.131025450746765, 12.18367386520341, 12.705669729949477, 12.737655725691338, 11.532887985252133, 12.139040208004005, 11.656945790474147, 11.720615541587556, 11.885422954568076, 11.35151070132107, 11.356766183402327, 11.929998532165882, 11.384094640236501, 11.354690871244252, 11.37587530476167, 11.370730579000952, 11.990707827544759, 11.627189077453465, 12.314754819967877]}\n"
          ],
          "name": "stdout"
        }
      ]
    },
    {
      "cell_type": "code",
      "metadata": {
        "colab_type": "code",
        "id": "5ZdkOJp0EqqE",
        "outputId": "81c0ab64-f71a-4ca0-96e2-d3523226b058",
        "colab": {
          "base_uri": "https://localhost:8080/",
          "height": 225
        }
      },
      "source": [
        "submission = pd.DataFrame(submiss)\n",
        "print(submission.head())\n",
        "\"\\n\"\n",
        "\"\\n\"\n",
        "\"\\n\"\n",
        "print(submission.tail())"
      ],
      "execution_count": 61,
      "outputs": [
        {
          "output_type": "stream",
          "text": [
            "         Id  SalePrice\n",
            "0  7.287561  11.705338\n",
            "1  7.288244  11.970325\n",
            "2  7.288928  12.096652\n",
            "3  7.289611  12.141390\n",
            "4  7.290293  12.169190\n",
            "            Id  SalePrice\n",
            "1454  7.977968  11.375875\n",
            "1455  7.978311  11.370731\n",
            "1456  7.978654  11.990708\n",
            "1457  7.978996  11.627189\n",
            "1458  7.979339  12.314755\n"
          ],
          "name": "stdout"
        }
      ]
    },
    {
      "cell_type": "code",
      "metadata": {
        "colab_type": "code",
        "id": "VJ5oJxpyFkt-",
        "colab": {}
      },
      "source": [
        "from google.colab import files\n",
        "\n",
        "submission.to_csv('submission_rf2.csv', index=False)\n",
        "# files.download('submission_rf2.csv')"
      ],
      "execution_count": 0,
      "outputs": []
    },
    {
      "cell_type": "markdown",
      "metadata": {
        "colab_type": "text",
        "id": "0wjeEkvJFa8f"
      },
      "source": [
        "We can now upload our submission file to Kaggle and check how well our model performs on the unseen test data."
      ]
    }
  ]
}